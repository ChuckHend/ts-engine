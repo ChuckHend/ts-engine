{
 "cells": [
  {
   "cell_type": "code",
   "execution_count": null,
   "metadata": {},
   "outputs": [],
   "source": [
    "from sqlalchemy import *\n",
    "import pandas as pd\n",
    "import numpy as np\n",
    "import random\n",
    "import getpass\n",
    "\n",
    "pd.options.display.max_rows = 99999\n",
    "pd.options.display.max_columns = 99999"
   ]
  },
  {
   "cell_type": "code",
   "execution_count": null,
   "metadata": {},
   "outputs": [],
   "source": [
    "# setup engine to archbox psql database\n",
    "user='ahendel'\n",
    "passwd=getpass.getpass('Enter Passwd: ')"
   ]
  },
  {
   "cell_type": "code",
   "execution_count": null,
   "metadata": {},
   "outputs": [],
   "source": [
    "arch_engine = create_engine(\"postgresql://{}:{}@192.168.0.2:5432/sampalytics\".format(user,passwd))"
   ]
  },
  {
   "cell_type": "code",
   "execution_count": null,
   "metadata": {},
   "outputs": [],
   "source": [
    "# get list of tickers in our db\n",
    "tickers = arch_engine.engine.execute('SELECT DISTINCT ticker from stocks.minute').fetchall()\n",
    "# convert to list, ie get the tickers out of the tuples\n",
    "tickers = [x[0] for x in tickers]"
   ]
  },
  {
   "cell_type": "code",
   "execution_count": null,
   "metadata": {},
   "outputs": [],
   "source": [
    "outcome = 'AMD'\n",
    "n_predictors = 100"
   ]
  },
  {
   "cell_type": "code",
   "execution_count": null,
   "metadata": {},
   "outputs": [],
   "source": [
    "def prune_list(outcome, ticks, n_predictors):\n",
    "    # remove the outcome var so we dont randomly select it and create duplicates\n",
    "    ticks = [x for x in ticks if x not in outcome] # .remove causes pointer issue\n",
    "    # convert list of tickers to df so we can index\n",
    "    df = pd.DataFrame(ticks)\n",
    "    # randomly select the rows we want to take\n",
    "    rows = random.sample(range(len(ticks)), n_predictors)\n",
    "    # then select the rows subset\n",
    "    df = df.iloc[rows]\n",
    "    return [outcome] + list(df[0])"
   ]
  },
  {
   "cell_type": "code",
   "execution_count": null,
   "metadata": {},
   "outputs": [],
   "source": [
    "tickers = prune_list(outcome=outcome, ticks=tickers, n_predictors=n_predictors)"
   ]
  },
  {
   "cell_type": "code",
   "execution_count": null,
   "metadata": {},
   "outputs": [],
   "source": [
    "# custom header\n",
    "full_df = pd.DataFrame(columns=['dtg'])\n",
    "# predictors = ['open', 'high', 'low', 'close', 'volume']\n",
    "predictors = ['close', 'volume'] # try less to save memory\n",
    "i = 1\n",
    "for ticker in tickers:\n",
    "    header = ['dtg'] + [x + '_' + str(ticker) for x in predictors]\n",
    "    select=', '.join(['dtg'] + predictors)\n",
    "    # d = arch_engine.engine.execute(\"SELECT DISTINCT dtg, open, high, low, close, volume from stocks.minute WHERE ticker='{}'\".format(ticker)).fetchall()\n",
    "    d = arch_engine.engine.execute(\"SELECT DISTINCT {} from stocks.minute WHERE ticker='{}'\".format(select, ticker)).fetchall()\n",
    "    d = pd.DataFrame(d, columns=header).dropna()\n",
    "    print('Loading: {}: {}'.format(ticker, i))\n",
    "    i = i + 1\n",
    "    full_df = pd.merge(full_df, d, on='dtg', how='outer')"
   ]
  },
  {
   "cell_type": "code",
   "execution_count": null,
   "metadata": {},
   "outputs": [],
   "source": [
    "# ie. row 1 is Jan 1, row 2 in Jan 2.\n",
    "full_df.sort_values('dtg', inplace=True)\n",
    "# and do a forward fill\n",
    "full_df.fillna(method='ffill', inplace=True)\n",
    "# then drop the NA\n",
    "full_df.dropna(inplace=True)\n",
    "# rename dtg to date for TS package\n",
    "full_df.rename(columns={'dtg':'Date'}, inplace=True)"
   ]
  },
  {
   "cell_type": "code",
   "execution_count": null,
   "metadata": {},
   "outputs": [],
   "source": [
    "full_df.to_csv('/mnt/ubudata/projects/data/AMD_plus_100.csv',index=None)"
   ]
  },
  {
   "cell_type": "code",
   "execution_count": null,
   "metadata": {},
   "outputs": [],
   "source": [
    "# continue in main-notebook of forecast engine"
   ]
  },
  {
   "cell_type": "code",
   "execution_count": null,
   "metadata": {},
   "outputs": [],
   "source": []
  }
 ],
 "metadata": {
  "kernelspec": {
   "display_name": "Python 3",
   "language": "python",
   "name": "python3"
  },
  "language_info": {
   "codemirror_mode": {
    "name": "ipython",
    "version": 3
   },
   "file_extension": ".py",
   "mimetype": "text/x-python",
   "name": "python",
   "nbconvert_exporter": "python",
   "pygments_lexer": "ipython3",
   "version": "3.6.5"
  }
 },
 "nbformat": 4,
 "nbformat_minor": 2
}
