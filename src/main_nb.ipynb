{
 "cells": [
  {
   "cell_type": "code",
   "execution_count": 1,
   "metadata": {},
   "outputs": [
    {
     "name": "stderr",
     "output_type": "stream",
     "text": [
      "C:\\Users\\hende\\Anaconda3\\lib\\site-packages\\h5py\\__init__.py:36: FutureWarning: Conversion of the second argument of issubdtype from `float` to `np.floating` is deprecated. In future, it will be treated as `np.float64 == np.dtype(float).type`.\n",
      "  from ._conv import register_converters as _register_converters\n",
      "Using TensorFlow backend.\n"
     ]
    }
   ],
   "source": [
    "import os\n",
    "os.environ['CUDA_VISIBLE_DEVICES'] = '-1' # to disable GPU\n",
    "import featureEng as fe\n",
    "import processStocks as ps\n",
    "import getStocks\n",
    "import visualize\n",
    "import predicts\n",
    "import pandas as pd\n",
    "import TS_LSTM as ts_lstm\n",
    "\n",
    "pd.options.display.max_columns = 999\n",
    "pd.options.display.max_rows = 999"
   ]
  },
  {
   "cell_type": "code",
   "execution_count": 2,
   "metadata": {},
   "outputs": [
    {
     "name": "stdout",
     "output_type": "stream",
     "text": [
      "[name: \"/device:CPU:0\"\n",
      "device_type: \"CPU\"\n",
      "memory_limit: 268435456\n",
      "locality {\n",
      "}\n",
      "incarnation: 691821314675312959\n",
      "]\n"
     ]
    }
   ],
   "source": [
    "# view tenslow enabled devices\n",
    "from tensorflow.python.client import device_lib\n",
    "print(device_lib.list_local_devices())"
   ]
  },
  {
   "cell_type": "markdown",
   "metadata": {},
   "source": [
    "# User parameters"
   ]
  },
  {
   "cell_type": "code",
   "execution_count": 3,
   "metadata": {},
   "outputs": [],
   "source": [
    "ticker = 'amd'.upper()\n",
    "n_in = 100 # number of historical days to input\n",
    "n_out = 1 # days into future to predict\n",
    "target = 'd1close'"
   ]
  },
  {
   "cell_type": "markdown",
   "metadata": {},
   "source": [
    "# Load Data\n",
    "### Several methods available here:\n",
    "* Load a single stock\n",
    "* get a refresh of the stock\n",
    "* load a single stock as the target while using many other stocks as additional features"
   ]
  },
  {
   "cell_type": "code",
   "execution_count": 4,
   "metadata": {},
   "outputs": [
    {
     "name": "stdout",
     "output_type": "stream",
     "text": [
      "Loaded AMD\n"
     ]
    }
   ],
   "source": [
    "# load dataset\n",
    "# dataset = getStocks.get_single(ticker=ticker, save=True)\n",
    "dataset = getStocks.load_single(ticker)\n",
    "#dataset = getStocks.join_tgt_spt(target_ticker=ticker.upper(), number_spt=20)\n",
    "dataset.reset_index(level=0, inplace=True)\n",
    "dataset.rename(columns=lambda x: x.replace(' ',''),inplace=True)"
   ]
  },
  {
   "cell_type": "markdown",
   "metadata": {},
   "source": [
    "# Prepare Data for LSTM"
   ]
  },
  {
   "cell_type": "code",
   "execution_count": 5,
   "metadata": {},
   "outputs": [
    {
     "name": "stderr",
     "output_type": "stream",
     "text": [
      "T:\\Dropbox\\Projects\\LSTM-forecast\\src\\TS_LSTM.py:90: SettingWithCopyWarning: \n",
      "A value is trying to be set on a copy of a slice from a DataFrame\n",
      "\n",
      "See the caveats in the documentation: http://pandas.pydata.org/pandas-docs/stable/indexing.html#indexing-view-versus-copy\n",
      "  self.data.drop('Date', axis=1, inplace=True)\n"
     ]
    }
   ],
   "source": [
    "# using default options\n",
    "'''\n",
    "ts_data=ts_lstm.ts_data.default_prep(n_in=n_in, n_out=n_out, \n",
    "                      ticker=ticker,target=target,\n",
    "                      rawData=dataset)\n",
    "'''\n",
    "\n",
    "ts_data = ts_lstm.ts_data(n_in=n_in, n_out=n_out, \n",
    "                      ticker=ticker,target=target,\n",
    "                      rawData=dataset)\n",
    "ts_data.eng_features(derivate=True, weekdays=False)\n",
    "ts_data.roll_data()\n",
    "ts_data.tscv(train=0.99)"
   ]
  },
  {
   "cell_type": "markdown",
   "metadata": {},
   "source": [
    "# Build LSTM Architecture"
   ]
  },
  {
   "cell_type": "code",
   "execution_count": 6,
   "metadata": {},
   "outputs": [
    {
     "name": "stdout",
     "output_type": "stream",
     "text": [
      "Compilation Time :  0.023294925689697266\n",
      "_________________________________________________________________\n",
      "Layer (type)                 Output Shape              Param #   \n",
      "=================================================================\n",
      "lstm_1 (LSTM)                (None, 22)                2992      \n",
      "_________________________________________________________________\n",
      "dropout_1 (Dropout)          (None, 22)                0         \n",
      "_________________________________________________________________\n",
      "dense_1 (Dense)              (None, 1)                 23        \n",
      "=================================================================\n",
      "Total params: 3,015\n",
      "Trainable params: 3,015\n",
      "Non-trainable params: 0\n",
      "_________________________________________________________________\n"
     ]
    }
   ],
   "source": [
    "ts_model = ts_lstm.build_model(ts_data, \n",
    "                               inlayer=int(ts_data.train_X.shape[-1])*2,\n",
    "                               hiddenlayers=0,\n",
    "                               loss_function='mean_squared_error',\n",
    "                               dropout=0.05,\n",
    "                               activation='tanh')"
   ]
  },
  {
   "cell_type": "markdown",
   "metadata": {},
   "source": [
    "# Fit model"
   ]
  },
  {
   "cell_type": "code",
   "execution_count": 7,
   "metadata": {},
   "outputs": [
    {
     "name": "stdout",
     "output_type": "stream",
     "text": [
      "Train on 9331 samples, validate on 95 samples\n",
      "Epoch 1/50\n",
      " - 2s - loss: 0.4498 - val_loss: 0.3251\n",
      "Epoch 2/50\n",
      " - 1s - loss: 0.4238 - val_loss: 0.3015\n",
      "Epoch 3/50\n",
      " - 1s - loss: 0.4066 - val_loss: 0.2836\n",
      "Epoch 4/50\n",
      " - 1s - loss: 0.3896 - val_loss: 0.2675\n",
      "Epoch 5/50\n",
      " - 1s - loss: 0.3776 - val_loss: 0.2529\n",
      "Epoch 6/50\n",
      " - 1s - loss: 0.3610 - val_loss: 0.2400\n",
      "Epoch 7/50\n",
      " - 1s - loss: 0.3489 - val_loss: 0.2283\n",
      "Epoch 8/50\n",
      " - 1s - loss: 0.3350 - val_loss: 0.2180\n",
      "Epoch 9/50\n",
      " - 1s - loss: 0.3300 - val_loss: 0.2087\n",
      "Epoch 10/50\n",
      " - 1s - loss: 0.3219 - val_loss: 0.2004\n",
      "Epoch 11/50\n",
      " - 1s - loss: 0.3137 - val_loss: 0.1932\n",
      "Epoch 12/50\n",
      " - 1s - loss: 0.3089 - val_loss: 0.1867\n",
      "Epoch 13/50\n",
      " - 1s - loss: 0.3022 - val_loss: 0.1811\n",
      "Epoch 14/50\n",
      " - 1s - loss: 0.2970 - val_loss: 0.1763\n",
      "Epoch 15/50\n",
      " - 1s - loss: 0.2901 - val_loss: 0.1720\n",
      "Epoch 16/50\n",
      " - 1s - loss: 0.2906 - val_loss: 0.1683\n",
      "Epoch 17/50\n",
      " - 1s - loss: 0.2863 - val_loss: 0.1651\n",
      "Epoch 18/50\n",
      " - 1s - loss: 0.2835 - val_loss: 0.1623\n",
      "Epoch 19/50\n",
      " - 1s - loss: 0.2809 - val_loss: 0.1597\n",
      "Epoch 20/50\n",
      " - 1s - loss: 0.2783 - val_loss: 0.1575\n",
      "Epoch 21/50\n",
      " - 1s - loss: 0.2769 - val_loss: 0.1556\n",
      "Epoch 22/50\n",
      " - 1s - loss: 0.2753 - val_loss: 0.1539\n",
      "Epoch 23/50\n",
      " - 1s - loss: 0.2729 - val_loss: 0.1524\n",
      "Epoch 24/50\n",
      " - 1s - loss: 0.2706 - val_loss: 0.1511\n",
      "Epoch 25/50\n",
      " - 1s - loss: 0.2700 - val_loss: 0.1498\n",
      "Epoch 26/50\n",
      " - 1s - loss: 0.2696 - val_loss: 0.1487\n",
      "Epoch 27/50\n",
      " - 1s - loss: 0.2671 - val_loss: 0.1477\n",
      "Epoch 28/50\n",
      " - 1s - loss: 0.2679 - val_loss: 0.1468\n",
      "Epoch 29/50\n",
      " - 1s - loss: 0.2663 - val_loss: 0.1460\n",
      "Epoch 30/50\n",
      " - 1s - loss: 0.2660 - val_loss: 0.1453\n",
      "Epoch 31/50\n",
      " - 1s - loss: 0.2632 - val_loss: 0.1447\n",
      "Epoch 32/50\n",
      " - 1s - loss: 0.2644 - val_loss: 0.1442\n",
      "Epoch 33/50\n",
      " - 1s - loss: 0.2639 - val_loss: 0.1435\n",
      "Epoch 34/50\n",
      " - 1s - loss: 0.2625 - val_loss: 0.1429\n",
      "Epoch 35/50\n",
      " - 1s - loss: 0.2615 - val_loss: 0.1424\n",
      "Epoch 36/50\n",
      " - 1s - loss: 0.2609 - val_loss: 0.1419\n",
      "Epoch 37/50\n",
      " - 1s - loss: 0.2604 - val_loss: 0.1414\n",
      "Epoch 38/50\n",
      " - 1s - loss: 0.2599 - val_loss: 0.1409\n",
      "Epoch 39/50\n",
      " - 1s - loss: 0.2575 - val_loss: 0.1405\n",
      "Epoch 40/50\n",
      " - 1s - loss: 0.2574 - val_loss: 0.1401\n",
      "Epoch 41/50\n",
      " - 1s - loss: 0.2569 - val_loss: 0.1397\n",
      "Epoch 42/50\n",
      " - 1s - loss: 0.2567 - val_loss: 0.1393\n",
      "Epoch 43/50\n",
      " - 1s - loss: 0.2573 - val_loss: 0.1390\n",
      "Epoch 44/50\n",
      " - 1s - loss: 0.2552 - val_loss: 0.1388\n",
      "Epoch 45/50\n",
      " - 1s - loss: 0.2545 - val_loss: 0.1384\n",
      "Epoch 46/50\n",
      " - 1s - loss: 0.2548 - val_loss: 0.1381\n",
      "Epoch 47/50\n",
      " - 1s - loss: 0.2550 - val_loss: 0.1377\n",
      "Epoch 48/50\n",
      " - 1s - loss: 0.2545 - val_loss: 0.1374\n",
      "Epoch 49/50\n",
      " - 1s - loss: 0.2523 - val_loss: 0.1372\n",
      "Epoch 50/50\n",
      " - 1s - loss: 0.2515 - val_loss: 0.1369\n"
     ]
    }
   ],
   "source": [
    "history = ts_model.fit(ts_data.train_X, ts_data.train_y, \n",
    "                    epochs=50, \n",
    "                    batch_size=1024, \n",
    "                    validation_data=(ts_data.test_X, ts_data.test_y), \n",
    "                    verbose=2, \n",
    "                    shuffle=False)"
   ]
  },
  {
   "cell_type": "code",
   "execution_count": 8,
   "metadata": {
    "scrolled": true
   },
   "outputs": [
    {
     "data": {
      "image/png": "[encoded data removed]",
      "text/plain": [
       "<matplotlib.figure.Figure at 0x2c5979d02b0>"
      ]
     },
     "metadata": {},
     "output_type": "display_data"
    }
   ],
   "source": [
    "visualize.plot_loss(history)"
   ]
  },
  {
   "cell_type": "markdown",
   "metadata": {},
   "source": [
    "# Results"
   ]
  },
  {
   "cell_type": "code",
   "execution_count": 9,
   "metadata": {},
   "outputs": [],
   "source": [
    "# select last 30 days of test data (30 records)\n",
    "test_X = ts_data.test_X[-30:]\n",
    "test_Y = ts_data.test_y[-30:]"
   ]
  },
  {
   "cell_type": "code",
   "execution_count": 25,
   "metadata": {},
   "outputs": [
    {
     "data": {
      "text/plain": [
       "array([ 0.14 , -0.17 ,  0.03 , -0.05 ,  0.18 ,  0.13 , -0.04 ,  0.06 ,\n",
       "       -0.03 ,  0.01 ,  0.17 , -0.38 , -0.34 ,  0.06 , -0.16 , -0.7  ,\n",
       "       -0.12 ,  0.09 ,  0.04 , -0.1  ,  0.22 , -0.26 ,  0.21 ,  0.02 ,\n",
       "        0.16 ,  0.69 , -0.03 ,  0.03 , -0.09 , -0.445])"
      ]
     },
     "execution_count": 25,
     "metadata": {},
     "output_type": "execute_result"
    }
   ],
   "source": [
    "test_Y[:,0]\n",
    "# [print(x.shape) for x in test_X]"
   ]
  },
  {
   "cell_type": "code",
   "execution_count": 20,
   "metadata": {},
   "outputs": [],
   "source": [
    "yhat = [float(ts_model.predict(x.reshape(1, 100, 11))) for x in test_X]"
   ]
  },
  {
   "cell_type": "code",
   "execution_count": 29,
   "metadata": {},
   "outputs": [
    {
     "data": {
      "image/png": "[encoded data removed]",
      "text/plain": [
       "<matplotlib.figure.Figure at 0x2c5ab1d6828>"
      ]
     },
     "metadata": {},
     "output_type": "display_data"
    }
   ],
   "source": [
    "import matplotlib.pyplot as plt\n",
    "x = [x for x in range(len(yhat))]\n",
    "plt.plot(x, yhat, label='predicted change in price')\n",
    "plt.plot(x, test_Y[:,0], label='actual change in price')\n",
    "plt.title(ticker)\n",
    "plt.xlabel('days')\n",
    "plt.ylabel('amount change in price')\n",
    "plt.legend()\n",
    "plt.show()"
   ]
  },
  {
   "cell_type": "code",
   "execution_count": null,
   "metadata": {},
   "outputs": [],
   "source": []
  }
 ],
 "metadata": {
  "kernelspec": {
   "display_name": "Python 3",
   "language": "python",
   "name": "python3"
  },
  "language_info": {
   "codemirror_mode": {
    "name": "ipython",
    "version": 3
   },
   "file_extension": ".py",
   "mimetype": "text/x-python",
   "name": "python",
   "nbconvert_exporter": "python",
   "pygments_lexer": "ipython3",
   "version": "3.6.3"
  }
 },
 "nbformat": 4,
 "nbformat_minor": 2
}
