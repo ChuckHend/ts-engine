{
 "cells": [
  {
   "cell_type": "code",
   "execution_count": null,
   "metadata": {},
   "outputs": [],
   "source": [
    "import os\n",
    "# os.environ['CUDA_VISIBLE_DEVICES'] = '-1' # to disable GPU\n",
    "from ts_data.ts_data import ts_data as ts\n",
    "import getStocks\n",
    "import visualize\n",
    "import ts_models.predicts\n",
    "import pandas as pd\n",
    "import ts_models.ts_lstm as ts_lstm\n",
    "\n",
    "#pd.options.display.max_columns = 999\n",
    "#pd.options.display.max_rows = 999"
   ]
  },
  {
   "cell_type": "code",
   "execution_count": null,
   "metadata": {},
   "outputs": [],
   "source": [
    "# view tenslow enabled devices\n",
    "#from tensorflow.python.client import device_lib\n",
    "#print(device_lib.list_local_devices())"
   ]
  },
  {
   "cell_type": "markdown",
   "metadata": {},
   "source": [
    "# User parameters"
   ]
  },
  {
   "cell_type": "code",
   "execution_count": null,
   "metadata": {},
   "outputs": [],
   "source": [
    "ticker = 'amd'.upper()\n",
    "n_in = 100 # number of historical days to input\n",
    "n_out = 20 # days into future to predict\n",
    "target = 'd1close'"
   ]
  },
  {
   "cell_type": "markdown",
   "metadata": {},
   "source": [
    "# Load Data\n",
    "### Several methods available here:\n",
    "* Load a single stock\n",
    "* get a refresh of the stock\n",
    "* load a single stock as the target while using many other stocks as additional features"
   ]
  },
  {
   "cell_type": "markdown",
   "metadata": {},
   "source": [
    "## Pick the Sector and/or Industry\n",
    "\n",
    "Purpose is to come up with a list of tickers and their corresponding exchange"
   ]
  },
  {
   "cell_type": "code",
   "execution_count": null,
   "metadata": {},
   "outputs": [],
   "source": [
    "#d=getStocks.get_tickers_industry()\n",
    "#d.to_csv('tickers_w_industry.csv')"
   ]
  },
  {
   "cell_type": "code",
   "execution_count": null,
   "metadata": {},
   "outputs": [],
   "source": [
    "import imp\n",
    "imp.reload(getStocks)"
   ]
  },
  {
   "cell_type": "code",
   "execution_count": null,
   "metadata": {},
   "outputs": [],
   "source": [
    "# load dataset\n",
    "# dataset = getStocks.get_single(ticker=ticker, save=True)\n",
    "# dataset = getStocks.load_single(ticker)\n",
    "dataset = getStocks.join_tgt_spt(target_ticker=ticker.upper(), industry=['Semiconductors'], exclude=['MU','QRVO'])\n",
    "# dataset.reset_index(level=0, inplace=True, drop=True)\n",
    "dataset.rename(columns=lambda x: x.replace(' ',''),inplace=True)"
   ]
  },
  {
   "cell_type": "code",
   "execution_count": null,
   "metadata": {},
   "outputs": [],
   "source": [
    "dataset.head()"
   ]
  },
  {
   "cell_type": "markdown",
   "metadata": {},
   "source": [
    "# Prepare Data for LSTM"
   ]
  },
  {
   "cell_type": "code",
   "execution_count": null,
   "metadata": {},
   "outputs": [],
   "source": [
    "ts_data = ts(n_in=n_in, \n",
    "             n_out=n_out, \n",
    "             ticker=ticker,\n",
    "             target=target,\n",
    "             rawData=dataset)"
   ]
  },
  {
   "cell_type": "code",
   "execution_count": null,
   "metadata": {},
   "outputs": [],
   "source": [
    "ts_data.eng_features(derivate=True, weekdays=False)"
   ]
  },
  {
   "cell_type": "code",
   "execution_count": null,
   "metadata": {},
   "outputs": [],
   "source": [
    "ts_data.roll_data()"
   ]
  },
  {
   "cell_type": "code",
   "execution_count": null,
   "metadata": {},
   "outputs": [],
   "source": [
    "ts_data.tscv(train=0.98)"
   ]
  },
  {
   "cell_type": "code",
   "execution_count": null,
   "metadata": {},
   "outputs": [],
   "source": [
    "ts_data.data.tail()"
   ]
  },
  {
   "cell_type": "markdown",
   "metadata": {},
   "source": [
    "# Build LSTM Architecture"
   ]
  },
  {
   "cell_type": "code",
   "execution_count": null,
   "metadata": {},
   "outputs": [],
   "source": [
    "ts_model = ts_lstm.lstm_model(ts_data, \n",
    "                               inlayer=int(ts_data.train_X.shape[-1])*2,\n",
    "                               hiddenlayers=0,\n",
    "                               loss_function='mean_squared_error',\n",
    "                               dropout=0.05,\n",
    "                               activation='tanh',\n",
    "                               gpus=1)"
   ]
  },
  {
   "cell_type": "markdown",
   "metadata": {},
   "source": [
    "# Fit model"
   ]
  },
  {
   "cell_type": "code",
   "execution_count": null,
   "metadata": {},
   "outputs": [],
   "source": [
    "import time\n",
    "start = time.time()\n",
    "history = ts_model.fit(ts_data.train_X, ts_data.train_y, \n",
    "                    epochs=50, \n",
    "                    batch_size=1024, \n",
    "                    validation_data=(ts_data.test_X, ts_data.test_y), \n",
    "                    verbose=2, \n",
    "                    shuffle=False)\n",
    "fitTime = time.time()-start\n",
    "print('Fit Time: {}'.format(round(fitTime,2)))"
   ]
  },
  {
   "cell_type": "code",
   "execution_count": null,
   "metadata": {
    "scrolled": false
   },
   "outputs": [],
   "source": [
    "visualize.plot_loss(history)"
   ]
  },
  {
   "cell_type": "markdown",
   "metadata": {},
   "source": [
    "# Results"
   ]
  },
  {
   "cell_type": "code",
   "execution_count": null,
   "metadata": {},
   "outputs": [],
   "source": [
    "# select the last sequence of data (it is length of n_in)\n",
    "test_X = ts_data.test_X[-1]\n",
    "test_Y = ts_data.test_y[-1]"
   ]
  },
  {
   "cell_type": "code",
   "execution_count": null,
   "metadata": {},
   "outputs": [],
   "source": [
    "test_X.reshape(1, 100, 70).shape"
   ]
  },
  {
   "cell_type": "code",
   "execution_count": null,
   "metadata": {},
   "outputs": [],
   "source": [
    "yhat = ts_model.predict(test_X.reshape(1, test_X.shape[-2], test_X.shape[-1]))"
   ]
  },
  {
   "cell_type": "code",
   "execution_count": null,
   "metadata": {},
   "outputs": [],
   "source": [
    "import matplotlib.pyplot as plt\n",
    "x = [x for x in range(len(yhat[0]))]\n",
    "plt.plot(x, yhat[0], label='predicted change in price')\n",
    "plt.plot(x, test_Y, label='actual change in price')\n",
    "plt.title(ticker)\n",
    "plt.xlabel('days')\n",
    "plt.ylabel('amount change in price')\n",
    "plt.legend()\n",
    "plt.show()"
   ]
  }
 ],
 "metadata": {
  "kernelspec": {
   "display_name": "Python 3",
   "language": "python",
   "name": "python3"
  },
  "language_info": {
   "codemirror_mode": {
    "name": "ipython",
    "version": 3
   },
   "file_extension": ".py",
   "mimetype": "text/x-python",
   "name": "python",
   "nbconvert_exporter": "python",
   "pygments_lexer": "ipython3",
   "version": "3.6.4"
  }
 },
 "nbformat": 4,
 "nbformat_minor": 2
}
