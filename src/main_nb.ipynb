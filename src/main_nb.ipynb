{
 "cells": [
  {
   "cell_type": "code",
   "execution_count": 1,
   "metadata": {},
   "outputs": [],
   "source": [
    "# to disable GPU\n",
    "# import os\n",
    "# os.environ['CUDA_VISIBLE_DEVICES'] = '-1'"
   ]
  },
  {
   "cell_type": "code",
   "execution_count": 2,
   "metadata": {},
   "outputs": [
    {
     "name": "stderr",
     "output_type": "stream",
     "text": [
      "/usr/local/anaconda/lib/python3.6/site-packages/h5py/__init__.py:36: FutureWarning: Conversion of the second argument of issubdtype from `float` to `np.floating` is deprecated. In future, it will be treated as `np.float64 == np.dtype(float).type`.\n",
      "  from ._conv import register_converters as _register_converters\n",
      "Using TensorFlow backend.\n"
     ]
    }
   ],
   "source": [
    "import os\n",
    "# os.chdir('T:/Dropbox/Projects/LSTM-forecast/src')\n",
    "import featureEng as fe\n",
    "import processStocks as ps\n",
    "import lstm\n",
    "import getStocks\n",
    "import visualize\n",
    "import predicts\n",
    "import pandas as pd"
   ]
  },
  {
   "cell_type": "code",
   "execution_count": 3,
   "metadata": {},
   "outputs": [],
   "source": [
    "pd.options.display.max_columns = 999\n",
    "pd.options.display.max_rows = 999"
   ]
  },
  {
   "cell_type": "code",
   "execution_count": 4,
   "metadata": {},
   "outputs": [
    {
     "name": "stdout",
     "output_type": "stream",
     "text": [
      "[name: \"/device:CPU:0\"\n",
      "device_type: \"CPU\"\n",
      "memory_limit: 268435456\n",
      "locality {\n",
      "}\n",
      "incarnation: 9226074297802423653\n",
      ", name: \"/device:GPU:0\"\n",
      "device_type: \"GPU\"\n",
      "memory_limit: 7549114778\n",
      "locality {\n",
      "  bus_id: 1\n",
      "  links {\n",
      "  }\n",
      "}\n",
      "incarnation: 1314512787854773845\n",
      "physical_device_desc: \"device: 0, name: GeForce GTX 1070, pci bus id: 0000:65:00.0, compute capability: 6.1\"\n",
      "]\n"
     ]
    }
   ],
   "source": [
    "# view tenslow enabled devices\n",
    "from tensorflow.python.client import device_lib\n",
    "print(device_lib.list_local_devices())"
   ]
  },
  {
   "cell_type": "markdown",
   "metadata": {},
   "source": [
    "# User parameters"
   ]
  },
  {
   "cell_type": "code",
   "execution_count": 5,
   "metadata": {},
   "outputs": [],
   "source": [
    "####TODO: reshaping so we can plot various n_in, n_out\n",
    "# model seems to work, but cant redim for plot\n",
    "ticker = 'unh'\n",
    "n_in = 5 #number of historical days to input\n",
    "n_out = 5\n",
    "target = 'Close'\n",
    "rngSpt = 20 # number of random stocks to select as the supporting data features"
   ]
  },
  {
   "cell_type": "code",
   "execution_count": 6,
   "metadata": {},
   "outputs": [],
   "source": [
    "# collect a bunch of data from the market, save it to directory\n",
    "# getStocks.get_mkt_data(source='yahoo')"
   ]
  },
  {
   "cell_type": "markdown",
   "metadata": {},
   "source": [
    "# Load Data\n",
    "### Several methods available here:\n",
    "* Load a single stock\n",
    "* get a refresh of the stock\n",
    "* load a single stock as the target while using many other stocks as additional features"
   ]
  },
  {
   "cell_type": "code",
   "execution_count": 7,
   "metadata": {},
   "outputs": [],
   "source": [
    "# load dataset\n",
    "# dataset = getStocks.get_single(ticker=ticker, save=True)\n",
    "# dataset = getStocks.load_single(ticker)\n",
    "dataset = getStocks.join_tgt_spt(target_ticker=ticker.upper(), number_spt=rngSpt)\n",
    "dataset.reset_index(level=0, inplace=True)\n",
    "dataset.rename(columns={'Adj Close':'AdjCls'}, inplace=True)"
   ]
  },
  {
   "cell_type": "code",
   "execution_count": 8,
   "metadata": {},
   "outputs": [
    {
     "data": {
      "text/plain": [
       "<module 'TS_LSTM' from '/mnt/data/Dropbox/Projects/LSTM-forecast/src/TS_LSTM.py'>"
      ]
     },
     "execution_count": 8,
     "metadata": {},
     "output_type": "execute_result"
    }
   ],
   "source": [
    "import TS_LSTM as ts_lstm\n",
    "import imp\n",
    "imp.reload(ts_lstm)"
   ]
  },
  {
   "cell_type": "code",
   "execution_count": 9,
   "metadata": {},
   "outputs": [
    {
     "name": "stderr",
     "output_type": "stream",
     "text": [
      "/mnt/data/Dropbox/Projects/LSTM-forecast/src/featureEng.py:10: SettingWithCopyWarning: \n",
      "A value is trying to be set on a copy of a slice from a DataFrame\n",
      "\n",
      "See the caveats in the documentation: http://pandas.pydata.org/pandas-docs/stable/indexing.html#indexing-view-versus-copy\n",
      "  dataset.drop(['Date'], axis=1, inplace=True)\n"
     ]
    },
    {
     "name": "stdout",
     "output_type": "stream",
     "text": [
      "starting Series to supverised conversion...\n"
     ]
    }
   ],
   "source": [
    "# build base object\n",
    "mod = ts_lstm.TS_LSTM(n_in=5, n_out=5, \n",
    "                      ticker='UNH',target='Close',\n",
    "                      rawData=dataset)\n",
    "# do feature engineering\n",
    "mod.eng_features()\n",
    "mod.roll_data()\n",
    "mod.tscv()"
   ]
  },
  {
   "cell_type": "markdown",
   "metadata": {},
   "source": [
    "# Build LSTM Architecture"
   ]
  },
  {
   "cell_type": "code",
   "execution_count": 10,
   "metadata": {},
   "outputs": [
    {
     "data": {
      "text/plain": [
       "<module 'lstm' from '/mnt/data/Dropbox/Projects/LSTM-forecast/src/lstm.py'>"
      ]
     },
     "execution_count": 10,
     "metadata": {},
     "output_type": "execute_result"
    }
   ],
   "source": [
    "# for debug on lstm package\n",
    "import imp\n",
    "imp.reload(lstm)"
   ]
  },
  {
   "cell_type": "code",
   "execution_count": 11,
   "metadata": {},
   "outputs": [],
   "source": [
    "train_X = mod.train_X\n",
    "train_y = mod.train_y\n",
    "test_X = mod.test_X\n",
    "test_y = mod.test_y"
   ]
  },
  {
   "cell_type": "code",
   "execution_count": 12,
   "metadata": {},
   "outputs": [
    {
     "name": "stdout",
     "output_type": "stream",
     "text": [
      "Compilation Time :  0.014153242111206055\n",
      "_________________________________________________________________\n",
      "Layer (type)                 Output Shape              Param #   \n",
      "=================================================================\n",
      "lstm_1 (LSTM)                (None, 5, 101)            95748     \n",
      "_________________________________________________________________\n",
      "dropout_1 (Dropout)          (None, 5, 101)            0         \n",
      "_________________________________________________________________\n",
      "lstm_2 (LSTM)                (None, 5, 10)             4480      \n",
      "_________________________________________________________________\n",
      "dropout_2 (Dropout)          (None, 5, 10)             0         \n",
      "_________________________________________________________________\n",
      "lstm_3 (LSTM)                (None, 5)                 320       \n",
      "_________________________________________________________________\n",
      "dropout_3 (Dropout)          (None, 5)                 0         \n",
      "_________________________________________________________________\n",
      "dense_1 (Dense)              (None, 5)                 30        \n",
      "=================================================================\n",
      "Total params: 100,578\n",
      "Trainable params: 100,578\n",
      "Non-trainable params: 0\n",
      "_________________________________________________________________\n"
     ]
    }
   ],
   "source": [
    "model = lstm.build_model(train_X, loss_function='mean_absolute_percentage_error',\n",
    "                         timesteps=n_in, \n",
    "                         inlayer=int(train_X.shape[-1]*.75),\n",
    "                         hiddenlayers=[10, 5], \n",
    "                         outlayer=n_out)"
   ]
  },
  {
   "cell_type": "code",
   "execution_count": 13,
   "metadata": {},
   "outputs": [
    {
     "name": "stdout",
     "output_type": "stream",
     "text": [
      "Compilation Time :  0.013660907745361328\n",
      "_________________________________________________________________\n",
      "Layer (type)                 Output Shape              Param #   \n",
      "=================================================================\n",
      "lstm_4 (LSTM)                (None, 5, 101)            95748     \n",
      "_________________________________________________________________\n",
      "dropout_4 (Dropout)          (None, 5, 101)            0         \n",
      "_________________________________________________________________\n",
      "lstm_5 (LSTM)                (None, 5, 10)             4480      \n",
      "_________________________________________________________________\n",
      "dropout_5 (Dropout)          (None, 5, 10)             0         \n",
      "_________________________________________________________________\n",
      "lstm_6 (LSTM)                (None, 5)                 320       \n",
      "_________________________________________________________________\n",
      "dropout_6 (Dropout)          (None, 5)                 0         \n",
      "_________________________________________________________________\n",
      "dense_2 (Dense)              (None, 5)                 30        \n",
      "=================================================================\n",
      "Total params: 100,578\n",
      "Trainable params: 100,578\n",
      "Non-trainable params: 0\n",
      "_________________________________________________________________\n"
     ]
    }
   ],
   "source": [
    "mod.build_model(hiddenlayers=[10, 5])"
   ]
  },
  {
   "cell_type": "markdown",
   "metadata": {},
   "source": [
    "# Fit model"
   ]
  },
  {
   "cell_type": "code",
   "execution_count": 14,
   "metadata": {},
   "outputs": [
    {
     "name": "stdout",
     "output_type": "stream",
     "text": [
      "Train on 648 samples, validate on 163 samples\n",
      "Epoch 1/50\n",
      " - 2s - loss: 99.9700 - val_loss: 99.9678\n",
      "Epoch 2/50\n",
      " - 0s - loss: 99.9483 - val_loss: 99.9533\n",
      "Epoch 3/50\n",
      " - 0s - loss: 99.9277 - val_loss: 99.9381\n",
      "Epoch 4/50\n",
      " - 0s - loss: 99.9037 - val_loss: 99.9228\n",
      "Epoch 5/50\n",
      " - 0s - loss: 99.8850 - val_loss: 99.9072\n",
      "Epoch 6/50\n",
      " - 0s - loss: 99.8571 - val_loss: 99.8914\n",
      "Epoch 7/50\n",
      " - 0s - loss: 99.8360 - val_loss: 99.8752\n",
      "Epoch 8/50\n",
      " - 0s - loss: 99.8158 - val_loss: 99.8585\n",
      "Epoch 9/50\n",
      " - 0s - loss: 99.7891 - val_loss: 99.8413\n",
      "Epoch 10/50\n",
      " - 0s - loss: 99.7622 - val_loss: 99.8238\n",
      "Epoch 11/50\n",
      " - 0s - loss: 99.7376 - val_loss: 99.8060\n",
      "Epoch 12/50\n",
      " - 0s - loss: 99.7188 - val_loss: 99.7882\n",
      "Epoch 13/50\n",
      " - 0s - loss: 99.6876 - val_loss: 99.7707\n",
      "Epoch 14/50\n",
      " - 0s - loss: 99.6609 - val_loss: 99.7535\n",
      "Epoch 15/50\n",
      " - 0s - loss: 99.6458 - val_loss: 99.7370\n",
      "Epoch 16/50\n",
      " - 0s - loss: 99.6068 - val_loss: 99.7211\n",
      "Epoch 17/50\n",
      " - 0s - loss: 99.5995 - val_loss: 99.7060\n",
      "Epoch 18/50\n",
      " - 0s - loss: 99.5759 - val_loss: 99.6919\n",
      "Epoch 19/50\n",
      " - 0s - loss: 99.5559 - val_loss: 99.6787\n",
      "Epoch 20/50\n",
      " - 0s - loss: 99.5376 - val_loss: 99.6665\n",
      "Epoch 21/50\n",
      " - 0s - loss: 99.5170 - val_loss: 99.6551\n",
      "Epoch 22/50\n",
      " - 0s - loss: 99.5137 - val_loss: 99.6447\n",
      "Epoch 23/50\n",
      " - 0s - loss: 99.4852 - val_loss: 99.6350\n",
      "Epoch 24/50\n",
      " - 0s - loss: 99.4694 - val_loss: 99.6261\n",
      "Epoch 25/50\n",
      " - 0s - loss: 99.4685 - val_loss: 99.6179\n",
      "Epoch 26/50\n",
      " - 0s - loss: 99.4333 - val_loss: 99.6103\n",
      "Epoch 27/50\n",
      " - 0s - loss: 99.4391 - val_loss: 99.6032\n",
      "Epoch 28/50\n",
      " - 0s - loss: 99.4285 - val_loss: 99.5966\n",
      "Epoch 29/50\n",
      " - 0s - loss: 99.4257 - val_loss: 99.5906\n",
      "Epoch 30/50\n",
      " - 0s - loss: 99.4156 - val_loss: 99.5849\n",
      "Epoch 31/50\n",
      " - 0s - loss: 99.4042 - val_loss: 99.5798\n",
      "Epoch 32/50\n",
      " - 0s - loss: 99.4049 - val_loss: 99.5751\n",
      "Epoch 33/50\n",
      " - 0s - loss: 99.3938 - val_loss: 99.5709\n",
      "Epoch 34/50\n",
      " - 0s - loss: 99.3871 - val_loss: 99.5671\n",
      "Epoch 35/50\n",
      " - 0s - loss: 99.3829 - val_loss: 99.5636\n",
      "Epoch 36/50\n",
      " - 0s - loss: 99.3750 - val_loss: 99.5603\n",
      "Epoch 37/50\n",
      " - 0s - loss: 99.3782 - val_loss: 99.5573\n",
      "Epoch 38/50\n",
      " - 0s - loss: 99.3636 - val_loss: 99.5545\n",
      "Epoch 39/50\n",
      " - 0s - loss: 99.3609 - val_loss: 99.5518\n",
      "Epoch 40/50\n",
      " - 0s - loss: 99.3598 - val_loss: 99.5493\n",
      "Epoch 41/50\n",
      " - 0s - loss: 99.3662 - val_loss: 99.5469\n",
      "Epoch 42/50\n",
      " - 0s - loss: 99.3472 - val_loss: 99.5448\n",
      "Epoch 43/50\n",
      " - 0s - loss: 99.3541 - val_loss: 99.5427\n",
      "Epoch 44/50\n",
      " - 0s - loss: 99.3530 - val_loss: 99.5408\n",
      "Epoch 45/50\n",
      " - 0s - loss: 99.3506 - val_loss: 99.5391\n",
      "Epoch 46/50\n",
      " - 0s - loss: 99.3445 - val_loss: 99.5374\n",
      "Epoch 47/50\n",
      " - 0s - loss: 99.3393 - val_loss: 99.5358\n",
      "Epoch 48/50\n",
      " - 0s - loss: 99.3373 - val_loss: 99.5344\n",
      "Epoch 49/50\n",
      " - 0s - loss: 99.3352 - val_loss: 99.5329\n",
      "Epoch 50/50\n",
      " - 0s - loss: 99.3317 - val_loss: 99.5316\n"
     ]
    },
    {
     "data": {
      "image/png": "[encoded data removed]",
      "text/plain": [
       "<matplotlib.figure.Figure at 0x7f7cd84bb128>"
      ]
     },
     "metadata": {},
     "output_type": "display_data"
    }
   ],
   "source": [
    "# fit network and save to history\n",
    "history = model.fit(train_X, train_y, \n",
    "                    epochs=50, \n",
    "                    batch_size=256, \n",
    "                    validation_data=(test_X, test_y), \n",
    "                    verbose=2, \n",
    "                    shuffle=False)\n",
    "\n",
    "# plot history\n",
    "visualize.plot_loss(history)"
   ]
  },
  {
   "cell_type": "code",
   "execution_count": 15,
   "metadata": {},
   "outputs": [
    {
     "name": "stdout",
     "output_type": "stream",
     "text": [
      "Train on 648 samples, validate on 163 samples\n",
      "Epoch 1/50\n",
      " - 3s - loss: 99.9540 - val_loss: 99.9256\n",
      "Epoch 2/50\n",
      " - 1s - loss: 99.8592 - val_loss: 99.8601\n",
      "Epoch 3/50\n",
      " - 1s - loss: 99.7612 - val_loss: 99.7916\n",
      "Epoch 4/50\n",
      " - 1s - loss: 99.6655 - val_loss: 99.7225\n",
      "Epoch 5/50\n",
      " - 1s - loss: 99.5796 - val_loss: 99.6588\n",
      "Epoch 6/50\n",
      " - 1s - loss: 99.4850 - val_loss: 99.6063\n",
      "Epoch 7/50\n",
      " - 1s - loss: 99.4332 - val_loss: 99.5745\n",
      "Epoch 8/50\n",
      " - 1s - loss: 99.3897 - val_loss: 99.5537\n",
      "Epoch 9/50\n",
      " - 1s - loss: 99.3610 - val_loss: 99.5401\n",
      "Epoch 10/50\n",
      " - 1s - loss: 99.3416 - val_loss: 99.5317\n",
      "Epoch 11/50\n",
      " - 1s - loss: 99.3286 - val_loss: 99.5252\n",
      "Epoch 12/50\n",
      " - 1s - loss: 99.3181 - val_loss: 99.5199\n",
      "Epoch 13/50\n",
      " - 1s - loss: 99.3137 - val_loss: 99.5155\n",
      "Epoch 14/50\n",
      " - 1s - loss: 99.2960 - val_loss: 99.5119\n",
      "Epoch 15/50\n",
      " - 1s - loss: 99.2920 - val_loss: 99.5088\n",
      "Epoch 16/50\n",
      " - 1s - loss: 99.2779 - val_loss: 99.5062\n",
      "Epoch 17/50\n",
      " - 1s - loss: 99.2764 - val_loss: 99.5039\n",
      "Epoch 18/50\n",
      " - 1s - loss: 99.2709 - val_loss: 99.5019\n",
      "Epoch 19/50\n",
      " - 1s - loss: 99.2635 - val_loss: 99.5003\n",
      "Epoch 20/50\n",
      " - 1s - loss: 99.2637 - val_loss: 99.4988\n",
      "Epoch 21/50\n",
      " - 1s - loss: 99.2519 - val_loss: 99.4974\n",
      "Epoch 22/50\n",
      " - 1s - loss: 99.2536 - val_loss: 99.4963\n",
      "Epoch 23/50\n",
      " - 1s - loss: 99.2522 - val_loss: 99.4953\n",
      "Epoch 24/50\n",
      " - 1s - loss: 99.2542 - val_loss: 99.4943\n",
      "Epoch 25/50\n",
      " - 1s - loss: 99.2374 - val_loss: 99.4935\n",
      "Epoch 26/50\n",
      " - 1s - loss: 99.2378 - val_loss: 99.4929\n",
      "Epoch 27/50\n",
      " - 1s - loss: 99.2411 - val_loss: 99.4923\n",
      "Epoch 28/50\n",
      " - 1s - loss: 99.2343 - val_loss: 99.4918\n",
      "Epoch 29/50\n",
      " - 1s - loss: 99.2357 - val_loss: 99.4913\n",
      "Epoch 30/50\n",
      " - 1s - loss: 99.2314 - val_loss: 99.4909\n",
      "Epoch 31/50\n",
      " - 1s - loss: 99.2316 - val_loss: 99.4906\n",
      "Epoch 32/50\n",
      " - 1s - loss: 99.2287 - val_loss: 99.4902\n",
      "Epoch 33/50\n",
      " - 1s - loss: 99.2268 - val_loss: 99.4900\n",
      "Epoch 34/50\n",
      " - 1s - loss: 99.2277 - val_loss: 99.4897\n",
      "Epoch 35/50\n",
      " - 1s - loss: 99.2244 - val_loss: 99.4895\n",
      "Epoch 36/50\n",
      " - 1s - loss: 99.2248 - val_loss: 99.4892\n",
      "Epoch 37/50\n",
      " - 1s - loss: 99.2244 - val_loss: 99.4890\n",
      "Epoch 38/50\n",
      " - 1s - loss: 99.2238 - val_loss: 99.4889\n",
      "Epoch 39/50\n",
      " - 1s - loss: 99.2211 - val_loss: 99.4887\n",
      "Epoch 40/50\n",
      " - 1s - loss: 99.2195 - val_loss: 99.4885\n",
      "Epoch 41/50\n",
      " - 1s - loss: 99.2182 - val_loss: 99.4884\n",
      "Epoch 42/50\n",
      " - 1s - loss: 99.2218 - val_loss: 99.4882\n",
      "Epoch 43/50\n",
      " - 1s - loss: 99.2194 - val_loss: 99.4881\n",
      "Epoch 44/50\n",
      " - 1s - loss: 99.2214 - val_loss: 99.4880\n",
      "Epoch 45/50\n",
      " - 1s - loss: 99.2201 - val_loss: 99.4879\n",
      "Epoch 46/50\n",
      " - 1s - loss: 99.2167 - val_loss: 99.4878\n",
      "Epoch 47/50\n",
      " - 1s - loss: 99.2146 - val_loss: 99.4877\n",
      "Epoch 48/50\n",
      " - 1s - loss: 99.2175 - val_loss: 99.4876\n",
      "Epoch 49/50\n",
      " - 1s - loss: 99.2143 - val_loss: 99.4875\n",
      "Epoch 50/50\n",
      " - 1s - loss: 99.2163 - val_loss: 99.4874\n"
     ]
    },
    {
     "data": {
      "image/png": "[encoded data removed]",
      "text/plain": [
       "<matplotlib.figure.Figure at 0x7f7d147d08d0>"
      ]
     },
     "metadata": {},
     "output_type": "display_data"
    }
   ],
   "source": [
    "mod.train_model()"
   ]
  },
  {
   "cell_type": "markdown",
   "metadata": {},
   "source": [
    "# Visualize Results"
   ]
  },
  {
   "cell_type": "code",
   "execution_count": 16,
   "metadata": {},
   "outputs": [
    {
     "data": {
      "image/png": "[encoded data removed]",
      "text/plain": [
       "<matplotlib.figure.Figure at 0x7f7abd9ba518>"
      ]
     },
     "metadata": {},
     "output_type": "display_data"
    }
   ],
   "source": [
    "### KEEP THIS WORKING ####\n",
    "yhat = predicts.predict_sequences_multiple(model, test_X, n_in, n_out)\n",
    "visualize.plot_results_multiple(yhat, test_y[:,0], n_out, legend=False)\n",
    "# visualize.plot_single(yhat, test_y, ticker, data_set_category='test')"
   ]
  },
  {
   "cell_type": "markdown",
   "metadata": {},
   "source": [
    "# Single day predictions"
   ]
  },
  {
   "cell_type": "code",
   "execution_count": 17,
   "metadata": {},
   "outputs": [
    {
     "name": "stdout",
     "output_type": "stream",
     "text": [
      "[0.9693553, 0.96861416, 0.968154, 0.9670241, 0.9608667] 174.880005\n",
      "[0.9682232, 0.96747994, 0.966474, 0.9631732, 0.9625381] 174.589996\n",
      "[0.96684825, 0.9679315, 0.96728706, 0.96520865, 0.96368474] 174.139999\n",
      "[0.96952724, 0.96879, 0.9684711, 0.96752083, 0.96449184] 172.53999299999995\n",
      "[0.9693363, 0.9683571, 0.96713996, 0.9659375, 0.9611421] 174.020004\n",
      "[0.96795404, 0.9685379, 0.96870565, 0.96728444, 0.96410805] 174.119995\n",
      "[0.96915936, 0.96874, 0.96822435, 0.9671266, 0.9641953] 174.440002\n",
      "[0.9693116, 0.9686331, 0.96769977, 0.9656981, 0.9614131] 173.240005\n",
      "[0.9660145, 0.9637133, 0.94896424, 0.94099426, 0.9517121] 173.389999\n",
      "[0.96703196, 0.9681618, 0.9681517, 0.9669068, 0.9634077] 173.320007\n",
      "[0.9692484, 0.96874714, 0.96874034, 0.9678222, 0.9647797] 171.809998\n",
      "[0.96892565, 0.9691885, 0.96885335, 0.96783006, 0.9639858] 171.529999\n",
      "[0.9690697, 0.96805614, 0.96642244, 0.961609, 0.96270883] 168.119995\n",
      "[0.9699066, 0.9689971, 0.96841574, 0.9674692, 0.9635462] 168.860001\n",
      "[0.9680917, 0.9669755, 0.9676267, 0.96659404, 0.9632458] 171.449997\n",
      "[0.9686855, 0.9688464, 0.9687939, 0.96713287, 0.9621079] 172.589996\n",
      "[0.9690411, 0.968971, 0.9685418, 0.9674944, 0.96441716] 174.699997\n",
      "[0.96963096, 0.9693101, 0.96807575, 0.9676658, 0.96341413] 175.220001\n",
      "[0.9691671, 0.96937215, 0.96894324, 0.9680024, 0.96511006] 175.589996\n",
      "[0.9700147, 0.96921086, 0.9688711, 0.96786666, 0.9661066] 178.050003\n",
      "[0.9671123, 0.96662605, 0.9651686, 0.9642828, 0.957714] 177.5\n",
      "[0.9683844, 0.96818054, 0.9667492, 0.9664343, 0.9563293] 176.589996\n",
      "[0.96917206, 0.9684722, 0.9657868, 0.96654797, 0.96375144] 175.179993\n",
      "[0.96800965, 0.9681823, 0.96733963, 0.96574175, 0.9613111] 179.580002\n",
      "[0.9685617, 0.967535, 0.96646756, 0.9642118, 0.9338299] 179.389999\n",
      "[0.9683918, 0.96802247, 0.96818435, 0.96594435, 0.96167773] 179.369995\n",
      "[0.9687148, 0.9690703, 0.96839577, 0.9669866, 0.95974773] 180.820007\n",
      "[0.96777105, 0.967453, 0.9672087, 0.96516097, 0.96238106] 183.210007\n",
      "[0.96933734, 0.9693926, 0.9685534, 0.96625435, 0.95972645] 181.690002\n",
      "[0.9679709, 0.9687917, 0.9680345, 0.9673401, 0.963814] 181.460007\n",
      "[0.96903634, 0.9688382, 0.9686348, 0.96728104, 0.96415097] 179.25\n",
      "[0.96861184, 0.96857005, 0.96827155, 0.9672245, 0.9636132] 181.050003\n"
     ]
    }
   ],
   "source": [
    "for i, x in enumerate(yhat):\n",
    "    print(x, test_y[i,0])"
   ]
  },
  {
   "cell_type": "code",
   "execution_count": null,
   "metadata": {},
   "outputs": [],
   "source": []
  },
  {
   "cell_type": "code",
   "execution_count": 18,
   "metadata": {},
   "outputs": [],
   "source": [
    "###### TODO METHOD####\n",
    "#import predicts\n",
    "## copy weights\n",
    "#old_weights=model.get_weights()\n",
    "#\n",
    "#new_model = Sequential()\n",
    "#new_model.add(LSTM(30, input_shape=(train_X.shape[1], train_X.shape[2]),\n",
    "#          return_sequences=True, activation='tanh'))\n",
    "#new_model.add(Dropout(0.5))\n",
    "#new_model.add(LSTM(10, activation='tanh'))\n",
    "#new_model.add(Dropout(0.5))\n",
    "#new_model.add(Dense(1))\n",
    "#new_model.compile(loss='mae', optimizer='adam')\n",
    "## fit network\n",
    "#new_model.set_weights(old_weights)\n",
    "#predicts.onlineForecast(new_model, test_X, test_y)\n",
    "## # # ____ # # #"
   ]
  },
  {
   "cell_type": "code",
   "execution_count": null,
   "metadata": {},
   "outputs": [],
   "source": []
  },
  {
   "cell_type": "markdown",
   "metadata": {},
   "source": [
    "# *** Test Reshaping Method"
   ]
  },
  {
   "cell_type": "code",
   "execution_count": 19,
   "metadata": {},
   "outputs": [
    {
     "data": {
      "text/html": [
       "<div>\n",
       "<style scoped>\n",
       "    .dataframe tbody tr th:only-of-type {\n",
       "        vertical-align: middle;\n",
       "    }\n",
       "\n",
       "    .dataframe tbody tr th {\n",
       "        vertical-align: top;\n",
       "    }\n",
       "\n",
       "    .dataframe thead th {\n",
       "        text-align: right;\n",
       "    }\n",
       "</style>\n",
       "<table border=\"1\" class=\"dataframe\">\n",
       "  <thead>\n",
       "    <tr style=\"text-align: right;\">\n",
       "      <th></th>\n",
       "      <th>Var0</th>\n",
       "      <th>Var1</th>\n",
       "      <th>Var2</th>\n",
       "      <th>Var3</th>\n",
       "      <th>Var4</th>\n",
       "    </tr>\n",
       "  </thead>\n",
       "  <tbody>\n",
       "    <tr>\n",
       "      <th>0</th>\n",
       "      <td>100</td>\n",
       "      <td>101</td>\n",
       "      <td>102</td>\n",
       "      <td>103</td>\n",
       "      <td>104</td>\n",
       "    </tr>\n",
       "    <tr>\n",
       "      <th>1</th>\n",
       "      <td>200</td>\n",
       "      <td>201</td>\n",
       "      <td>202</td>\n",
       "      <td>203</td>\n",
       "      <td>204</td>\n",
       "    </tr>\n",
       "    <tr>\n",
       "      <th>2</th>\n",
       "      <td>300</td>\n",
       "      <td>301</td>\n",
       "      <td>302</td>\n",
       "      <td>303</td>\n",
       "      <td>304</td>\n",
       "    </tr>\n",
       "    <tr>\n",
       "      <th>3</th>\n",
       "      <td>400</td>\n",
       "      <td>401</td>\n",
       "      <td>402</td>\n",
       "      <td>403</td>\n",
       "      <td>404</td>\n",
       "    </tr>\n",
       "    <tr>\n",
       "      <th>4</th>\n",
       "      <td>500</td>\n",
       "      <td>501</td>\n",
       "      <td>502</td>\n",
       "      <td>503</td>\n",
       "      <td>504</td>\n",
       "    </tr>\n",
       "  </tbody>\n",
       "</table>\n",
       "</div>"
      ],
      "text/plain": [
       "   Var0  Var1  Var2  Var3  Var4\n",
       "0   100   101   102   103   104\n",
       "1   200   201   202   203   204\n",
       "2   300   301   302   303   304\n",
       "3   400   401   402   403   404\n",
       "4   500   501   502   503   504"
      ]
     },
     "execution_count": 19,
     "metadata": {},
     "output_type": "execute_result"
    }
   ],
   "source": [
    "# test dimension modification\n",
    "import pandas as pd\n",
    "df=pd.read_csv('testDim.csv')\n",
    "features_test=list(df.columns)\n",
    "df.head()"
   ]
  },
  {
   "cell_type": "code",
   "execution_count": 20,
   "metadata": {},
   "outputs": [
    {
     "name": "stdout",
     "output_type": "stream",
     "text": [
      "starting Series to supverised conversion...\n"
     ]
    },
    {
     "data": {
      "text/html": [
       "<div>\n",
       "<style scoped>\n",
       "    .dataframe tbody tr th:only-of-type {\n",
       "        vertical-align: middle;\n",
       "    }\n",
       "\n",
       "    .dataframe tbody tr th {\n",
       "        vertical-align: top;\n",
       "    }\n",
       "\n",
       "    .dataframe thead th {\n",
       "        text-align: right;\n",
       "    }\n",
       "</style>\n",
       "<table border=\"1\" class=\"dataframe\">\n",
       "  <thead>\n",
       "    <tr style=\"text-align: right;\">\n",
       "      <th></th>\n",
       "      <th>Var0(t-02)</th>\n",
       "      <th>Var1(t-02)</th>\n",
       "      <th>Var2(t-02)</th>\n",
       "      <th>Var3(t-02)</th>\n",
       "      <th>Var4(t-02)</th>\n",
       "      <th>Var0(t-01)</th>\n",
       "      <th>Var1(t-01)</th>\n",
       "      <th>Var2(t-01)</th>\n",
       "      <th>Var3(t-01)</th>\n",
       "      <th>Var4(t-01)</th>\n",
       "      <th>Var0(t)</th>\n",
       "      <th>Var1(t)</th>\n",
       "      <th>Var2(t)</th>\n",
       "      <th>Var3(t)</th>\n",
       "      <th>Var4(t)</th>\n",
       "    </tr>\n",
       "  </thead>\n",
       "  <tbody>\n",
       "    <tr>\n",
       "      <th>2</th>\n",
       "      <td>100.0</td>\n",
       "      <td>101.0</td>\n",
       "      <td>102.0</td>\n",
       "      <td>103.0</td>\n",
       "      <td>104.0</td>\n",
       "      <td>200.0</td>\n",
       "      <td>201.0</td>\n",
       "      <td>202.0</td>\n",
       "      <td>203.0</td>\n",
       "      <td>204.0</td>\n",
       "      <td>300</td>\n",
       "      <td>301</td>\n",
       "      <td>302</td>\n",
       "      <td>303</td>\n",
       "      <td>304</td>\n",
       "    </tr>\n",
       "    <tr>\n",
       "      <th>3</th>\n",
       "      <td>200.0</td>\n",
       "      <td>201.0</td>\n",
       "      <td>202.0</td>\n",
       "      <td>203.0</td>\n",
       "      <td>204.0</td>\n",
       "      <td>300.0</td>\n",
       "      <td>301.0</td>\n",
       "      <td>302.0</td>\n",
       "      <td>303.0</td>\n",
       "      <td>304.0</td>\n",
       "      <td>400</td>\n",
       "      <td>401</td>\n",
       "      <td>402</td>\n",
       "      <td>403</td>\n",
       "      <td>404</td>\n",
       "    </tr>\n",
       "    <tr>\n",
       "      <th>4</th>\n",
       "      <td>300.0</td>\n",
       "      <td>301.0</td>\n",
       "      <td>302.0</td>\n",
       "      <td>303.0</td>\n",
       "      <td>304.0</td>\n",
       "      <td>400.0</td>\n",
       "      <td>401.0</td>\n",
       "      <td>402.0</td>\n",
       "      <td>403.0</td>\n",
       "      <td>404.0</td>\n",
       "      <td>500</td>\n",
       "      <td>501</td>\n",
       "      <td>502</td>\n",
       "      <td>503</td>\n",
       "      <td>504</td>\n",
       "    </tr>\n",
       "    <tr>\n",
       "      <th>5</th>\n",
       "      <td>400.0</td>\n",
       "      <td>401.0</td>\n",
       "      <td>402.0</td>\n",
       "      <td>403.0</td>\n",
       "      <td>404.0</td>\n",
       "      <td>500.0</td>\n",
       "      <td>501.0</td>\n",
       "      <td>502.0</td>\n",
       "      <td>503.0</td>\n",
       "      <td>504.0</td>\n",
       "      <td>600</td>\n",
       "      <td>601</td>\n",
       "      <td>602</td>\n",
       "      <td>603</td>\n",
       "      <td>604</td>\n",
       "    </tr>\n",
       "    <tr>\n",
       "      <th>6</th>\n",
       "      <td>500.0</td>\n",
       "      <td>501.0</td>\n",
       "      <td>502.0</td>\n",
       "      <td>503.0</td>\n",
       "      <td>504.0</td>\n",
       "      <td>600.0</td>\n",
       "      <td>601.0</td>\n",
       "      <td>602.0</td>\n",
       "      <td>603.0</td>\n",
       "      <td>604.0</td>\n",
       "      <td>700</td>\n",
       "      <td>701</td>\n",
       "      <td>702</td>\n",
       "      <td>703</td>\n",
       "      <td>704</td>\n",
       "    </tr>\n",
       "  </tbody>\n",
       "</table>\n",
       "</div>"
      ],
      "text/plain": [
       "   Var0(t-02)  Var1(t-02)  Var2(t-02)  Var3(t-02)  Var4(t-02)  Var0(t-01)  \\\n",
       "2       100.0       101.0       102.0       103.0       104.0       200.0   \n",
       "3       200.0       201.0       202.0       203.0       204.0       300.0   \n",
       "4       300.0       301.0       302.0       303.0       304.0       400.0   \n",
       "5       400.0       401.0       402.0       403.0       404.0       500.0   \n",
       "6       500.0       501.0       502.0       503.0       504.0       600.0   \n",
       "\n",
       "   Var1(t-01)  Var2(t-01)  Var3(t-01)  Var4(t-01)  Var0(t)  Var1(t)  Var2(t)  \\\n",
       "2       201.0       202.0       203.0       204.0      300      301      302   \n",
       "3       301.0       302.0       303.0       304.0      400      401      402   \n",
       "4       401.0       402.0       403.0       404.0      500      501      502   \n",
       "5       501.0       502.0       503.0       504.0      600      601      602   \n",
       "6       601.0       602.0       603.0       604.0      700      701      702   \n",
       "\n",
       "   Var3(t)  Var4(t)  \n",
       "2      303      304  \n",
       "3      403      404  \n",
       "4      503      504  \n",
       "5      603      604  \n",
       "6      703      704  "
      ]
     },
     "execution_count": 20,
     "metadata": {},
     "output_type": "execute_result"
    }
   ],
   "source": [
    "n_in=2\n",
    "n_out=1\n",
    "tgt_tst='Var4'\n",
    "df=ps.series_to_supervised(df, \n",
    "                           n_in=n_in, \n",
    "                           n_out=n_out, \n",
    "                           features=features_test)\n",
    "df.head()"
   ]
  },
  {
   "cell_type": "code",
   "execution_count": 21,
   "metadata": {},
   "outputs": [
    {
     "data": {
      "text/html": [
       "<div>\n",
       "<style scoped>\n",
       "    .dataframe tbody tr th:only-of-type {\n",
       "        vertical-align: middle;\n",
       "    }\n",
       "\n",
       "    .dataframe tbody tr th {\n",
       "        vertical-align: top;\n",
       "    }\n",
       "\n",
       "    .dataframe thead th {\n",
       "        text-align: right;\n",
       "    }\n",
       "</style>\n",
       "<table border=\"1\" class=\"dataframe\">\n",
       "  <thead>\n",
       "    <tr style=\"text-align: right;\">\n",
       "      <th></th>\n",
       "      <th>Var0(t-02)</th>\n",
       "      <th>Var1(t-02)</th>\n",
       "      <th>Var2(t-02)</th>\n",
       "      <th>Var3(t-02)</th>\n",
       "      <th>Var4(t-02)</th>\n",
       "      <th>Var0(t-01)</th>\n",
       "      <th>Var1(t-01)</th>\n",
       "      <th>Var2(t-01)</th>\n",
       "      <th>Var3(t-01)</th>\n",
       "      <th>Var4(t-01)</th>\n",
       "      <th>Var4(t)</th>\n",
       "    </tr>\n",
       "  </thead>\n",
       "  <tbody>\n",
       "    <tr>\n",
       "      <th>2</th>\n",
       "      <td>100.0</td>\n",
       "      <td>101.0</td>\n",
       "      <td>102.0</td>\n",
       "      <td>103.0</td>\n",
       "      <td>104.0</td>\n",
       "      <td>200.0</td>\n",
       "      <td>201.0</td>\n",
       "      <td>202.0</td>\n",
       "      <td>203.0</td>\n",
       "      <td>204.0</td>\n",
       "      <td>304</td>\n",
       "    </tr>\n",
       "    <tr>\n",
       "      <th>3</th>\n",
       "      <td>200.0</td>\n",
       "      <td>201.0</td>\n",
       "      <td>202.0</td>\n",
       "      <td>203.0</td>\n",
       "      <td>204.0</td>\n",
       "      <td>300.0</td>\n",
       "      <td>301.0</td>\n",
       "      <td>302.0</td>\n",
       "      <td>303.0</td>\n",
       "      <td>304.0</td>\n",
       "      <td>404</td>\n",
       "    </tr>\n",
       "    <tr>\n",
       "      <th>4</th>\n",
       "      <td>300.0</td>\n",
       "      <td>301.0</td>\n",
       "      <td>302.0</td>\n",
       "      <td>303.0</td>\n",
       "      <td>304.0</td>\n",
       "      <td>400.0</td>\n",
       "      <td>401.0</td>\n",
       "      <td>402.0</td>\n",
       "      <td>403.0</td>\n",
       "      <td>404.0</td>\n",
       "      <td>504</td>\n",
       "    </tr>\n",
       "    <tr>\n",
       "      <th>5</th>\n",
       "      <td>400.0</td>\n",
       "      <td>401.0</td>\n",
       "      <td>402.0</td>\n",
       "      <td>403.0</td>\n",
       "      <td>404.0</td>\n",
       "      <td>500.0</td>\n",
       "      <td>501.0</td>\n",
       "      <td>502.0</td>\n",
       "      <td>503.0</td>\n",
       "      <td>504.0</td>\n",
       "      <td>604</td>\n",
       "    </tr>\n",
       "    <tr>\n",
       "      <th>6</th>\n",
       "      <td>500.0</td>\n",
       "      <td>501.0</td>\n",
       "      <td>502.0</td>\n",
       "      <td>503.0</td>\n",
       "      <td>504.0</td>\n",
       "      <td>600.0</td>\n",
       "      <td>601.0</td>\n",
       "      <td>602.0</td>\n",
       "      <td>603.0</td>\n",
       "      <td>604.0</td>\n",
       "      <td>704</td>\n",
       "    </tr>\n",
       "  </tbody>\n",
       "</table>\n",
       "</div>"
      ],
      "text/plain": [
       "   Var0(t-02)  Var1(t-02)  Var2(t-02)  Var3(t-02)  Var4(t-02)  Var0(t-01)  \\\n",
       "2       100.0       101.0       102.0       103.0       104.0       200.0   \n",
       "3       200.0       201.0       202.0       203.0       204.0       300.0   \n",
       "4       300.0       301.0       302.0       303.0       304.0       400.0   \n",
       "5       400.0       401.0       402.0       403.0       404.0       500.0   \n",
       "6       500.0       501.0       502.0       503.0       504.0       600.0   \n",
       "\n",
       "   Var1(t-01)  Var2(t-01)  Var3(t-01)  Var4(t-01)  Var4(t)  \n",
       "2       201.0       202.0       203.0       204.0      304  \n",
       "3       301.0       302.0       303.0       304.0      404  \n",
       "4       401.0       402.0       403.0       404.0      504  \n",
       "5       501.0       502.0       503.0       504.0      604  \n",
       "6       601.0       602.0       603.0       604.0      704  "
      ]
     },
     "execution_count": 21,
     "metadata": {},
     "output_type": "execute_result"
    }
   ],
   "source": [
    "test_frame=ps.frame_targets(df, \n",
    "                          features=features_test, \n",
    "                          n_out=n_out,\n",
    "                          target=tgt_tst)\n",
    "test_frame.head()"
   ]
  },
  {
   "cell_type": "code",
   "execution_count": 22,
   "metadata": {
    "scrolled": true
   },
   "outputs": [],
   "source": [
    "X = test_frame.values[:, :-n_out]"
   ]
  },
  {
   "cell_type": "code",
   "execution_count": 23,
   "metadata": {},
   "outputs": [
    {
     "name": "stdout",
     "output_type": "stream",
     "text": [
      "[100. 101. 102. 103. 104. 200. 201. 202. 203. 204.]\n",
      "[200. 201. 202. 203. 204. 300. 301. 302. 303. 304.]\n",
      "[300. 301. 302. 303. 304. 400. 401. 402. 403. 404.]\n",
      "[400. 401. 402. 403. 404. 500. 501. 502. 503. 504.]\n",
      "[500. 501. 502. 503. 504. 600. 601. 602. 603. 604.]\n",
      "[600. 601. 602. 603. 604. 700. 701. 702. 703. 704.]\n",
      "[700. 701. 702. 703. 704. 800. 801. 802. 803. 804.]\n",
      "[800. 801. 802. 803. 804. 900. 901. 902. 903. 904.]\n",
      "[ 900.  901.  902.  903.  904. 1000. 1001. 1002. 1003. 1004.]\n",
      "[1000. 1001. 1002. 1003. 1004. 1100. 1101. 1102. 1103. 1104.]\n",
      "[1100. 1101. 1102. 1103. 1104. 1200. 1201. 1202. 1203. 1204.]\n",
      "[1200. 1201. 1202. 1203. 1204. 1300. 1301. 1302. 1303. 1304.]\n",
      "[1300. 1301. 1302. 1303. 1304. 1400. 1401. 1402. 1403. 1404.]\n",
      "[1400. 1401. 1402. 1403. 1404. 1500. 1501. 1502. 1503. 1504.]\n",
      "[1500. 1501. 1502. 1503. 1504. 1600. 1601. 1602. 1603. 1604.]\n",
      "[1600. 1601. 1602. 1603. 1604. 1700. 1701. 1702. 1703. 1704.]\n",
      "[1700. 1701. 1702. 1703. 1704. 1800. 1801. 1802. 1803. 1804.]\n",
      "[1800. 1801. 1802. 1803. 1804. 1900. 1901. 1902. 1903. 1904.]\n"
     ]
    },
    {
     "data": {
      "text/plain": [
       "[None,\n",
       " None,\n",
       " None,\n",
       " None,\n",
       " None,\n",
       " None,\n",
       " None,\n",
       " None,\n",
       " None,\n",
       " None,\n",
       " None,\n",
       " None,\n",
       " None,\n",
       " None,\n",
       " None,\n",
       " None,\n",
       " None,\n",
       " None]"
      ]
     },
     "execution_count": 23,
     "metadata": {},
     "output_type": "execute_result"
    }
   ],
   "source": [
    "[print(x) for x in X]"
   ]
  },
  {
   "cell_type": "code",
   "execution_count": 24,
   "metadata": {},
   "outputs": [
    {
     "ename": "AttributeError",
     "evalue": "module 'processStocks' has no attribute 'shape'",
     "output_type": "error",
     "traceback": [
      "\u001b[0;31m---------------------------------------------------------------------------\u001b[0m",
      "\u001b[0;31mAttributeError\u001b[0m                            Traceback (most recent call last)",
      "\u001b[0;32m<ipython-input-24-7e12ebb8ebc9>\u001b[0m in \u001b[0;36m<module>\u001b[0;34m()\u001b[0m\n\u001b[0;32m----> 1\u001b[0;31m \u001b[0md\u001b[0m\u001b[0;34m=\u001b[0m\u001b[0mps\u001b[0m\u001b[0;34m.\u001b[0m\u001b[0mshape\u001b[0m\u001b[0;34m(\u001b[0m\u001b[0mX\u001b[0m\u001b[0;34m,\u001b[0m \u001b[0mn_in\u001b[0m\u001b[0;34m,\u001b[0m \u001b[0mfeatures_test\u001b[0m\u001b[0;34m)\u001b[0m\u001b[0;34m\u001b[0m\u001b[0m\n\u001b[0m",
      "\u001b[0;31mAttributeError\u001b[0m: module 'processStocks' has no attribute 'shape'"
     ]
    }
   ],
   "source": [
    "d=ps.shape(X, n_in, features_test)"
   ]
  },
  {
   "cell_type": "code",
   "execution_count": null,
   "metadata": {
    "scrolled": true
   },
   "outputs": [],
   "source": [
    "d[1,-1,:]"
   ]
  },
  {
   "cell_type": "markdown",
   "metadata": {},
   "source": [
    "* Seems like dim is (observations, n_in, features), which is correct"
   ]
  },
  {
   "cell_type": "markdown",
   "metadata": {},
   "source": [
    "* tensor should be (t-2)a, (t-2)b, (t-1)a, (t-1)b, etc. where a and b are features to properly reshape, thus current reshaping is working as expected"
   ]
  }
 ],
 "metadata": {
  "kernelspec": {
   "display_name": "Python 3",
   "language": "python",
   "name": "python3"
  },
  "language_info": {
   "codemirror_mode": {
    "name": "ipython",
    "version": 3
   },
   "file_extension": ".py",
   "mimetype": "text/x-python",
   "name": "python",
   "nbconvert_exporter": "python",
   "pygments_lexer": "ipython3",
   "version": "3.6.4"
  }
 },
 "nbformat": 4,
 "nbformat_minor": 2
}
