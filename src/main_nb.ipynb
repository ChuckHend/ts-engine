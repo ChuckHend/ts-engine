{
 "cells": [
  {
   "cell_type": "code",
   "execution_count": null,
   "metadata": {},
   "outputs": [],
   "source": [
    "import os\n",
    "# os.environ['CUDA_VISIBLE_DEVICES'] = '-1' # to disable GPU\n",
    "import featureEng as fe\n",
    "import processStocks as ps\n",
    "import getStocks\n",
    "import visualize\n",
    "import predicts\n",
    "import pandas as pd\n",
    "import TS_LSTM as ts_lstm\n",
    "\n",
    "pd.options.display.max_columns = 999\n",
    "pd.options.display.max_rows = 999"
   ]
  },
  {
   "cell_type": "code",
   "execution_count": null,
   "metadata": {},
   "outputs": [],
   "source": [
    "# view tenslow enabled devices\n",
    "from tensorflow.python.client import device_lib\n",
    "print(device_lib.list_local_devices())"
   ]
  },
  {
   "cell_type": "markdown",
   "metadata": {},
   "source": [
    "# User parameters"
   ]
  },
  {
   "cell_type": "code",
   "execution_count": null,
   "metadata": {},
   "outputs": [],
   "source": [
    "ticker = 'amd'.upper()\n",
    "n_in = 100 # number of historical days to input\n",
    "n_out = 1 # days into future to predict\n",
    "target = 'Close'"
   ]
  },
  {
   "cell_type": "markdown",
   "metadata": {},
   "source": [
    "# Load Data\n",
    "### Several methods available here:\n",
    "* Load a single stock\n",
    "* get a refresh of the stock\n",
    "* load a single stock as the target while using many other stocks as additional features"
   ]
  },
  {
   "cell_type": "code",
   "execution_count": null,
   "metadata": {},
   "outputs": [],
   "source": [
    "# load dataset\n",
    "# dataset = getStocks.get_single(ticker=ticker, save=True)\n",
    "dataset = getStocks.load_single(ticker)\n",
    "#dataset = getStocks.join_tgt_spt(target_ticker=ticker.upper(), number_spt=20)\n",
    "dataset.reset_index(level=0, inplace=True)\n",
    "dataset.rename(columns=lambda x: x.replace(' ',''),inplace=True)"
   ]
  },
  {
   "cell_type": "markdown",
   "metadata": {},
   "source": [
    "# Prepare Data for LSTM"
   ]
  },
  {
   "cell_type": "code",
   "execution_count": null,
   "metadata": {},
   "outputs": [],
   "source": [
    "# using default options\n",
    "'''\n",
    "ts_data=ts_lstm.ts_data.default_prep(n_in=n_in, n_out=n_out, \n",
    "                      ticker=ticker,target=target,\n",
    "                      rawData=dataset)\n",
    "'''\n",
    "\n",
    "#\n",
    "ts_data = ts_lstm.ts_data(n_in=n_in, n_out=n_out, \n",
    "                      ticker=ticker,target=target,\n",
    "                      rawData=dataset)\n",
    "ts_data.eng_features(derivate=False, weekdays=False)\n",
    "ts_data.roll_data()\n",
    "ts_data.tscv()"
   ]
  },
  {
   "cell_type": "markdown",
   "metadata": {},
   "source": [
    "# Build LSTM Architecture"
   ]
  },
  {
   "cell_type": "code",
   "execution_count": null,
   "metadata": {},
   "outputs": [],
   "source": [
    "ts_model = ts_lstm.build_model(ts_data, \n",
    "                               inlayer=int(ts_data.train_X.shape[-1])*2,\n",
    "                               hiddenlayers=[5,3],\n",
    "                               loss_function='mean_squared_error',\n",
    "                               dropout=0.05,\n",
    "                               activation='sigmoid')"
   ]
  },
  {
   "cell_type": "markdown",
   "metadata": {},
   "source": [
    "# Fit model"
   ]
  },
  {
   "cell_type": "code",
   "execution_count": null,
   "metadata": {},
   "outputs": [],
   "source": [
    "history = ts_model.fit(ts_data.train_X, ts_data.train_y, \n",
    "                    epochs=300, \n",
    "                    batch_size=1024, \n",
    "                    validation_data=(ts_data.test_X, ts_data.test_y), \n",
    "                    verbose=2, \n",
    "                    shuffle=False)"
   ]
  },
  {
   "cell_type": "code",
   "execution_count": null,
   "metadata": {
    "scrolled": true
   },
   "outputs": [],
   "source": [
    "visualize.plot_loss(history)"
   ]
  },
  {
   "cell_type": "markdown",
   "metadata": {},
   "source": [
    "# Visualize Results"
   ]
  },
  {
   "cell_type": "code",
   "execution_count": null,
   "metadata": {},
   "outputs": [],
   "source": [
    "yhat = predicts.predict_sequences_multiple(ts_model, ts_data.test_X, ts_data.n_in, ts_data.n_out)"
   ]
  },
  {
   "cell_type": "code",
   "execution_count": null,
   "metadata": {},
   "outputs": [],
   "source": [
    "import matplotlib.pyplot as plt\n",
    "x = range(len(yhat))\n",
    "plt.plot(x, ts_data.test_y, label='actual', )\n",
    "plt.plot(x, yhat, label='predict')\n",
    "plt.legend()\n",
    "plt.show()"
   ]
  },
  {
   "cell_type": "code",
   "execution_count": null,
   "metadata": {},
   "outputs": [],
   "source": []
  }
 ],
 "metadata": {
  "kernelspec": {
   "display_name": "Python 3",
   "language": "python",
   "name": "python3"
  },
  "language_info": {
   "codemirror_mode": {
    "name": "ipython",
    "version": 3
   },
   "file_extension": ".py",
   "mimetype": "text/x-python",
   "name": "python",
   "nbconvert_exporter": "python",
   "pygments_lexer": "ipython3",
   "version": "3.6.4"
  }
 },
 "nbformat": 4,
 "nbformat_minor": 2
}
