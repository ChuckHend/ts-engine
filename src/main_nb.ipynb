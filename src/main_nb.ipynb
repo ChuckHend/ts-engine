{
 "cells": [
  {
   "cell_type": "code",
   "execution_count": 1,
   "metadata": {},
   "outputs": [
    {
     "name": "stderr",
     "output_type": "stream",
     "text": [
      "/usr/local/anaconda/lib/python3.6/site-packages/h5py/__init__.py:36: FutureWarning: Conversion of the second argument of issubdtype from `float` to `np.floating` is deprecated. In future, it will be treated as `np.float64 == np.dtype(float).type`.\n",
      "  from ._conv import register_converters as _register_converters\n",
      "Using TensorFlow backend.\n"
     ]
    }
   ],
   "source": [
    "import os\n",
    "# os.environ['CUDA_VISIBLE_DEVICES'] = '-1' # to disable GPU\n",
    "import featureEng as fe\n",
    "import processStocks as ps\n",
    "import getStocks\n",
    "import visualize\n",
    "import predicts\n",
    "import pandas as pd\n",
    "import TS_LSTM as ts_lstm\n",
    "\n",
    "pd.options.display.max_columns = 999\n",
    "pd.options.display.max_rows = 999"
   ]
  },
  {
   "cell_type": "code",
   "execution_count": 2,
   "metadata": {},
   "outputs": [
    {
     "name": "stdout",
     "output_type": "stream",
     "text": [
      "[name: \"/device:CPU:0\"\n",
      "device_type: \"CPU\"\n",
      "memory_limit: 268435456\n",
      "locality {\n",
      "}\n",
      "incarnation: 10340256716394967568\n",
      ", name: \"/device:GPU:0\"\n",
      "device_type: \"GPU\"\n",
      "memory_limit: 7557644288\n",
      "locality {\n",
      "  bus_id: 1\n",
      "  links {\n",
      "  }\n",
      "}\n",
      "incarnation: 9299678990376011098\n",
      "physical_device_desc: \"device: 0, name: GeForce GTX 1070, pci bus id: 0000:65:00.0, compute capability: 6.1\"\n",
      "]\n"
     ]
    }
   ],
   "source": [
    "# view tenslow enabled devices\n",
    "from tensorflow.python.client import device_lib\n",
    "print(device_lib.list_local_devices())"
   ]
  },
  {
   "cell_type": "markdown",
   "metadata": {},
   "source": [
    "# User parameters"
   ]
  },
  {
   "cell_type": "code",
   "execution_count": 3,
   "metadata": {},
   "outputs": [],
   "source": [
    "ticker = 'amd'.upper()\n",
    "n_in = 100 # number of historical days to input\n",
    "n_out = 1 # days into future to predict\n",
    "target = 'd1close'"
   ]
  },
  {
   "cell_type": "markdown",
   "metadata": {},
   "source": [
    "# Load Data\n",
    "### Several methods available here:\n",
    "* Load a single stock\n",
    "* get a refresh of the stock\n",
    "* load a single stock as the target while using many other stocks as additional features"
   ]
  },
  {
   "cell_type": "code",
   "execution_count": 4,
   "metadata": {},
   "outputs": [
    {
     "name": "stdout",
     "output_type": "stream",
     "text": [
      "Loaded AMD\n"
     ]
    }
   ],
   "source": [
    "# load dataset\n",
    "# dataset = getStocks.get_single(ticker=ticker, save=True)\n",
    "dataset = getStocks.load_single(ticker)\n",
    "#dataset = getStocks.join_tgt_spt(target_ticker=ticker.upper(), number_spt=20)\n",
    "dataset.reset_index(level=0, inplace=True)\n",
    "dataset.rename(columns=lambda x: x.replace(' ',''),inplace=True)"
   ]
  },
  {
   "cell_type": "markdown",
   "metadata": {},
   "source": [
    "# Prepare Data for LSTM"
   ]
  },
  {
   "cell_type": "code",
   "execution_count": 5,
   "metadata": {},
   "outputs": [
    {
     "name": "stderr",
     "output_type": "stream",
     "text": [
      "/mnt/data/Dropbox/Projects/LSTM-forecast/src/TS_LSTM.py:90: SettingWithCopyWarning: \n",
      "A value is trying to be set on a copy of a slice from a DataFrame\n",
      "\n",
      "See the caveats in the documentation: http://pandas.pydata.org/pandas-docs/stable/indexing.html#indexing-view-versus-copy\n",
      "  self.data.drop('Date', axis=1, inplace=True)\n"
     ]
    }
   ],
   "source": [
    "# using default options\n",
    "'''\n",
    "ts_data=ts_lstm.ts_data.default_prep(n_in=n_in, n_out=n_out, \n",
    "                      ticker=ticker,target=target,\n",
    "                      rawData=dataset)\n",
    "'''\n",
    "\n",
    "ts_data = ts_lstm.ts_data(n_in=n_in, n_out=n_out, \n",
    "                      ticker=ticker,target=target,\n",
    "                      rawData=dataset)\n",
    "ts_data.eng_features(derivate=True, weekdays=False)\n",
    "ts_data.roll_data()\n",
    "ts_data.tscv(train=0.99)"
   ]
  },
  {
   "cell_type": "markdown",
   "metadata": {},
   "source": [
    "# Build LSTM Architecture"
   ]
  },
  {
   "cell_type": "code",
   "execution_count": 6,
   "metadata": {},
   "outputs": [
    {
     "name": "stdout",
     "output_type": "stream",
     "text": [
      "Compilation Time :  0.0153656005859375\n",
      "_________________________________________________________________\n",
      "Layer (type)                 Output Shape              Param #   \n",
      "=================================================================\n",
      "lstm_1 (LSTM)                (None, 22)                2992      \n",
      "_________________________________________________________________\n",
      "dropout_1 (Dropout)          (None, 22)                0         \n",
      "_________________________________________________________________\n",
      "dense_1 (Dense)              (None, 1)                 23        \n",
      "=================================================================\n",
      "Total params: 3,015\n",
      "Trainable params: 3,015\n",
      "Non-trainable params: 0\n",
      "_________________________________________________________________\n"
     ]
    }
   ],
   "source": [
    "ts_model = ts_lstm.build_model(ts_data, \n",
    "                               inlayer=int(ts_data.train_X.shape[-1])*2,\n",
    "                               hiddenlayers=0,\n",
    "                               loss_function='mean_squared_error',\n",
    "                               dropout=0.05,\n",
    "                               activation='tanh')"
   ]
  },
  {
   "cell_type": "markdown",
   "metadata": {},
   "source": [
    "# Fit model"
   ]
  },
  {
   "cell_type": "code",
   "execution_count": null,
   "metadata": {},
   "outputs": [],
   "source": [
    "history = ts_model.fit(ts_data.train_X, ts_data.train_y, \n",
    "                    epochs=50, \n",
    "                    batch_size=1024, \n",
    "                    validation_data=(ts_data.test_X, ts_data.test_y), \n",
    "                    verbose=2, \n",
    "                    shuffle=False)"
   ]
  },
  {
   "cell_type": "code",
   "execution_count": null,
   "metadata": {
    "scrolled": true
   },
   "outputs": [],
   "source": [
    "visualize.plot_loss(history)"
   ]
  },
  {
   "cell_type": "markdown",
   "metadata": {},
   "source": [
    "# Results"
   ]
  },
  {
   "cell_type": "code",
   "execution_count": null,
   "metadata": {},
   "outputs": [],
   "source": [
    "# select last 30 days of test data (30 records)\n",
    "test_X = ts_data.test_X[-30:]\n",
    "test_Y = ts_data.test_y[-30:]"
   ]
  },
  {
   "cell_type": "code",
   "execution_count": null,
   "metadata": {},
   "outputs": [],
   "source": [
    "test_Y[:,0]\n",
    "# [print(x.shape) for x in test_X]"
   ]
  },
  {
   "cell_type": "code",
   "execution_count": null,
   "metadata": {},
   "outputs": [],
   "source": [
    "yhat = [float(ts_model.predict(x.reshape(1, 100, 11))) for x in test_X]"
   ]
  },
  {
   "cell_type": "code",
   "execution_count": null,
   "metadata": {},
   "outputs": [],
   "source": [
    "import matplotlib.pyplot as plt\n",
    "x = [x for x in range(len(yhat))]\n",
    "plt.plot(x, yhat, label='predicted change in price')\n",
    "plt.plot(x, test_Y[:,0], label='actual change in price')\n",
    "plt.title(ticker)\n",
    "plt.xlabel('days')\n",
    "plt.ylabel('amount change in price')\n",
    "plt.legend()\n",
    "plt.show()"
   ]
  },
  {
   "cell_type": "code",
   "execution_count": null,
   "metadata": {},
   "outputs": [],
   "source": []
  }
 ],
 "metadata": {
  "kernelspec": {
   "display_name": "Python 3",
   "language": "python",
   "name": "python3"
  },
  "language_info": {
   "codemirror_mode": {
    "name": "ipython",
    "version": 3
   },
   "file_extension": ".py",
   "mimetype": "text/x-python",
   "name": "python",
   "nbconvert_exporter": "python",
   "pygments_lexer": "ipython3",
   "version": "3.6.4"
  }
 },
 "nbformat": 4,
 "nbformat_minor": 2
}
