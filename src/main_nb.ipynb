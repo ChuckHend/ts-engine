{
 "cells": [
  {
   "cell_type": "code",
   "execution_count": 15,
   "metadata": {
    "collapsed": true
   },
   "outputs": [],
   "source": [
    "import os\n",
    "os.environ['CUDA_VISIBLE_DEVICES'] = '-1'"
   ]
  },
  {
   "cell_type": "code",
   "execution_count": 1,
   "metadata": {},
   "outputs": [
    {
     "name": "stderr",
     "output_type": "stream",
     "text": [
      "Using TensorFlow backend.\n"
     ]
    }
   ],
   "source": [
    "import os\n",
    "os.chdir('T:/Projects/LSTM-forecast/src')\n",
    "import featureEng as fe\n",
    "import processStocks as ps\n",
    "import lstm\n",
    "import getStocks\n",
    "import visualize\n",
    "import predicts"
   ]
  },
  {
   "cell_type": "code",
   "execution_count": 2,
   "metadata": {},
   "outputs": [
    {
     "name": "stdout",
     "output_type": "stream",
     "text": [
      "[name: \"/device:CPU:0\"\n",
      "device_type: \"CPU\"\n",
      "memory_limit: 268435456\n",
      "locality {\n",
      "}\n",
      "incarnation: 10330150693132808378\n",
      ", name: \"/device:GPU:0\"\n",
      "device_type: \"GPU\"\n",
      "memory_limit: 6814913823\n",
      "locality {\n",
      "  bus_id: 1\n",
      "}\n",
      "incarnation: 334222255201939378\n",
      "physical_device_desc: \"device: 0, name: GeForce GTX 1070, pci bus id: 0000:65:00.0, compute capability: 6.1\"\n",
      "]\n"
     ]
    }
   ],
   "source": [
    "from tensorflow.python.client import device_lib\n",
    "print(device_lib.list_local_devices())"
   ]
  },
  {
   "cell_type": "code",
   "execution_count": 3,
   "metadata": {},
   "outputs": [],
   "source": [
    "####TODO: reshaping so we can plot various n_in, n_out\n",
    "# model seems to work, but cant redim for plot\n",
    "ticker = 'unh'\n",
    "\n",
    "n_in = 30\n",
    "n_out = 10\n",
    "target = 'Close'"
   ]
  },
  {
   "cell_type": "code",
   "execution_count": 21,
   "metadata": {},
   "outputs": [
    {
     "data": {
      "text/plain": [
       "<module 'getStocks' from 'T:\\\\Projects\\\\LSTM-forecast\\\\src\\\\getStocks.py'>"
      ]
     },
     "execution_count": 21,
     "metadata": {},
     "output_type": "execute_result"
    }
   ],
   "source": [
    "import imp\n",
    "imp.reload(getStocks)"
   ]
  },
  {
   "cell_type": "code",
   "execution_count": null,
   "metadata": {},
   "outputs": [
    {
     "name": "stdout",
     "output_type": "stream",
     "text": [
      "MMM\t: Success MMM\n",
      "ABT\t: Success ABT\n",
      "ABBV\t: Success ABBV\n",
      "ACN\t: Success ACN\n",
      "ATVI\t: Success ATVI\n",
      "AYI\t: ERROR\n",
      "ADBE\t: Success ADBE\n",
      "AMD\t: Success AMD\n",
      "AAP\t: Success AAP\n",
      "AES\t: Success AES\n",
      "AET\t: Success AET\n",
      "AMG\t: Success AMG\n",
      "AFL\t: Success AFL\n",
      "A\t: ERROR\n",
      "APD\t: Success APD\n",
      "AKAM\t: Success AKAM\n",
      "ALK\t: Success ALK\n",
      "ALB\t: Success ALB\n",
      "ARE\t: Success ARE\n",
      "ALXN\t: Success ALXN\n",
      "ALGN\t: ERROR\n",
      "ALLE\t: ERROR\n",
      "AGN\t: Success AGN\n",
      "ADS\t: Success ADS\n",
      "LNT\t: ERROR\n",
      "ALL\t: Success ALL\n",
      "GOOGL\t: Success GOOGL\n",
      "GOOG\t: Success GOOG\n",
      "MO\t: Success MO\n",
      "AMZN\t: Success AMZN\n",
      "AEE\t: Success AEE\n",
      "AAL\t: Success AAL\n",
      "AEP\t: ERROR\n",
      "AXP\t: Success AXP\n",
      "AIG\t: Success AIG\n",
      "AMT\t: Success AMT\n",
      "AWK\t: ERROR\n",
      "AMP\t: Success AMP\n",
      "ABC\t: Success ABC\n",
      "AME\t: Success AME\n",
      "AMGN\t: Success AMGN\n",
      "APH\t: ERROR\n",
      "APC\t: Success APC\n",
      "ADI\t: Success ADI\n",
      "ANDV\t: Success ANDV\n",
      "ANSS\t: Success ANSS\n",
      "ANTM\t: Success ANTM\n",
      "AON\t: Success AON\n",
      "AOS\t: Success AOS\n",
      "APA\t: Success APA\n",
      "AIV\t: Success AIV\n",
      "AAPL\t: Success AAPL\n",
      "AMAT\t: Success AMAT\n",
      "APTV\t: Success APTV\n",
      "ADM\t: Success ADM\n",
      "ARNC\t: ERROR\n",
      "AJG\t: Success AJG\n",
      "AIZ\t: ERROR\n",
      "T\t: Success T\n",
      "ADSK\t: Success ADSK\n",
      "ADP\t: Success ADP\n",
      "AZO\t: Success AZO\n",
      "AVB\t: ERROR\n",
      "AVY\t: Success AVY\n",
      "BHGE\t: Success BHGE\n",
      "BLL\t: Success BLL\n",
      "BAC\t: Success BAC\n",
      "BK\t: Success BK\n",
      "BCR\t: Success BCR\n",
      "BAX\t: Success BAX\n",
      "BBT\t: ERROR\n",
      "BDX\t: Success BDX\n",
      "BRK.B\t: ERROR\n",
      "BBY\t: Success BBY\n",
      "BIIB\t: Success BIIB\n",
      "BLK\t: ERROR\n",
      "HRB\t: Success HRB\n",
      "BA\t: Success BA\n",
      "BWA\t: Success BWA\n",
      "BXP\t: Success BXP\n",
      "BSX\t: Success BSX\n",
      "BHF\t: Success BHF\n",
      "BMY\t: Success BMY\n",
      "AVGO\t: Success AVGO\n",
      "BF.B\t: ERROR\n",
      "CHRW\t: Success CHRW\n",
      "CA\t: ERROR\n",
      "COG\t: Success COG\n",
      "CDNS\t: Success CDNS\n",
      "CPB\t: Success CPB\n",
      "COF\t: Success COF\n",
      "CAH\t: Success CAH\n",
      "CBOE\t: Success CBOE\n",
      "KMX\t: Success KMX\n",
      "CCL\t: Success CCL\n",
      "CAT\t: Success CAT\n",
      "CBG\t: ERROR\n",
      "CBS\t: Success CBS\n",
      "CELG\t: Success CELG\n",
      "CNC\t: Success CNC\n",
      "CNP\t: Success CNP\n",
      "CTL\t: Success CTL\n",
      "CERN\t: Success CERN\n",
      "CF\t: Success CF\n",
      "SCHW\t: Success SCHW\n",
      "CHTR\t: ERROR\n",
      "CHK\t: Success CHK\n",
      "CVX\t: Success CVX\n",
      "CMG\t: Success CMG\n",
      "CB\t: Success CB\n",
      "CHD\t: Success CHD\n",
      "CI\t: Success CI\n",
      "XEC\t: Success XEC\n",
      "CINF\t: "
     ]
    }
   ],
   "source": [
    "# collect a bunch of data from the market, save it to directory\n",
    "getStocks.get_mkt_data(source='yahoo')"
   ]
  },
  {
   "cell_type": "code",
   "execution_count": 13,
   "metadata": {},
   "outputs": [],
   "source": [
    "import glob\n",
    "glob.glob(../Data)\n",
    "tickers = save_tickers(returnTickers=True)\n",
    "for ticker in tickers:\n",
    "    \n",
    "    "
   ]
  },
  {
   "cell_type": "code",
   "execution_count": 15,
   "metadata": {},
   "outputs": [
    {
     "ename": "TypeError",
     "evalue": "utcfromtimestamp() takes exactly 1 argument (0 given)",
     "output_type": "error",
     "traceback": [
      "\u001b[1;31m---------------------------------------------------------------------------\u001b[0m",
      "\u001b[1;31mTypeError\u001b[0m                                 Traceback (most recent call last)",
      "\u001b[1;32m<ipython-input-15-16badc60e7a6>\u001b[0m in \u001b[0;36m<module>\u001b[1;34m()\u001b[0m\n\u001b[0;32m      1\u001b[0m \u001b[1;32mimport\u001b[0m \u001b[0mdatetime\u001b[0m \u001b[1;32mas\u001b[0m \u001b[0mdt\u001b[0m\u001b[1;33m\u001b[0m\u001b[0m\n\u001b[1;32m----> 2\u001b[1;33m \u001b[0mdt\u001b[0m\u001b[1;33m.\u001b[0m\u001b[0mdatetime\u001b[0m\u001b[1;33m.\u001b[0m\u001b[0mutcfromtimestamp\u001b[0m\u001b[1;33m(\u001b[0m\u001b[1;33m)\u001b[0m\u001b[1;33m\u001b[0m\u001b[0m\n\u001b[0m",
      "\u001b[1;31mTypeError\u001b[0m: utcfromtimestamp() takes exactly 1 argument (0 given)"
     ]
    }
   ],
   "source": [
    "import datetime as dt\n",
    "dt.datetime.utcnow()"
   ]
  },
  {
   "cell_type": "code",
   "execution_count": 12,
   "metadata": {},
   "outputs": [
    {
     "ename": "IndexError",
     "evalue": "list index out of range",
     "output_type": "error",
     "traceback": [
      "\u001b[1;31m---------------------------------------------------------------------------\u001b[0m",
      "\u001b[1;31mIndexError\u001b[0m                                Traceback (most recent call last)",
      "\u001b[1;32m<ipython-input-12-bdf837713719>\u001b[0m in \u001b[0;36m<module>\u001b[1;34m()\u001b[0m\n\u001b[0;32m      1\u001b[0m \u001b[1;31m# load dataset\u001b[0m\u001b[1;33m\u001b[0m\u001b[1;33m\u001b[0m\u001b[0m\n\u001b[0;32m      2\u001b[0m \u001b[1;31m#dataset = getStocks.get_single(ticker=ticker, save=True)\u001b[0m\u001b[1;33m\u001b[0m\u001b[1;33m\u001b[0m\u001b[0m\n\u001b[1;32m----> 3\u001b[1;33m \u001b[0mdataset\u001b[0m \u001b[1;33m=\u001b[0m \u001b[0mgetStocks\u001b[0m\u001b[1;33m.\u001b[0m\u001b[0mload_single\u001b[0m\u001b[1;33m(\u001b[0m\u001b[0mticker\u001b[0m\u001b[1;33m)\u001b[0m\u001b[1;33m\u001b[0m\u001b[0m\n\u001b[0m\u001b[0;32m      4\u001b[0m \u001b[0mdataset\u001b[0m\u001b[1;33m.\u001b[0m\u001b[0mrename\u001b[0m\u001b[1;33m(\u001b[0m\u001b[0mcolumns\u001b[0m\u001b[1;33m=\u001b[0m\u001b[1;33m{\u001b[0m\u001b[1;34m'Adj Close'\u001b[0m\u001b[1;33m:\u001b[0m\u001b[1;34m'AdjCls'\u001b[0m\u001b[1;33m}\u001b[0m\u001b[1;33m,\u001b[0m \u001b[0minplace\u001b[0m\u001b[1;33m=\u001b[0m\u001b[1;32mTrue\u001b[0m\u001b[1;33m)\u001b[0m\u001b[1;33m\u001b[0m\u001b[0m\n",
      "\u001b[1;32mT:\\Projects\\LSTM-forecast\\src\\getStocks.py\u001b[0m in \u001b[0;36mload_single\u001b[1;34m(ticker)\u001b[0m\n\u001b[0;32m     33\u001b[0m \u001b[1;33m\u001b[0m\u001b[0m\n\u001b[0;32m     34\u001b[0m     \u001b[1;32mtry\u001b[0m\u001b[1;33m:\u001b[0m\u001b[1;33m\u001b[0m\u001b[0m\n\u001b[1;32m---> 35\u001b[1;33m         \u001b[0mfiles\u001b[0m\u001b[1;33m=\u001b[0m\u001b[0mfiles\u001b[0m\u001b[1;33m[\u001b[0m\u001b[1;33m-\u001b[0m\u001b[1;36m1\u001b[0m\u001b[1;33m]\u001b[0m \u001b[1;31m#-1 to get largest dtstamp, most recent\u001b[0m\u001b[1;33m\u001b[0m\u001b[0m\n\u001b[0m\u001b[0;32m     36\u001b[0m         \u001b[1;32mtry\u001b[0m\u001b[1;33m:\u001b[0m\u001b[1;33m\u001b[0m\u001b[0m\n\u001b[0;32m     37\u001b[0m             \u001b[0mdata\u001b[0m\u001b[1;33m=\u001b[0m\u001b[0mpd\u001b[0m\u001b[1;33m.\u001b[0m\u001b[0mread_csv\u001b[0m\u001b[1;33m(\u001b[0m\u001b[0mfiles\u001b[0m\u001b[1;33m)\u001b[0m\u001b[1;33m\u001b[0m\u001b[0m\n",
      "\u001b[1;31mIndexError\u001b[0m: list index out of range"
     ]
    }
   ],
   "source": [
    "# load dataset\n",
    "#dataset = getStocks.get_single(ticker=ticker, save=True)\n",
    "dataset = getStocks.load_single(ticker)\n",
    "dataset.rename(columns={'Adj Close':'AdjCls'}, inplace=True)"
   ]
  },
  {
   "cell_type": "code",
   "execution_count": 5,
   "metadata": {
    "collapsed": true
   },
   "outputs": [],
   "source": [
    "## Generate new features\n",
    "dataset = fe.derivative(dataset, drop_na = True)\n",
    "dataset = fe.weekDay(dataset)\n",
    "features = list(dataset.columns)\n",
    "# move target to position [-1]\n",
    "features.remove(target)\n",
    "features.append(target)\n",
    "features=list(features)\n",
    "dataset=dataset[features]"
   ]
  },
  {
   "cell_type": "code",
   "execution_count": 6,
   "metadata": {},
   "outputs": [
    {
     "data": {
      "image/png": "[encoded data removed]",
      "text/plain": [
       "<matplotlib.figure.Figure at 0x13484f8e438>"
      ]
     },
     "metadata": {},
     "output_type": "display_data"
    }
   ],
   "source": [
    "# Plot the features\n",
    "visualize.plot_features(dataset)\n"
   ]
  },
  {
   "cell_type": "code",
   "execution_count": 7,
   "metadata": {},
   "outputs": [
    {
     "name": "stdout",
     "output_type": "stream",
     "text": [
      "starting Series to supverised conversion...\n"
     ]
    }
   ],
   "source": [
    "# frame as supervised learning\n",
    "# this will be for scaling the data to the window scaled_in to scaled_out\n",
    "reframed=ps.series_to_supervised(dataset, n_in=n_in, n_out=n_out, \n",
    "                                   features=features)"
   ]
  },
  {
   "cell_type": "code",
   "execution_count": 8,
   "metadata": {
    "collapsed": true
   },
   "outputs": [],
   "source": [
    "# drop all but the 'target' from the predictor set\n",
    "# this might be able to take an array for multi-output\n",
    "reframed=ps.frame_targets(reframed, features, n_out,target=target)\n",
    "\n",
    "#scaler = MinMaxScaler(feature_range=(-1, 1))\n",
    "#scaled = scaler.fit_transform(reframed)\n",
    "# pass the feature in the sequence that we dont want scaled"
   ]
  },
  {
   "cell_type": "code",
   "execution_count": 33,
   "metadata": {},
   "outputs": [
    {
     "name": "stdout",
     "output_type": "stream",
     "text": [
      "Scaling each sequence...\n",
      " Progress....1.09Sequence scaling complete.\n"
     ]
    }
   ],
   "source": [
    "#reframed=reframed.iloc[:10,:] #test/debug\n",
    "#dataset=reframed\n",
    "scaled=ps.scale_sequence(reframed, features, \n",
    "                         scaleTarget=True, target=target)"
   ]
  },
  {
   "cell_type": "code",
   "execution_count": 9,
   "metadata": {
    "collapsed": true
   },
   "outputs": [],
   "source": [
    "scaled=reframed"
   ]
  },
  {
   "cell_type": "code",
   "execution_count": 10,
   "metadata": {
    "collapsed": true
   },
   "outputs": [],
   "source": [
    "#getStocks.saveScaled(scaled, n_in, n_out, ticker)\n",
    "# load scaled \n",
    "\n",
    "#scaled=pd.read_csv('../data/astc/astc_29092017_scaled_30_30.csv')\n",
    "\n",
    "\n",
    "# put in order of time (t-n_in should be on left of df, with t+ on the right)\n",
    "\n",
    "# split into train, validation, test\n",
    "train, validation, test = lstm.tscv(scaled, train=0.7, validation=0.25)"
   ]
  },
  {
   "cell_type": "code",
   "execution_count": 11,
   "metadata": {
    "collapsed": true
   },
   "outputs": [],
   "source": [
    "# split into input and outputs\n",
    "# the last n columns are the output variable\n",
    "\n",
    "train_X, train_y = train[:, :-n_out], train[:, -n_out:]\n",
    "X_validation, Y_validation = validation[:, :-n_out], validation[:, -n_out:]\n",
    "test_X, test_y = test[:, :-n_out], test[:, -n_out:]"
   ]
  },
  {
   "cell_type": "code",
   "execution_count": 12,
   "metadata": {
    "collapsed": true
   },
   "outputs": [],
   "source": [
    "# ensure the shaping makes sense the way all the variables are arranged\n",
    "# reshape input to be 3D [samples(observations), timesteps (n_in), features]\n",
    "train_X = ps.shape(train_X, n_in=n_in, features=features)\n",
    "X_validation = ps.shape(X_validation, n_in=n_in, features=features)\n",
    "test_X = ps.shape(test_X, n_in=n_in, features=features)"
   ]
  },
  {
   "cell_type": "code",
   "execution_count": 20,
   "metadata": {},
   "outputs": [
    {
     "data": {
      "text/plain": [
       "<module 'lstm' from 'D:\\\\projects\\\\4cast\\\\src\\\\lstm.py'>"
      ]
     },
     "execution_count": 20,
     "metadata": {},
     "output_type": "execute_result"
    }
   ],
   "source": [
    "import imp\n",
    "imp.reload(lstm)"
   ]
  },
  {
   "cell_type": "code",
   "execution_count": 18,
   "metadata": {},
   "outputs": [
    {
     "name": "stdout",
     "output_type": "stream",
     "text": [
      "Compilation Time :  0.01905035972595215\n",
      "_________________________________________________________________\n",
      "Layer (type)                 Output Shape              Param #   \n",
      "=================================================================\n",
      "lstm_5 (LSTM)                (None, 30, 2250)          20394000  \n",
      "_________________________________________________________________\n",
      "dropout_5 (Dropout)          (None, 30, 2250)          0         \n",
      "_________________________________________________________________\n",
      "lstm_6 (LSTM)                (None, 100)               940400    \n",
      "_________________________________________________________________\n",
      "dropout_6 (Dropout)          (None, 100)               0         \n",
      "_________________________________________________________________\n",
      "dense_3 (Dense)              (None, 10)                1010      \n",
      "=================================================================\n",
      "Total params: 21,335,410\n",
      "Trainable params: 21,335,410\n",
      "Non-trainable params: 0\n",
      "_________________________________________________________________\n"
     ]
    }
   ],
   "source": [
    "model = lstm.build_model(train_X, \n",
    "                         timesteps=n_in, \n",
    "                         inlayer=int(train_X.shape[-1]*150),\n",
    "                         hiddenlayers=[100], \n",
    "                         outlayer=n_out)"
   ]
  },
  {
   "cell_type": "code",
   "execution_count": null,
   "metadata": {},
   "outputs": [
    {
     "name": "stdout",
     "output_type": "stream",
     "text": [
      "Train on 3987 samples, validate on 1425 samples\n",
      "Epoch 1/200\n",
      "10s - loss: 704.2468 - val_loss: 6548.2801\n",
      "Epoch 2/200\n",
      "8s - loss: 643.4552 - val_loss: 6358.5613\n",
      "Epoch 3/200\n",
      "8s - loss: 597.6697 - val_loss: 6178.0888\n",
      "Epoch 4/200\n",
      "8s - loss: 556.9904 - val_loss: 6013.4178\n",
      "Epoch 5/200\n",
      "8s - loss: 521.9573 - val_loss: 5860.9496\n",
      "Epoch 6/200\n",
      "8s - loss: 490.5837 - val_loss: 5719.3659\n",
      "Epoch 7/200\n",
      "8s - loss: 462.8148 - val_loss: 5587.5819\n",
      "Epoch 8/200\n",
      "8s - loss: 440.2008 - val_loss: 5465.0761\n",
      "Epoch 9/200\n",
      "8s - loss: 419.4978 - val_loss: 5351.2316\n",
      "Epoch 10/200\n",
      "8s - loss: 400.8506 - val_loss: 5245.2585\n",
      "Epoch 11/200\n",
      "8s - loss: 384.6420 - val_loss: 5146.6334\n",
      "Epoch 12/200\n",
      "8s - loss: 370.6516 - val_loss: 5055.1298\n",
      "Epoch 13/200\n",
      "8s - loss: 359.5815 - val_loss: 4969.9677\n",
      "Epoch 14/200\n",
      "8s - loss: 349.4591 - val_loss: 4891.1322\n",
      "Epoch 15/200\n",
      "8s - loss: 339.1114 - val_loss: 4818.2336\n",
      "Epoch 16/200\n",
      "8s - loss: 333.5201 - val_loss: 4750.6190\n",
      "Epoch 17/200\n",
      "8s - loss: 326.5864 - val_loss: 4688.2949\n",
      "Epoch 18/200\n",
      "8s - loss: 319.3746 - val_loss: 4630.3417\n",
      "Epoch 19/200\n",
      "8s - loss: 315.7951 - val_loss: 4576.6866\n",
      "Epoch 20/200\n",
      "8s - loss: 310.3805 - val_loss: 4526.9394\n",
      "Epoch 21/200\n",
      "8s - loss: 307.7935 - val_loss: 4481.1973\n",
      "Epoch 22/200\n",
      "8s - loss: 303.6076 - val_loss: 4438.9014\n",
      "Epoch 23/200\n",
      "8s - loss: 301.5476 - val_loss: 4399.9228\n",
      "Epoch 24/200\n",
      "8s - loss: 299.9476 - val_loss: 4364.3005\n",
      "Epoch 25/200\n",
      "8s - loss: 297.9330 - val_loss: 4331.1078\n",
      "Epoch 26/200\n",
      "8s - loss: 297.2615 - val_loss: 4300.5615\n",
      "Epoch 27/200\n",
      "8s - loss: 295.8735 - val_loss: 4272.3452\n",
      "Epoch 28/200\n",
      "8s - loss: 293.6988 - val_loss: 4246.2191\n",
      "Epoch 29/200\n",
      "8s - loss: 294.2069 - val_loss: 4222.6355\n",
      "Epoch 30/200\n",
      "8s - loss: 294.0391 - val_loss: 4201.0859\n",
      "Epoch 31/200\n",
      "8s - loss: 292.7353 - val_loss: 4181.2715\n",
      "Epoch 32/200\n",
      "8s - loss: 291.4453 - val_loss: 4163.0836\n",
      "Epoch 33/200\n",
      "8s - loss: 291.0503 - val_loss: 4146.2628\n",
      "Epoch 34/200\n",
      "8s - loss: 291.4614 - val_loss: 4130.8544\n",
      "Epoch 35/200\n",
      "8s - loss: 291.7673 - val_loss: 4116.9613\n",
      "Epoch 36/200\n",
      "8s - loss: 290.6692 - val_loss: 4103.9522\n",
      "Epoch 37/200\n",
      "8s - loss: 291.3406 - val_loss: 4092.0315\n",
      "Epoch 38/200\n",
      "8s - loss: 290.1007 - val_loss: 4080.8061\n",
      "Epoch 39/200\n",
      "8s - loss: 291.0642 - val_loss: 4070.9546\n",
      "Epoch 40/200\n",
      "8s - loss: 289.8400 - val_loss: 4061.2958\n",
      "Epoch 41/200\n",
      "8s - loss: 290.5723 - val_loss: 4052.7541\n",
      "Epoch 42/200\n",
      "8s - loss: 289.8656 - val_loss: 4044.8172\n",
      "Epoch 43/200\n",
      "8s - loss: 289.5514 - val_loss: 4037.0878\n",
      "Epoch 44/200\n",
      "8s - loss: 288.5790 - val_loss: 4030.2608\n",
      "Epoch 45/200\n",
      "8s - loss: 288.2479 - val_loss: 4023.8560\n",
      "Epoch 46/200\n",
      "8s - loss: 289.7560 - val_loss: 4017.6081\n",
      "Epoch 47/200\n",
      "8s - loss: 289.9604 - val_loss: 4012.4046\n",
      "Epoch 48/200\n",
      "8s - loss: 289.9918 - val_loss: 4007.7228\n",
      "Epoch 49/200\n",
      "8s - loss: 290.3265 - val_loss: 4003.4023\n",
      "Epoch 50/200\n",
      "8s - loss: 288.5615 - val_loss: 3998.7255\n",
      "Epoch 51/200\n",
      "8s - loss: 288.2004 - val_loss: 3995.5674\n",
      "Epoch 52/200\n",
      "8s - loss: 290.2566 - val_loss: 3991.5042\n",
      "Epoch 53/200\n",
      "8s - loss: 288.0937 - val_loss: 3987.8660\n",
      "Epoch 54/200\n",
      "8s - loss: 291.4127 - val_loss: 3985.4586\n",
      "Epoch 55/200\n",
      "8s - loss: 289.6823 - val_loss: 3982.5392\n",
      "Epoch 56/200\n",
      "8s - loss: 289.1067 - val_loss: 3979.8905\n",
      "Epoch 57/200\n",
      "8s - loss: 289.0584 - val_loss: 3977.0161\n",
      "Epoch 58/200\n",
      "8s - loss: 289.1894 - val_loss: 3974.9962\n",
      "Epoch 59/200\n",
      "8s - loss: 288.0165 - val_loss: 3972.7181\n",
      "Epoch 60/200\n",
      "8s - loss: 290.0032 - val_loss: 3971.1385\n",
      "Epoch 61/200\n",
      "8s - loss: 288.5498 - val_loss: 3968.9404\n",
      "Epoch 62/200\n",
      "8s - loss: 288.2669 - val_loss: 3967.1577\n",
      "Epoch 63/200\n",
      "8s - loss: 290.4631 - val_loss: 3965.9983\n",
      "Epoch 64/200\n",
      "8s - loss: 289.1353 - val_loss: 3964.6600\n",
      "Epoch 65/200\n",
      "8s - loss: 287.7669 - val_loss: 3963.0781\n",
      "Epoch 66/200\n",
      "8s - loss: 289.6701 - val_loss: 3961.9381\n",
      "Epoch 67/200\n",
      "8s - loss: 290.6364 - val_loss: 3961.3910\n",
      "Epoch 68/200\n",
      "8s - loss: 289.7101 - val_loss: 3960.7453\n",
      "Epoch 69/200\n",
      "8s - loss: 289.4750 - val_loss: 3960.3022\n",
      "Epoch 70/200\n",
      "8s - loss: 288.9727 - val_loss: 3959.4850\n",
      "Epoch 71/200\n",
      "8s - loss: 290.8506 - val_loss: 3958.7718\n",
      "Epoch 72/200\n",
      "8s - loss: 289.3933 - val_loss: 3957.9424\n",
      "Epoch 73/200\n",
      "8s - loss: 288.0652 - val_loss: 3957.0859\n",
      "Epoch 74/200\n",
      "8s - loss: 289.0742 - val_loss: 3955.9737\n",
      "Epoch 75/200\n",
      "8s - loss: 289.0298 - val_loss: 3955.6440\n",
      "Epoch 76/200\n",
      "8s - loss: 288.3137 - val_loss: 3954.8900\n",
      "Epoch 77/200\n",
      "8s - loss: 287.8774 - val_loss: 3953.7917\n",
      "Epoch 78/200\n",
      "8s - loss: 287.1154 - val_loss: 3953.4348\n",
      "Epoch 79/200\n",
      "8s - loss: 289.5885 - val_loss: 3953.4843\n",
      "Epoch 80/200\n",
      "8s - loss: 288.9212 - val_loss: 3953.4115\n",
      "Epoch 81/200\n",
      "8s - loss: 288.1847 - val_loss: 3952.5902\n",
      "Epoch 82/200\n",
      "8s - loss: 287.8696 - val_loss: 3951.4299\n",
      "Epoch 83/200\n",
      "8s - loss: 287.6351 - val_loss: 3951.2111\n",
      "Epoch 84/200\n",
      "8s - loss: 288.0377 - val_loss: 3951.4204\n",
      "Epoch 85/200\n",
      "8s - loss: 289.1489 - val_loss: 3951.4253\n",
      "Epoch 86/200\n",
      "8s - loss: 288.4840 - val_loss: 3951.2208\n",
      "Epoch 87/200\n",
      "8s - loss: 287.3312 - val_loss: 3950.4526\n",
      "Epoch 88/200\n",
      "8s - loss: 287.8644 - val_loss: 3949.8787\n",
      "Epoch 89/200\n",
      "8s - loss: 287.4067 - val_loss: 3949.5543\n",
      "Epoch 90/200\n",
      "8s - loss: 288.4756 - val_loss: 3949.2708\n",
      "Epoch 91/200\n",
      "8s - loss: 287.7868 - val_loss: 3948.1569\n",
      "Epoch 92/200\n",
      "8s - loss: 287.0104 - val_loss: 3947.7548\n",
      "Epoch 93/200\n",
      "8s - loss: 287.2618 - val_loss: 3947.3064\n",
      "Epoch 94/200\n",
      "8s - loss: 288.1830 - val_loss: 3947.5481\n",
      "Epoch 95/200\n",
      "8s - loss: 289.1927 - val_loss: 3947.2747\n",
      "Epoch 96/200\n",
      "8s - loss: 288.6620 - val_loss: 3947.7196\n",
      "Epoch 97/200\n",
      "8s - loss: 286.6041 - val_loss: 3946.8624\n",
      "Epoch 98/200\n",
      "8s - loss: 289.4559 - val_loss: 3946.3990\n",
      "Epoch 99/200\n",
      "8s - loss: 288.8033 - val_loss: 3946.6979\n",
      "Epoch 100/200\n",
      "8s - loss: 288.9965 - val_loss: 3946.8793\n",
      "Epoch 101/200\n",
      "8s - loss: 289.0071 - val_loss: 3946.8723\n",
      "Epoch 102/200\n",
      "8s - loss: 288.0297 - val_loss: 3946.7909\n",
      "Epoch 103/200\n",
      "8s - loss: 287.7825 - val_loss: 3946.0281\n",
      "Epoch 104/200\n",
      "8s - loss: 287.7338 - val_loss: 3945.7067\n",
      "Epoch 105/200\n",
      "8s - loss: 287.1234 - val_loss: 3946.0593\n",
      "Epoch 106/200\n",
      "8s - loss: 286.9179 - val_loss: 3945.5751\n",
      "Epoch 107/200\n",
      "8s - loss: 287.9780 - val_loss: 3945.0089\n",
      "Epoch 108/200\n"
     ]
    }
   ],
   "source": [
    "# fit network and save to history\n",
    "history = model.fit(train_X, train_y, \n",
    "                    epochs=200, \n",
    "                    batch_size=256, \n",
    "                    validation_data=(X_validation, Y_validation), \n",
    "                    verbose=2, shuffle=False)\n",
    "\n",
    "# plot history\n",
    "visualize.plot_loss(history)"
   ]
  },
  {
   "cell_type": "code",
   "execution_count": 16,
   "metadata": {},
   "outputs": [
    {
     "data": {
      "image/png": "[encoded data removed]",
      "text/plain": [
       "<matplotlib.figure.Figure at 0x20ddf1b53c8>"
      ]
     },
     "metadata": {},
     "output_type": "display_data"
    }
   ],
   "source": [
    "### KEEP THIS WORKING ####\n",
    "yhat = predicts.predict_sequences_multiple(model, test_X, n_in, n_out)\n",
    "visualize.plot_results_multiple(yhat, test_y[:,0], n_out, legend=False)\n",
    "# visualize.plot_single(yhat, test_y, ticker, data_set_category='test')"
   ]
  },
  {
   "cell_type": "code",
   "execution_count": null,
   "metadata": {
    "collapsed": true
   },
   "outputs": [],
   "source": [
    "###### TODO METHOD####\n",
    "#import predicts\n",
    "## copy weights\n",
    "#old_weights=model.get_weights()\n",
    "#\n",
    "#new_model = Sequential()\n",
    "#new_model.add(LSTM(30, input_shape=(train_X.shape[1], train_X.shape[2]),\n",
    "#          return_sequences=True, activation='tanh'))\n",
    "#new_model.add(Dropout(0.5))\n",
    "#new_model.add(LSTM(10, activation='tanh'))\n",
    "#new_model.add(Dropout(0.5))\n",
    "#new_model.add(Dense(1))\n",
    "#new_model.compile(loss='mae', optimizer='adam')\n",
    "## fit network\n",
    "#new_model.set_weights(old_weights)\n",
    "#predicts.onlineForecast(new_model, test_X, test_y)\n",
    "## # # ____ # # #"
   ]
  }
 ],
 "metadata": {
  "kernelspec": {
   "display_name": "Python 3",
   "language": "python",
   "name": "python3"
  },
  "language_info": {
   "codemirror_mode": {
    "name": "ipython",
    "version": 3
   },
   "file_extension": ".py",
   "mimetype": "text/x-python",
   "name": "python",
   "nbconvert_exporter": "python",
   "pygments_lexer": "ipython3",
   "version": "3.6.3"
  }
 },
 "nbformat": 4,
 "nbformat_minor": 2
}
