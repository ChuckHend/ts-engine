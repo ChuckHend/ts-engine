{
 "cells": [
  {
   "cell_type": "code",
   "execution_count": null,
   "metadata": {},
   "outputs": [],
   "source": [
    "# to disable GPU\n",
    "import os\n",
    "os.environ['CUDA_VISIBLE_DEVICES'] = '-1'"
   ]
  },
  {
   "cell_type": "code",
   "execution_count": 1,
   "metadata": {},
   "outputs": [
    {
     "name": "stderr",
     "output_type": "stream",
     "text": [
      "Using TensorFlow backend.\n"
     ]
    }
   ],
   "source": [
    "import os\n",
    "os.chdir('T:/Projects/LSTM-forecast/src')\n",
    "import featureEng as fe\n",
    "import processStocks as ps\n",
    "import lstm\n",
    "import getStocks\n",
    "import visualize\n",
    "import predicts"
   ]
  },
  {
   "cell_type": "code",
   "execution_count": 2,
   "metadata": {},
   "outputs": [
    {
     "name": "stdout",
     "output_type": "stream",
     "text": [
      "[name: \"/device:CPU:0\"\n",
      "device_type: \"CPU\"\n",
      "memory_limit: 268435456\n",
      "locality {\n",
      "}\n",
      "incarnation: 18177862813982931878\n",
      ", name: \"/device:GPU:0\"\n",
      "device_type: \"GPU\"\n",
      "memory_limit: 6772842168\n",
      "locality {\n",
      "  bus_id: 1\n",
      "}\n",
      "incarnation: 16753324186105240408\n",
      "physical_device_desc: \"device: 0, name: GeForce GTX 1070, pci bus id: 0000:65:00.0, compute capability: 6.1\"\n",
      "]\n"
     ]
    }
   ],
   "source": [
    "# view tenslow enabled devices\n",
    "from tensorflow.python.client import device_lib\n",
    "print(device_lib.list_local_devices())"
   ]
  },
  {
   "cell_type": "markdown",
   "metadata": {},
   "source": [
    "# User parameters"
   ]
  },
  {
   "cell_type": "code",
   "execution_count": 68,
   "metadata": {},
   "outputs": [],
   "source": [
    "####TODO: reshaping so we can plot various n_in, n_out\n",
    "# model seems to work, but cant redim for plot\n",
    "ticker = 'unh'\n",
    "\n",
    "n_in = 10\n",
    "n_out = 5\n",
    "target = 'Close'"
   ]
  },
  {
   "cell_type": "code",
   "execution_count": 69,
   "metadata": {},
   "outputs": [
    {
     "data": {
      "text/plain": [
       "<module 'getStocks' from 'T:\\\\Projects\\\\LSTM-forecast\\\\src\\\\getStocks.py'>"
      ]
     },
     "execution_count": 69,
     "metadata": {},
     "output_type": "execute_result"
    }
   ],
   "source": [
    "import imp\n",
    "imp.reload(getStocks)"
   ]
  },
  {
   "cell_type": "code",
   "execution_count": 70,
   "metadata": {},
   "outputs": [],
   "source": [
    "# collect a bunch of data from the market, save it to directory\n",
    "# getStocks.get_mkt_data(source='yahoo')"
   ]
  },
  {
   "cell_type": "markdown",
   "metadata": {},
   "source": [
    "# Load Data\n",
    "### Several methods available here:\n",
    "* Load a single stock\n",
    "* get a refresh of the stock\n",
    "* load a single stock as the target while using many other stocks as additional features"
   ]
  },
  {
   "cell_type": "code",
   "execution_count": 71,
   "metadata": {},
   "outputs": [],
   "source": [
    "# load dataset\n",
    "#dataset = getStocks.get_single(ticker=ticker, save=True)\n",
    "# dataset = getStocks.load_single(ticker)\n",
    "dataset = getStocks.join_tgt_spt(target_ticker='UNH', number_spt=25)\n",
    "dataset.reset_index(level=0, inplace=True)\n",
    "\n",
    "#dataset.rename(columns={'Adj Close':'AdjCls'}, inplace=True)"
   ]
  },
  {
   "cell_type": "code",
   "execution_count": 72,
   "metadata": {},
   "outputs": [
    {
     "data": {
      "text/html": [
       "<div>\n",
       "<style>\n",
       "    .dataframe thead tr:only-child th {\n",
       "        text-align: right;\n",
       "    }\n",
       "\n",
       "    .dataframe thead th {\n",
       "        text-align: left;\n",
       "    }\n",
       "\n",
       "    .dataframe tbody tr th {\n",
       "        vertical-align: top;\n",
       "    }\n",
       "</style>\n",
       "<table border=\"1\" class=\"dataframe\">\n",
       "  <thead>\n",
       "    <tr style=\"text-align: right;\">\n",
       "      <th></th>\n",
       "      <th>Date</th>\n",
       "      <th>Open</th>\n",
       "      <th>High</th>\n",
       "      <th>Low</th>\n",
       "      <th>Close</th>\n",
       "      <th>Adj Close</th>\n",
       "      <th>Volume</th>\n",
       "      <th>LEGOpen</th>\n",
       "      <th>LEGHigh</th>\n",
       "      <th>LEGLow</th>\n",
       "      <th>...</th>\n",
       "      <th>FISLow</th>\n",
       "      <th>FISClose</th>\n",
       "      <th>FISAdj Close</th>\n",
       "      <th>FISVolume</th>\n",
       "      <th>GPNOpen</th>\n",
       "      <th>GPNHigh</th>\n",
       "      <th>GPNLow</th>\n",
       "      <th>GPNClose</th>\n",
       "      <th>GPNAdj Close</th>\n",
       "      <th>GPNVolume</th>\n",
       "    </tr>\n",
       "  </thead>\n",
       "  <tbody>\n",
       "    <tr>\n",
       "      <th>0</th>\n",
       "      <td>1984-10-17</td>\n",
       "      <td>0.144531</td>\n",
       "      <td>0.148438</td>\n",
       "      <td>0.144531</td>\n",
       "      <td>0.144531</td>\n",
       "      <td>0.126899</td>\n",
       "      <td>9868800</td>\n",
       "      <td>1.520833</td>\n",
       "      <td>1.520833</td>\n",
       "      <td>1.500000</td>\n",
       "      <td>...</td>\n",
       "      <td>NaN</td>\n",
       "      <td>NaN</td>\n",
       "      <td>NaN</td>\n",
       "      <td>NaN</td>\n",
       "      <td>NaN</td>\n",
       "      <td>NaN</td>\n",
       "      <td>NaN</td>\n",
       "      <td>NaN</td>\n",
       "      <td>NaN</td>\n",
       "      <td>NaN</td>\n",
       "    </tr>\n",
       "    <tr>\n",
       "      <th>1</th>\n",
       "      <td>1984-10-18</td>\n",
       "      <td>0.148438</td>\n",
       "      <td>0.156250</td>\n",
       "      <td>0.148438</td>\n",
       "      <td>0.148438</td>\n",
       "      <td>0.130329</td>\n",
       "      <td>5324800</td>\n",
       "      <td>1.520833</td>\n",
       "      <td>1.562500</td>\n",
       "      <td>1.520833</td>\n",
       "      <td>...</td>\n",
       "      <td>NaN</td>\n",
       "      <td>NaN</td>\n",
       "      <td>NaN</td>\n",
       "      <td>NaN</td>\n",
       "      <td>NaN</td>\n",
       "      <td>NaN</td>\n",
       "      <td>NaN</td>\n",
       "      <td>NaN</td>\n",
       "      <td>NaN</td>\n",
       "      <td>NaN</td>\n",
       "    </tr>\n",
       "    <tr>\n",
       "      <th>2</th>\n",
       "      <td>1984-10-19</td>\n",
       "      <td>0.148438</td>\n",
       "      <td>0.148438</td>\n",
       "      <td>0.144531</td>\n",
       "      <td>0.144531</td>\n",
       "      <td>0.126899</td>\n",
       "      <td>3043200</td>\n",
       "      <td>1.552083</td>\n",
       "      <td>1.562500</td>\n",
       "      <td>1.552083</td>\n",
       "      <td>...</td>\n",
       "      <td>NaN</td>\n",
       "      <td>NaN</td>\n",
       "      <td>NaN</td>\n",
       "      <td>NaN</td>\n",
       "      <td>NaN</td>\n",
       "      <td>NaN</td>\n",
       "      <td>NaN</td>\n",
       "      <td>NaN</td>\n",
       "      <td>NaN</td>\n",
       "      <td>NaN</td>\n",
       "    </tr>\n",
       "    <tr>\n",
       "      <th>3</th>\n",
       "      <td>1984-10-22</td>\n",
       "      <td>0.144531</td>\n",
       "      <td>0.148438</td>\n",
       "      <td>0.144531</td>\n",
       "      <td>0.144531</td>\n",
       "      <td>0.126899</td>\n",
       "      <td>2326400</td>\n",
       "      <td>1.562500</td>\n",
       "      <td>1.583333</td>\n",
       "      <td>1.562500</td>\n",
       "      <td>...</td>\n",
       "      <td>NaN</td>\n",
       "      <td>NaN</td>\n",
       "      <td>NaN</td>\n",
       "      <td>NaN</td>\n",
       "      <td>NaN</td>\n",
       "      <td>NaN</td>\n",
       "      <td>NaN</td>\n",
       "      <td>NaN</td>\n",
       "      <td>NaN</td>\n",
       "      <td>NaN</td>\n",
       "    </tr>\n",
       "    <tr>\n",
       "      <th>4</th>\n",
       "      <td>1984-10-23</td>\n",
       "      <td>0.144531</td>\n",
       "      <td>0.144531</td>\n",
       "      <td>0.140625</td>\n",
       "      <td>0.140625</td>\n",
       "      <td>0.123469</td>\n",
       "      <td>787200</td>\n",
       "      <td>1.572917</td>\n",
       "      <td>1.572917</td>\n",
       "      <td>1.541667</td>\n",
       "      <td>...</td>\n",
       "      <td>NaN</td>\n",
       "      <td>NaN</td>\n",
       "      <td>NaN</td>\n",
       "      <td>NaN</td>\n",
       "      <td>NaN</td>\n",
       "      <td>NaN</td>\n",
       "      <td>NaN</td>\n",
       "      <td>NaN</td>\n",
       "      <td>NaN</td>\n",
       "      <td>NaN</td>\n",
       "    </tr>\n",
       "  </tbody>\n",
       "</table>\n",
       "<p>5 rows × 157 columns</p>\n",
       "</div>"
      ],
      "text/plain": [
       "         Date      Open      High       Low     Close  Adj Close   Volume  \\\n",
       "0  1984-10-17  0.144531  0.148438  0.144531  0.144531   0.126899  9868800   \n",
       "1  1984-10-18  0.148438  0.156250  0.148438  0.148438   0.130329  5324800   \n",
       "2  1984-10-19  0.148438  0.148438  0.144531  0.144531   0.126899  3043200   \n",
       "3  1984-10-22  0.144531  0.148438  0.144531  0.144531   0.126899  2326400   \n",
       "4  1984-10-23  0.144531  0.144531  0.140625  0.140625   0.123469   787200   \n",
       "\n",
       "    LEGOpen   LEGHigh    LEGLow    ...      FISLow  FISClose  FISAdj Close  \\\n",
       "0  1.520833  1.520833  1.500000    ...         NaN       NaN           NaN   \n",
       "1  1.520833  1.562500  1.520833    ...         NaN       NaN           NaN   \n",
       "2  1.552083  1.562500  1.552083    ...         NaN       NaN           NaN   \n",
       "3  1.562500  1.583333  1.562500    ...         NaN       NaN           NaN   \n",
       "4  1.572917  1.572917  1.541667    ...         NaN       NaN           NaN   \n",
       "\n",
       "   FISVolume  GPNOpen  GPNHigh  GPNLow  GPNClose  GPNAdj Close  GPNVolume  \n",
       "0        NaN      NaN      NaN     NaN       NaN           NaN        NaN  \n",
       "1        NaN      NaN      NaN     NaN       NaN           NaN        NaN  \n",
       "2        NaN      NaN      NaN     NaN       NaN           NaN        NaN  \n",
       "3        NaN      NaN      NaN     NaN       NaN           NaN        NaN  \n",
       "4        NaN      NaN      NaN     NaN       NaN           NaN        NaN  \n",
       "\n",
       "[5 rows x 157 columns]"
      ]
     },
     "execution_count": 72,
     "metadata": {},
     "output_type": "execute_result"
    }
   ],
   "source": [
    "dataset.head()"
   ]
  },
  {
   "cell_type": "markdown",
   "metadata": {},
   "source": [
    "# Feature Engineering\n",
    "* Add day of week feature\n",
    "* Move target feature to end of dataframe"
   ]
  },
  {
   "cell_type": "code",
   "execution_count": 73,
   "metadata": {},
   "outputs": [],
   "source": [
    "## Generate new features\n",
    "dataset = fe.derivative(dataset, drop_na = True)\n",
    "dataset = fe.weekDay(dataset)\n",
    "features = list(dataset.columns)\n",
    "# move target to position [-1]\n",
    "features.remove(target)\n",
    "features.append(target)\n",
    "features=list(features)\n",
    "dataset=dataset[features]"
   ]
  },
  {
   "cell_type": "code",
   "execution_count": 74,
   "metadata": {},
   "outputs": [],
   "source": [
    "# Plot the features\n",
    "# visualize.plot_features(dataset)"
   ]
  },
  {
   "cell_type": "markdown",
   "metadata": {},
   "source": [
    "# Format as Supervised Learning Problem"
   ]
  },
  {
   "cell_type": "code",
   "execution_count": 75,
   "metadata": {},
   "outputs": [
    {
     "name": "stdout",
     "output_type": "stream",
     "text": [
      "starting Series to supverised conversion...\n"
     ]
    }
   ],
   "source": [
    "# frame as supervised learning\n",
    "# this will be for scaling the data to the window scaled_in to scaled_out\n",
    "reframed=ps.series_to_supervised(dataset, n_in=n_in, n_out=n_out, \n",
    "                                   features=features)"
   ]
  },
  {
   "cell_type": "code",
   "execution_count": 76,
   "metadata": {},
   "outputs": [],
   "source": [
    "# drop all but the 'target' from the predictor set\n",
    "# this might be able to take an array for multi-output\n",
    "reframed=ps.frame_targets(reframed, features, n_out,target=target)\n",
    "\n",
    "#scaler = MinMaxScaler(feature_range=(-1, 1))\n",
    "#scaled = scaler.fit_transform(reframed)\n",
    "# pass the feature in the sequence that we dont want scaled"
   ]
  },
  {
   "cell_type": "markdown",
   "metadata": {},
   "source": [
    "# Scaling - several methods\n",
    "* yet to be determined if scaling improves performance"
   ]
  },
  {
   "cell_type": "code",
   "execution_count": 77,
   "metadata": {},
   "outputs": [
    {
     "data": {
      "text/plain": [
       "<module 'processStocks' from 'T:\\\\Projects\\\\LSTM-forecast\\\\src\\\\processStocks.py'>"
      ]
     },
     "execution_count": 77,
     "metadata": {},
     "output_type": "execute_result"
    }
   ],
   "source": [
    "imp.reload(ps)"
   ]
  },
  {
   "cell_type": "code",
   "execution_count": null,
   "metadata": {},
   "outputs": [],
   "source": [
    "#reframed=reframed.iloc[:10,:] \n",
    "#test/debug\n",
    "#dataset=reframed\n",
    "scaled=ps.scale_sequence(reframed, \n",
    "                         features, \n",
    "                         scaleTarget=True, \n",
    "                         target=target)"
   ]
  },
  {
   "cell_type": "code",
   "execution_count": 79,
   "metadata": {},
   "outputs": [],
   "source": [
    "# or skip the scaling\n",
    "scaled=reframed"
   ]
  },
  {
   "cell_type": "code",
   "execution_count": 80,
   "metadata": {},
   "outputs": [],
   "source": [
    "#getStocks.saveScaled(scaled, n_in, n_out, ticker)\n",
    "# load scaled \n",
    "\n",
    "#scaled=pd.read_csv('../data/astc/astc_29092017_scaled_30_30.csv')"
   ]
  },
  {
   "cell_type": "markdown",
   "metadata": {},
   "source": [
    "# Cross Validation Setup"
   ]
  },
  {
   "cell_type": "code",
   "execution_count": 81,
   "metadata": {},
   "outputs": [],
   "source": [
    "# put in order of time (t-n_in should be on left of df, with t+ on the right)\n",
    "\n",
    "# split into train, validation, test\n",
    "train, validation, test = lstm.tscv(scaled, train=0.7, validation=0.25)"
   ]
  },
  {
   "cell_type": "code",
   "execution_count": 82,
   "metadata": {},
   "outputs": [],
   "source": [
    "# split into input and outputs\n",
    "# the last n columns are the output variable\n",
    "\n",
    "train_X, train_y = train[:, :-n_out], train[:, -n_out:]\n",
    "X_validation, Y_validation = validation[:, :-n_out], validation[:, -n_out:]\n",
    "test_X, test_y = test[:, :-n_out], test[:, -n_out:]"
   ]
  },
  {
   "cell_type": "markdown",
   "metadata": {},
   "source": [
    "# *** Test Reshaping Method"
   ]
  },
  {
   "cell_type": "code",
   "execution_count": 59,
   "metadata": {},
   "outputs": [
    {
     "data": {
      "text/html": [
       "<div>\n",
       "<style>\n",
       "    .dataframe thead tr:only-child th {\n",
       "        text-align: right;\n",
       "    }\n",
       "\n",
       "    .dataframe thead th {\n",
       "        text-align: left;\n",
       "    }\n",
       "\n",
       "    .dataframe tbody tr th {\n",
       "        vertical-align: top;\n",
       "    }\n",
       "</style>\n",
       "<table border=\"1\" class=\"dataframe\">\n",
       "  <thead>\n",
       "    <tr style=\"text-align: right;\">\n",
       "      <th></th>\n",
       "      <th>Var0</th>\n",
       "      <th>Var1</th>\n",
       "      <th>Var2</th>\n",
       "      <th>Var3</th>\n",
       "      <th>Var4</th>\n",
       "    </tr>\n",
       "  </thead>\n",
       "  <tbody>\n",
       "    <tr>\n",
       "      <th>0</th>\n",
       "      <td>100</td>\n",
       "      <td>101</td>\n",
       "      <td>102</td>\n",
       "      <td>103</td>\n",
       "      <td>104</td>\n",
       "    </tr>\n",
       "    <tr>\n",
       "      <th>1</th>\n",
       "      <td>200</td>\n",
       "      <td>201</td>\n",
       "      <td>202</td>\n",
       "      <td>203</td>\n",
       "      <td>204</td>\n",
       "    </tr>\n",
       "    <tr>\n",
       "      <th>2</th>\n",
       "      <td>300</td>\n",
       "      <td>301</td>\n",
       "      <td>302</td>\n",
       "      <td>303</td>\n",
       "      <td>304</td>\n",
       "    </tr>\n",
       "    <tr>\n",
       "      <th>3</th>\n",
       "      <td>400</td>\n",
       "      <td>401</td>\n",
       "      <td>402</td>\n",
       "      <td>403</td>\n",
       "      <td>404</td>\n",
       "    </tr>\n",
       "    <tr>\n",
       "      <th>4</th>\n",
       "      <td>500</td>\n",
       "      <td>501</td>\n",
       "      <td>502</td>\n",
       "      <td>503</td>\n",
       "      <td>504</td>\n",
       "    </tr>\n",
       "  </tbody>\n",
       "</table>\n",
       "</div>"
      ],
      "text/plain": [
       "   Var0  Var1  Var2  Var3  Var4\n",
       "0   100   101   102   103   104\n",
       "1   200   201   202   203   204\n",
       "2   300   301   302   303   304\n",
       "3   400   401   402   403   404\n",
       "4   500   501   502   503   504"
      ]
     },
     "execution_count": 59,
     "metadata": {},
     "output_type": "execute_result"
    }
   ],
   "source": [
    "# test dimension modification\n",
    "import pandas as pd\n",
    "df=pd.read_csv('testDim.csv')\n",
    "features_test=list(df.columns)\n",
    "df.head()"
   ]
  },
  {
   "cell_type": "code",
   "execution_count": 60,
   "metadata": {},
   "outputs": [
    {
     "name": "stdout",
     "output_type": "stream",
     "text": [
      "starting Series to supverised conversion...\n"
     ]
    },
    {
     "data": {
      "text/html": [
       "<div>\n",
       "<style>\n",
       "    .dataframe thead tr:only-child th {\n",
       "        text-align: right;\n",
       "    }\n",
       "\n",
       "    .dataframe thead th {\n",
       "        text-align: left;\n",
       "    }\n",
       "\n",
       "    .dataframe tbody tr th {\n",
       "        vertical-align: top;\n",
       "    }\n",
       "</style>\n",
       "<table border=\"1\" class=\"dataframe\">\n",
       "  <thead>\n",
       "    <tr style=\"text-align: right;\">\n",
       "      <th></th>\n",
       "      <th>Var0(t-02)</th>\n",
       "      <th>Var1(t-02)</th>\n",
       "      <th>Var2(t-02)</th>\n",
       "      <th>Var3(t-02)</th>\n",
       "      <th>Var4(t-02)</th>\n",
       "      <th>Var0(t-01)</th>\n",
       "      <th>Var1(t-01)</th>\n",
       "      <th>Var2(t-01)</th>\n",
       "      <th>Var3(t-01)</th>\n",
       "      <th>Var4(t-01)</th>\n",
       "      <th>Var0(t)</th>\n",
       "      <th>Var1(t)</th>\n",
       "      <th>Var2(t)</th>\n",
       "      <th>Var3(t)</th>\n",
       "      <th>Var4(t)</th>\n",
       "    </tr>\n",
       "  </thead>\n",
       "  <tbody>\n",
       "    <tr>\n",
       "      <th>2</th>\n",
       "      <td>100.0</td>\n",
       "      <td>101.0</td>\n",
       "      <td>102.0</td>\n",
       "      <td>103.0</td>\n",
       "      <td>104.0</td>\n",
       "      <td>200.0</td>\n",
       "      <td>201.0</td>\n",
       "      <td>202.0</td>\n",
       "      <td>203.0</td>\n",
       "      <td>204.0</td>\n",
       "      <td>300</td>\n",
       "      <td>301</td>\n",
       "      <td>302</td>\n",
       "      <td>303</td>\n",
       "      <td>304</td>\n",
       "    </tr>\n",
       "    <tr>\n",
       "      <th>3</th>\n",
       "      <td>200.0</td>\n",
       "      <td>201.0</td>\n",
       "      <td>202.0</td>\n",
       "      <td>203.0</td>\n",
       "      <td>204.0</td>\n",
       "      <td>300.0</td>\n",
       "      <td>301.0</td>\n",
       "      <td>302.0</td>\n",
       "      <td>303.0</td>\n",
       "      <td>304.0</td>\n",
       "      <td>400</td>\n",
       "      <td>401</td>\n",
       "      <td>402</td>\n",
       "      <td>403</td>\n",
       "      <td>404</td>\n",
       "    </tr>\n",
       "    <tr>\n",
       "      <th>4</th>\n",
       "      <td>300.0</td>\n",
       "      <td>301.0</td>\n",
       "      <td>302.0</td>\n",
       "      <td>303.0</td>\n",
       "      <td>304.0</td>\n",
       "      <td>400.0</td>\n",
       "      <td>401.0</td>\n",
       "      <td>402.0</td>\n",
       "      <td>403.0</td>\n",
       "      <td>404.0</td>\n",
       "      <td>500</td>\n",
       "      <td>501</td>\n",
       "      <td>502</td>\n",
       "      <td>503</td>\n",
       "      <td>504</td>\n",
       "    </tr>\n",
       "    <tr>\n",
       "      <th>5</th>\n",
       "      <td>400.0</td>\n",
       "      <td>401.0</td>\n",
       "      <td>402.0</td>\n",
       "      <td>403.0</td>\n",
       "      <td>404.0</td>\n",
       "      <td>500.0</td>\n",
       "      <td>501.0</td>\n",
       "      <td>502.0</td>\n",
       "      <td>503.0</td>\n",
       "      <td>504.0</td>\n",
       "      <td>600</td>\n",
       "      <td>601</td>\n",
       "      <td>602</td>\n",
       "      <td>603</td>\n",
       "      <td>604</td>\n",
       "    </tr>\n",
       "    <tr>\n",
       "      <th>6</th>\n",
       "      <td>500.0</td>\n",
       "      <td>501.0</td>\n",
       "      <td>502.0</td>\n",
       "      <td>503.0</td>\n",
       "      <td>504.0</td>\n",
       "      <td>600.0</td>\n",
       "      <td>601.0</td>\n",
       "      <td>602.0</td>\n",
       "      <td>603.0</td>\n",
       "      <td>604.0</td>\n",
       "      <td>700</td>\n",
       "      <td>701</td>\n",
       "      <td>702</td>\n",
       "      <td>703</td>\n",
       "      <td>704</td>\n",
       "    </tr>\n",
       "  </tbody>\n",
       "</table>\n",
       "</div>"
      ],
      "text/plain": [
       "   Var0(t-02)  Var1(t-02)  Var2(t-02)  Var3(t-02)  Var4(t-02)  Var0(t-01)  \\\n",
       "2       100.0       101.0       102.0       103.0       104.0       200.0   \n",
       "3       200.0       201.0       202.0       203.0       204.0       300.0   \n",
       "4       300.0       301.0       302.0       303.0       304.0       400.0   \n",
       "5       400.0       401.0       402.0       403.0       404.0       500.0   \n",
       "6       500.0       501.0       502.0       503.0       504.0       600.0   \n",
       "\n",
       "   Var1(t-01)  Var2(t-01)  Var3(t-01)  Var4(t-01)  Var0(t)  Var1(t)  Var2(t)  \\\n",
       "2       201.0       202.0       203.0       204.0      300      301      302   \n",
       "3       301.0       302.0       303.0       304.0      400      401      402   \n",
       "4       401.0       402.0       403.0       404.0      500      501      502   \n",
       "5       501.0       502.0       503.0       504.0      600      601      602   \n",
       "6       601.0       602.0       603.0       604.0      700      701      702   \n",
       "\n",
       "   Var3(t)  Var4(t)  \n",
       "2      303      304  \n",
       "3      403      404  \n",
       "4      503      504  \n",
       "5      603      604  \n",
       "6      703      704  "
      ]
     },
     "execution_count": 60,
     "metadata": {},
     "output_type": "execute_result"
    }
   ],
   "source": [
    "n_in=2\n",
    "n_out=1\n",
    "tgt_tst='Var4'\n",
    "df=ps.series_to_supervised(df, \n",
    "                           n_in=n_in, \n",
    "                           n_out=n_out, \n",
    "                           features=features_test)\n",
    "df.head()"
   ]
  },
  {
   "cell_type": "code",
   "execution_count": 61,
   "metadata": {},
   "outputs": [
    {
     "data": {
      "text/html": [
       "<div>\n",
       "<style>\n",
       "    .dataframe thead tr:only-child th {\n",
       "        text-align: right;\n",
       "    }\n",
       "\n",
       "    .dataframe thead th {\n",
       "        text-align: left;\n",
       "    }\n",
       "\n",
       "    .dataframe tbody tr th {\n",
       "        vertical-align: top;\n",
       "    }\n",
       "</style>\n",
       "<table border=\"1\" class=\"dataframe\">\n",
       "  <thead>\n",
       "    <tr style=\"text-align: right;\">\n",
       "      <th></th>\n",
       "      <th>Var0(t-02)</th>\n",
       "      <th>Var1(t-02)</th>\n",
       "      <th>Var2(t-02)</th>\n",
       "      <th>Var3(t-02)</th>\n",
       "      <th>Var4(t-02)</th>\n",
       "      <th>Var0(t-01)</th>\n",
       "      <th>Var1(t-01)</th>\n",
       "      <th>Var2(t-01)</th>\n",
       "      <th>Var3(t-01)</th>\n",
       "      <th>Var4(t-01)</th>\n",
       "      <th>Var4(t)</th>\n",
       "    </tr>\n",
       "  </thead>\n",
       "  <tbody>\n",
       "    <tr>\n",
       "      <th>2</th>\n",
       "      <td>100.0</td>\n",
       "      <td>101.0</td>\n",
       "      <td>102.0</td>\n",
       "      <td>103.0</td>\n",
       "      <td>104.0</td>\n",
       "      <td>200.0</td>\n",
       "      <td>201.0</td>\n",
       "      <td>202.0</td>\n",
       "      <td>203.0</td>\n",
       "      <td>204.0</td>\n",
       "      <td>304</td>\n",
       "    </tr>\n",
       "    <tr>\n",
       "      <th>3</th>\n",
       "      <td>200.0</td>\n",
       "      <td>201.0</td>\n",
       "      <td>202.0</td>\n",
       "      <td>203.0</td>\n",
       "      <td>204.0</td>\n",
       "      <td>300.0</td>\n",
       "      <td>301.0</td>\n",
       "      <td>302.0</td>\n",
       "      <td>303.0</td>\n",
       "      <td>304.0</td>\n",
       "      <td>404</td>\n",
       "    </tr>\n",
       "    <tr>\n",
       "      <th>4</th>\n",
       "      <td>300.0</td>\n",
       "      <td>301.0</td>\n",
       "      <td>302.0</td>\n",
       "      <td>303.0</td>\n",
       "      <td>304.0</td>\n",
       "      <td>400.0</td>\n",
       "      <td>401.0</td>\n",
       "      <td>402.0</td>\n",
       "      <td>403.0</td>\n",
       "      <td>404.0</td>\n",
       "      <td>504</td>\n",
       "    </tr>\n",
       "    <tr>\n",
       "      <th>5</th>\n",
       "      <td>400.0</td>\n",
       "      <td>401.0</td>\n",
       "      <td>402.0</td>\n",
       "      <td>403.0</td>\n",
       "      <td>404.0</td>\n",
       "      <td>500.0</td>\n",
       "      <td>501.0</td>\n",
       "      <td>502.0</td>\n",
       "      <td>503.0</td>\n",
       "      <td>504.0</td>\n",
       "      <td>604</td>\n",
       "    </tr>\n",
       "    <tr>\n",
       "      <th>6</th>\n",
       "      <td>500.0</td>\n",
       "      <td>501.0</td>\n",
       "      <td>502.0</td>\n",
       "      <td>503.0</td>\n",
       "      <td>504.0</td>\n",
       "      <td>600.0</td>\n",
       "      <td>601.0</td>\n",
       "      <td>602.0</td>\n",
       "      <td>603.0</td>\n",
       "      <td>604.0</td>\n",
       "      <td>704</td>\n",
       "    </tr>\n",
       "  </tbody>\n",
       "</table>\n",
       "</div>"
      ],
      "text/plain": [
       "   Var0(t-02)  Var1(t-02)  Var2(t-02)  Var3(t-02)  Var4(t-02)  Var0(t-01)  \\\n",
       "2       100.0       101.0       102.0       103.0       104.0       200.0   \n",
       "3       200.0       201.0       202.0       203.0       204.0       300.0   \n",
       "4       300.0       301.0       302.0       303.0       304.0       400.0   \n",
       "5       400.0       401.0       402.0       403.0       404.0       500.0   \n",
       "6       500.0       501.0       502.0       503.0       504.0       600.0   \n",
       "\n",
       "   Var1(t-01)  Var2(t-01)  Var3(t-01)  Var4(t-01)  Var4(t)  \n",
       "2       201.0       202.0       203.0       204.0      304  \n",
       "3       301.0       302.0       303.0       304.0      404  \n",
       "4       401.0       402.0       403.0       404.0      504  \n",
       "5       501.0       502.0       503.0       504.0      604  \n",
       "6       601.0       602.0       603.0       604.0      704  "
      ]
     },
     "execution_count": 61,
     "metadata": {},
     "output_type": "execute_result"
    }
   ],
   "source": [
    "test_frame=ps.frame_targets(df, \n",
    "                          features=features_test, \n",
    "                          n_out=n_out,\n",
    "                          target=tgt_tst)\n",
    "test_frame.head()"
   ]
  },
  {
   "cell_type": "code",
   "execution_count": 62,
   "metadata": {
    "scrolled": true
   },
   "outputs": [],
   "source": [
    "X = test_frame.values[:, :-n_out]"
   ]
  },
  {
   "cell_type": "code",
   "execution_count": 63,
   "metadata": {},
   "outputs": [
    {
     "name": "stdout",
     "output_type": "stream",
     "text": [
      "[ 100.  101.  102.  103.  104.  200.  201.  202.  203.  204.]\n",
      "[ 200.  201.  202.  203.  204.  300.  301.  302.  303.  304.]\n",
      "[ 300.  301.  302.  303.  304.  400.  401.  402.  403.  404.]\n",
      "[ 400.  401.  402.  403.  404.  500.  501.  502.  503.  504.]\n",
      "[ 500.  501.  502.  503.  504.  600.  601.  602.  603.  604.]\n",
      "[ 600.  601.  602.  603.  604.  700.  701.  702.  703.  704.]\n",
      "[ 700.  701.  702.  703.  704.  800.  801.  802.  803.  804.]\n",
      "[ 800.  801.  802.  803.  804.  900.  901.  902.  903.  904.]\n",
      "[  900.   901.   902.   903.   904.  1000.  1001.  1002.  1003.  1004.]\n",
      "[ 1000.  1001.  1002.  1003.  1004.  1100.  1101.  1102.  1103.  1104.]\n",
      "[ 1100.  1101.  1102.  1103.  1104.  1200.  1201.  1202.  1203.  1204.]\n",
      "[ 1200.  1201.  1202.  1203.  1204.  1300.  1301.  1302.  1303.  1304.]\n",
      "[ 1300.  1301.  1302.  1303.  1304.  1400.  1401.  1402.  1403.  1404.]\n",
      "[ 1400.  1401.  1402.  1403.  1404.  1500.  1501.  1502.  1503.  1504.]\n",
      "[ 1500.  1501.  1502.  1503.  1504.  1600.  1601.  1602.  1603.  1604.]\n",
      "[ 1600.  1601.  1602.  1603.  1604.  1700.  1701.  1702.  1703.  1704.]\n",
      "[ 1700.  1701.  1702.  1703.  1704.  1800.  1801.  1802.  1803.  1804.]\n",
      "[ 1800.  1801.  1802.  1803.  1804.  1900.  1901.  1902.  1903.  1904.]\n"
     ]
    },
    {
     "data": {
      "text/plain": [
       "[None,\n",
       " None,\n",
       " None,\n",
       " None,\n",
       " None,\n",
       " None,\n",
       " None,\n",
       " None,\n",
       " None,\n",
       " None,\n",
       " None,\n",
       " None,\n",
       " None,\n",
       " None,\n",
       " None,\n",
       " None,\n",
       " None,\n",
       " None]"
      ]
     },
     "execution_count": 63,
     "metadata": {},
     "output_type": "execute_result"
    }
   ],
   "source": [
    "[print(x) for x in X]"
   ]
  },
  {
   "cell_type": "code",
   "execution_count": 64,
   "metadata": {},
   "outputs": [],
   "source": [
    "d=ps.shape(X, n_in, features_test)"
   ]
  },
  {
   "cell_type": "code",
   "execution_count": 65,
   "metadata": {},
   "outputs": [
    {
     "data": {
      "text/plain": [
       "array([ 300.,  301.,  302.,  303.,  304.])"
      ]
     },
     "execution_count": 65,
     "metadata": {},
     "output_type": "execute_result"
    }
   ],
   "source": [
    "d[1,-1,:]"
   ]
  },
  {
   "cell_type": "markdown",
   "metadata": {},
   "source": [
    "* Seems like dim is (observations, n_in, features), which is correct"
   ]
  },
  {
   "cell_type": "markdown",
   "metadata": {},
   "source": [
    "* tensor should be (t-2)a, (t-2)b, (t-1)a, (t-1)b, etc. where a and b are features to properly reshape"
   ]
  },
  {
   "cell_type": "markdown",
   "metadata": {},
   "source": [
    "# Reshape to 3d tenser"
   ]
  },
  {
   "cell_type": "code",
   "execution_count": 83,
   "metadata": {},
   "outputs": [
    {
     "data": {
      "text/html": [
       "<div>\n",
       "<style>\n",
       "    .dataframe thead tr:only-child th {\n",
       "        text-align: right;\n",
       "    }\n",
       "\n",
       "    .dataframe thead th {\n",
       "        text-align: left;\n",
       "    }\n",
       "\n",
       "    .dataframe tbody tr th {\n",
       "        vertical-align: top;\n",
       "    }\n",
       "</style>\n",
       "<table border=\"1\" class=\"dataframe\">\n",
       "  <thead>\n",
       "    <tr style=\"text-align: right;\">\n",
       "      <th></th>\n",
       "      <th>Open(t-10)</th>\n",
       "      <th>High(t-10)</th>\n",
       "      <th>Low(t-10)</th>\n",
       "      <th>Adj Close(t-10)</th>\n",
       "      <th>Volume(t-10)</th>\n",
       "      <th>LEGOpen(t-10)</th>\n",
       "      <th>LEGHigh(t-10)</th>\n",
       "      <th>LEGLow(t-10)</th>\n",
       "      <th>LEGClose(t-10)</th>\n",
       "      <th>LEGAdj Close(t-10)</th>\n",
       "      <th>...</th>\n",
       "      <th>T(t-01)</th>\n",
       "      <th>W(t-01)</th>\n",
       "      <th>Th(t-01)</th>\n",
       "      <th>F(t-01)</th>\n",
       "      <th>Close(t-01)</th>\n",
       "      <th>Close(t)</th>\n",
       "      <th>Close(t+01)</th>\n",
       "      <th>Close(t+02)</th>\n",
       "      <th>Close(t+03)</th>\n",
       "      <th>Close(t+04)</th>\n",
       "    </tr>\n",
       "  </thead>\n",
       "  <tbody>\n",
       "    <tr>\n",
       "      <th>10</th>\n",
       "      <td>122.949997</td>\n",
       "      <td>123.650002</td>\n",
       "      <td>122.220001</td>\n",
       "      <td>118.439194</td>\n",
       "      <td>3269300.0</td>\n",
       "      <td>49.270000</td>\n",
       "      <td>49.490002</td>\n",
       "      <td>49.060001</td>\n",
       "      <td>49.439999</td>\n",
       "      <td>46.025360</td>\n",
       "      <td>...</td>\n",
       "      <td>0.0</td>\n",
       "      <td>1.0</td>\n",
       "      <td>0.0</td>\n",
       "      <td>0.0</td>\n",
       "      <td>125.860001</td>\n",
       "      <td>124.930000</td>\n",
       "      <td>123.849998</td>\n",
       "      <td>122.650002</td>\n",
       "      <td>120.860001</td>\n",
       "      <td>120.610001</td>\n",
       "    </tr>\n",
       "    <tr>\n",
       "      <th>11</th>\n",
       "      <td>123.820000</td>\n",
       "      <td>123.879997</td>\n",
       "      <td>121.019997</td>\n",
       "      <td>116.932053</td>\n",
       "      <td>3682300.0</td>\n",
       "      <td>49.560001</td>\n",
       "      <td>49.709999</td>\n",
       "      <td>48.910000</td>\n",
       "      <td>49.200001</td>\n",
       "      <td>45.801933</td>\n",
       "      <td>...</td>\n",
       "      <td>0.0</td>\n",
       "      <td>0.0</td>\n",
       "      <td>1.0</td>\n",
       "      <td>0.0</td>\n",
       "      <td>124.930000</td>\n",
       "      <td>123.849998</td>\n",
       "      <td>122.650002</td>\n",
       "      <td>120.860001</td>\n",
       "      <td>120.610001</td>\n",
       "      <td>119.330002</td>\n",
       "    </tr>\n",
       "    <tr>\n",
       "      <th>12</th>\n",
       "      <td>119.599998</td>\n",
       "      <td>123.099998</td>\n",
       "      <td>119.260002</td>\n",
       "      <td>117.268051</td>\n",
       "      <td>6522800.0</td>\n",
       "      <td>48.939999</td>\n",
       "      <td>49.490002</td>\n",
       "      <td>48.730000</td>\n",
       "      <td>49.180000</td>\n",
       "      <td>45.783318</td>\n",
       "      <td>...</td>\n",
       "      <td>0.0</td>\n",
       "      <td>0.0</td>\n",
       "      <td>0.0</td>\n",
       "      <td>1.0</td>\n",
       "      <td>123.849998</td>\n",
       "      <td>122.650002</td>\n",
       "      <td>120.860001</td>\n",
       "      <td>120.610001</td>\n",
       "      <td>119.330002</td>\n",
       "      <td>117.940002</td>\n",
       "    </tr>\n",
       "    <tr>\n",
       "      <th>13</th>\n",
       "      <td>122.360001</td>\n",
       "      <td>122.800003</td>\n",
       "      <td>117.809998</td>\n",
       "      <td>115.866516</td>\n",
       "      <td>6476200.0</td>\n",
       "      <td>49.119999</td>\n",
       "      <td>49.500000</td>\n",
       "      <td>48.680000</td>\n",
       "      <td>49.459999</td>\n",
       "      <td>46.043983</td>\n",
       "      <td>...</td>\n",
       "      <td>0.0</td>\n",
       "      <td>0.0</td>\n",
       "      <td>0.0</td>\n",
       "      <td>0.0</td>\n",
       "      <td>122.650002</td>\n",
       "      <td>120.860001</td>\n",
       "      <td>120.610001</td>\n",
       "      <td>119.330002</td>\n",
       "      <td>117.940002</td>\n",
       "      <td>117.879997</td>\n",
       "    </tr>\n",
       "    <tr>\n",
       "      <th>14</th>\n",
       "      <td>119.050003</td>\n",
       "      <td>119.989998</td>\n",
       "      <td>118.400002</td>\n",
       "      <td>114.023392</td>\n",
       "      <td>4009800.0</td>\n",
       "      <td>49.060001</td>\n",
       "      <td>49.330002</td>\n",
       "      <td>48.529999</td>\n",
       "      <td>48.639999</td>\n",
       "      <td>45.280609</td>\n",
       "      <td>...</td>\n",
       "      <td>1.0</td>\n",
       "      <td>0.0</td>\n",
       "      <td>0.0</td>\n",
       "      <td>0.0</td>\n",
       "      <td>120.860001</td>\n",
       "      <td>120.610001</td>\n",
       "      <td>119.330002</td>\n",
       "      <td>117.940002</td>\n",
       "      <td>117.879997</td>\n",
       "      <td>121.519997</td>\n",
       "    </tr>\n",
       "  </tbody>\n",
       "</table>\n",
       "<p>5 rows × 1655 columns</p>\n",
       "</div>"
      ],
      "text/plain": [
       "    Open(t-10)  High(t-10)   Low(t-10)  Adj Close(t-10)  Volume(t-10)  \\\n",
       "10  122.949997  123.650002  122.220001       118.439194     3269300.0   \n",
       "11  123.820000  123.879997  121.019997       116.932053     3682300.0   \n",
       "12  119.599998  123.099998  119.260002       117.268051     6522800.0   \n",
       "13  122.360001  122.800003  117.809998       115.866516     6476200.0   \n",
       "14  119.050003  119.989998  118.400002       114.023392     4009800.0   \n",
       "\n",
       "    LEGOpen(t-10)  LEGHigh(t-10)  LEGLow(t-10)  LEGClose(t-10)  \\\n",
       "10      49.270000      49.490002     49.060001       49.439999   \n",
       "11      49.560001      49.709999     48.910000       49.200001   \n",
       "12      48.939999      49.490002     48.730000       49.180000   \n",
       "13      49.119999      49.500000     48.680000       49.459999   \n",
       "14      49.060001      49.330002     48.529999       48.639999   \n",
       "\n",
       "    LEGAdj Close(t-10)     ...       T(t-01)  W(t-01)  Th(t-01)  F(t-01)  \\\n",
       "10           46.025360     ...           0.0      1.0       0.0      0.0   \n",
       "11           45.801933     ...           0.0      0.0       1.0      0.0   \n",
       "12           45.783318     ...           0.0      0.0       0.0      1.0   \n",
       "13           46.043983     ...           0.0      0.0       0.0      0.0   \n",
       "14           45.280609     ...           1.0      0.0       0.0      0.0   \n",
       "\n",
       "    Close(t-01)    Close(t)  Close(t+01)  Close(t+02)  Close(t+03)  \\\n",
       "10   125.860001  124.930000   123.849998   122.650002   120.860001   \n",
       "11   124.930000  123.849998   122.650002   120.860001   120.610001   \n",
       "12   123.849998  122.650002   120.860001   120.610001   119.330002   \n",
       "13   122.650002  120.860001   120.610001   119.330002   117.940002   \n",
       "14   120.860001  120.610001   119.330002   117.940002   117.879997   \n",
       "\n",
       "    Close(t+04)  \n",
       "10   120.610001  \n",
       "11   119.330002  \n",
       "12   117.940002  \n",
       "13   117.879997  \n",
       "14   121.519997  \n",
       "\n",
       "[5 rows x 1655 columns]"
      ]
     },
     "execution_count": 83,
     "metadata": {},
     "output_type": "execute_result"
    }
   ],
   "source": [
    "scaled.head()"
   ]
  },
  {
   "cell_type": "code",
   "execution_count": 84,
   "metadata": {},
   "outputs": [],
   "source": [
    "# ensure the shaping makes sense the way all the variables are arranged\n",
    "# reshape input to be 3D [samples(observations), timesteps (n_in), features]\n",
    "train_X = ps.shape(train_X, n_in=n_in, features=features)\n",
    "X_validation = ps.shape(X_validation, n_in=n_in, features=features)\n",
    "test_X = ps.shape(test_X, n_in=n_in, features=features)"
   ]
  },
  {
   "cell_type": "code",
   "execution_count": 85,
   "metadata": {},
   "outputs": [
    {
     "name": "stdout",
     "output_type": "stream",
     "text": [
      "(425, 10, 165) (152, 10, 165) (31, 10, 165)\n"
     ]
    }
   ],
   "source": [
    "print(train_X.shape, X_validation.shape, test_X.shape)"
   ]
  },
  {
   "cell_type": "markdown",
   "metadata": {},
   "source": [
    "# Build LSTM Architecture"
   ]
  },
  {
   "cell_type": "code",
   "execution_count": 86,
   "metadata": {},
   "outputs": [
    {
     "data": {
      "text/plain": [
       "<module 'lstm' from 'T:\\\\Projects\\\\LSTM-forecast\\\\src\\\\lstm.py'>"
      ]
     },
     "execution_count": 86,
     "metadata": {},
     "output_type": "execute_result"
    }
   ],
   "source": [
    "# for debug on lstm package\n",
    "import imp\n",
    "imp.reload(lstm)"
   ]
  },
  {
   "cell_type": "code",
   "execution_count": 87,
   "metadata": {},
   "outputs": [
    {
     "name": "stdout",
     "output_type": "stream",
     "text": [
      "Compilation Time :  0.031253814697265625\n",
      "_________________________________________________________________\n",
      "Layer (type)                 Output Shape              Param #   \n",
      "=================================================================\n",
      "lstm_1 (LSTM)                (None, 10, 3300)          45751200  \n",
      "_________________________________________________________________\n",
      "dropout_1 (Dropout)          (None, 10, 3300)          0         \n",
      "_________________________________________________________________\n",
      "lstm_2 (LSTM)                (None, 60)                806640    \n",
      "_________________________________________________________________\n",
      "dropout_2 (Dropout)          (None, 60)                0         \n",
      "_________________________________________________________________\n",
      "dense_1 (Dense)              (None, 5)                 305       \n",
      "=================================================================\n",
      "Total params: 46,558,145\n",
      "Trainable params: 46,558,145\n",
      "Non-trainable params: 0\n",
      "_________________________________________________________________\n"
     ]
    }
   ],
   "source": [
    "model = lstm.build_model(train_X, \n",
    "                         timesteps=n_in, \n",
    "                         inlayer=int(train_X.shape[-1]*20),\n",
    "                         hiddenlayers=[60], \n",
    "                         outlayer=n_out)"
   ]
  },
  {
   "cell_type": "markdown",
   "metadata": {},
   "source": [
    "# Fit model"
   ]
  },
  {
   "cell_type": "code",
   "execution_count": null,
   "metadata": {},
   "outputs": [
    {
     "name": "stdout",
     "output_type": "stream",
     "text": [
      "Train on 425 samples, validate on 152 samples\n",
      "Epoch 1/150\n"
     ]
    }
   ],
   "source": [
    "# fit network and save to history\n",
    "history = model.fit(train_X, train_y, \n",
    "                    epochs=150, \n",
    "                    batch_size=256, \n",
    "                    validation_data=(X_validation, Y_validation), \n",
    "                    verbose=2, shuffle=False)\n",
    "\n",
    "# plot history\n",
    "visualize.plot_loss(history)"
   ]
  },
  {
   "cell_type": "code",
   "execution_count": null,
   "metadata": {},
   "outputs": [],
   "source": [
    "### KEEP THIS WORKING ####\n",
    "yhat = predicts.predict_sequences_multiple(model, test_X, n_in, n_out)\n",
    "visualize.plot_results_multiple(yhat, test_y[:,0], n_out, legend=False)\n",
    "# visualize.plot_single(yhat, test_y, ticker, data_set_category='test')"
   ]
  },
  {
   "cell_type": "code",
   "execution_count": null,
   "metadata": {},
   "outputs": [],
   "source": [
    "###### TODO METHOD####\n",
    "#import predicts\n",
    "## copy weights\n",
    "#old_weights=model.get_weights()\n",
    "#\n",
    "#new_model = Sequential()\n",
    "#new_model.add(LSTM(30, input_shape=(train_X.shape[1], train_X.shape[2]),\n",
    "#          return_sequences=True, activation='tanh'))\n",
    "#new_model.add(Dropout(0.5))\n",
    "#new_model.add(LSTM(10, activation='tanh'))\n",
    "#new_model.add(Dropout(0.5))\n",
    "#new_model.add(Dense(1))\n",
    "#new_model.compile(loss='mae', optimizer='adam')\n",
    "## fit network\n",
    "#new_model.set_weights(old_weights)\n",
    "#predicts.onlineForecast(new_model, test_X, test_y)\n",
    "## # # ____ # # #"
   ]
  },
  {
   "cell_type": "code",
   "execution_count": null,
   "metadata": {},
   "outputs": [],
   "source": []
  }
 ],
 "metadata": {
  "kernelspec": {
   "display_name": "Python 3",
   "language": "python",
   "name": "python3"
  },
  "language_info": {
   "codemirror_mode": {
    "name": "ipython",
    "version": 3
   },
   "file_extension": ".py",
   "mimetype": "text/x-python",
   "name": "python",
   "nbconvert_exporter": "python",
   "pygments_lexer": "ipython3",
   "version": "3.6.3"
  }
 },
 "nbformat": 4,
 "nbformat_minor": 2
}
