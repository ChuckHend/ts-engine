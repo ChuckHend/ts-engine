{
 "cells": [
  {
   "cell_type": "markdown",
   "metadata": {},
   "source": [
    "# Linear Model by Instrument"
   ]
  },
  {
   "cell_type": "markdown",
   "metadata": {},
   "source": [
    "start w/ a single stock, fit a linear model to several days price activity"
   ]
  },
  {
   "cell_type": "code",
   "execution_count": null,
   "metadata": {},
   "outputs": [],
   "source": [
    "import pandas as pd\n",
    "import glob\n",
    "import matplotlib.pyplot as plt\n",
    "from sklearn.linear_model import Ridge\n",
    "from sklearn.preprocessing import PolynomialFeatures\n",
    "from sklearn.pipeline import make_pipeline\n",
    "from sklearn.metrics import r2_score\n",
    "from sklearn.metrics import mean_squared_error\n",
    "\n",
    "import numpy as np\n",
    "\n",
    "pd.options.display.max_rows = 999\n",
    "pd.options.display.max_columns = 999"
   ]
  },
  {
   "cell_type": "code",
   "execution_count": null,
   "metadata": {},
   "outputs": [],
   "source": [
    "fdir = '../data/60_second/'\n",
    "files = glob.glob(fdir + '*')\n",
    "def strip_ticker(s, fdir):\n",
    "    return s.strip(fdir).split('_')[0].strip('\\\\')\n",
    "tickers = list(set([strip_ticker(x, fdir) for x in files]))\n",
    "tickers = {key:[] for key in tickers}\n",
    "for file in files:\n",
    "    tickers[strip_ticker(file, fdir)].append(file)"
   ]
  },
  {
   "cell_type": "code",
   "execution_count": null,
   "metadata": {},
   "outputs": [],
   "source": [
    "results=[]\n",
    "for key, items in tickers.items():\n",
    "    print('Starting {}'.format(key))\n",
    "    d = pd.DataFrame()\n",
    "    for item in items:\n",
    "        df = pd.read_csv(item)\n",
    "        d = pd.concat([d, df])\n",
    "    if d.shape[0] < 1173:\n",
    "        # skip if there is less than 1 day of data\n",
    "        print('No records for {}'.format(key))\n",
    "        results.append((key, None))\n",
    "        continue\n",
    "        \n",
    "    d.rename(columns={'Unnamed: 0': 'DateTime'}, inplace=True)\n",
    "    d.reset_index(drop=True,inplace=True)\n",
    "    d.DateTime=[pd.Timestamp(x) for x in d.DateTime]\n",
    "    d.drop_duplicates(inplace=True)\n",
    "    d['Date']=[x.date() for x in d.DateTime]\n",
    "    d['Time']=[x.time() for x in d.DateTime]\n",
    "    d['Time']=[str(x) for x in d.Time]\n",
    "    d['scale_close']=d.groupby('Date')['Close'].apply(lambda x: (x-min(x))/(max(x)-min(x)))\n",
    "    timeSeq = [x for x in range(d.Time.unique().shape[0])]\n",
    "    timeDf = pd.DataFrame({'Time': d.Time.unique(),\n",
    "                       'timeSeq': timeSeq})\n",
    "    d=d.merge(timeDf,on='Time', how='left')\n",
    "    degree=3\n",
    "    model = make_pipeline(PolynomialFeatures(degree), Ridge())\n",
    "    model.fit(d.timeSeq.values.reshape(-1,1), d.scale_close)\n",
    "    yhat=[model.predict(x)[0] for x in d.timeSeq.values]\n",
    "    actuals=d.scale_close\n",
    "    mse=mean_squared_error(actuals, yhat)\n",
    "    results.append((key,mse))\n",
    "    print('{} complete'.format(key))\n"
   ]
  },
  {
   "cell_type": "code",
   "execution_count": null,
   "metadata": {},
   "outputs": [],
   "source": [
    "pd.DataFrame(results, columns=['ticker','mse']).sort_values('mse',ascending=True)"
   ]
  },
  {
   "cell_type": "code",
   "execution_count": null,
   "metadata": {},
   "outputs": [],
   "source": [
    "# just get files w/ AMD in the name\n",
    "tick = 'PSX_'\n",
    "amd_file_paths = [x for x in files if tick in x]"
   ]
  },
  {
   "cell_type": "code",
   "execution_count": null,
   "metadata": {},
   "outputs": [],
   "source": [
    "# load all AMD stock into a dataframe\n",
    "amd_df = pd.DataFrame()\n",
    "for x in amd_file_paths:\n",
    "    d = pd.read_csv(x)\n",
    "    amd_df = pd.concat([amd_df, d])\n",
    "amd_df.rename(columns={'Unnamed: 0': 'DateTime'}, inplace=True)\n",
    "amd_df.reset_index(drop=True,inplace=True)\n",
    "amd_df.DateTime=[pd.Timestamp(x) for x in amd_df.DateTime]\n",
    "amd_df.drop_duplicates(inplace=True)\n",
    "amd_df.head()"
   ]
  },
  {
   "cell_type": "code",
   "execution_count": null,
   "metadata": {},
   "outputs": [],
   "source": [
    "amd_df.shape"
   ]
  },
  {
   "cell_type": "code",
   "execution_count": null,
   "metadata": {},
   "outputs": [],
   "source": [
    "# make date and time of time features\n",
    "amd_df['Date']=[x.date() for x in amd_df.DateTime]\n",
    "amd_df['Time']=[x.time() for x in amd_df.DateTime]\n",
    "amd_df['Time']=[str(x) for x in amd_df.Time]"
   ]
  },
  {
   "cell_type": "code",
   "execution_count": null,
   "metadata": {},
   "outputs": [],
   "source": [
    "amd_df['scale_close']=amd_df.groupby('Date')['Close'].apply(lambda x: (x-min(x))/(max(x)-min(x)))"
   ]
  },
  {
   "cell_type": "code",
   "execution_count": null,
   "metadata": {},
   "outputs": [],
   "source": [
    "# create sequence for each day ie 0-390\n",
    "timeSeq = [x for x in range(amd_df.Time.unique().shape[0])]\n",
    "timeDf = pd.DataFrame({'Time': amd_df.Time.unique(),\n",
    "                       'timeSeq': timeSeq})"
   ]
  },
  {
   "cell_type": "code",
   "execution_count": null,
   "metadata": {},
   "outputs": [],
   "source": [
    "amd_df=amd_df.merge(timeDf,on='Time', how='left')"
   ]
  },
  {
   "cell_type": "code",
   "execution_count": null,
   "metadata": {},
   "outputs": [],
   "source": [
    "#amd_df.to_csv('../../amd_df.csv', index=None)"
   ]
  },
  {
   "cell_type": "code",
   "execution_count": null,
   "metadata": {},
   "outputs": [],
   "source": [
    "\n",
    "degree=7\n",
    "model = make_pipeline(PolynomialFeatures(degree), Ridge())\n",
    "model.fit(amd_df.timeSeq.values.reshape(-1,1), amd_df.scale_close)"
   ]
  },
  {
   "cell_type": "code",
   "execution_count": null,
   "metadata": {},
   "outputs": [],
   "source": [
    "yhat=model.predict(np.array(timeSeq).reshape(-1,1))"
   ]
  },
  {
   "cell_type": "code",
   "execution_count": null,
   "metadata": {},
   "outputs": [],
   "source": [
    "plt.scatter(amd_df.timeSeq, amd_df.scale_close, s=1)\n",
    "plt.plot(yhat, color='red')\n",
    "plt.show()"
   ]
  },
  {
   "cell_type": "code",
   "execution_count": null,
   "metadata": {},
   "outputs": [],
   "source": [
    "yhat=[model.predict(x)[0] for x in amd_df.timeSeq.values]"
   ]
  },
  {
   "cell_type": "code",
   "execution_count": null,
   "metadata": {},
   "outputs": [],
   "source": [
    "results = pd.DataFrame({'timeSeq':amd_df.timeSeq.values,\n",
    "                        'actuals':amd_df.scale_close,\n",
    "                        'predicted':yhat})"
   ]
  },
  {
   "cell_type": "code",
   "execution_count": null,
   "metadata": {},
   "outputs": [],
   "source": [
    "\n",
    "mean_squared_error(results.actuals, results.predicted)"
   ]
  },
  {
   "cell_type": "code",
   "execution_count": null,
   "metadata": {},
   "outputs": [],
   "source": []
  }
 ],
 "metadata": {
  "kernelspec": {
   "display_name": "Python 3",
   "language": "python",
   "name": "python3"
  },
  "language_info": {
   "codemirror_mode": {
    "name": "ipython",
    "version": 3
   },
   "file_extension": ".py",
   "mimetype": "text/x-python",
   "name": "python",
   "nbconvert_exporter": "python",
   "pygments_lexer": "ipython3",
   "version": "3.6.3"
  }
 },
 "nbformat": 4,
 "nbformat_minor": 2
}
