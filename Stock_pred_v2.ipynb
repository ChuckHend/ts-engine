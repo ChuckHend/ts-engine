{
 "cells": [
  {
   "cell_type": "code",
   "execution_count": 1,
   "metadata": {
    "collapsed": true
   },
   "outputs": [],
   "source": [
    "%matplotlib notebook\n",
    "%matplotlib inline\n",
    "\n",
    "import os\n",
    "import time\n",
    "import datetime as dt\n",
    "import numpy as np\n",
    "from numpy import newaxis\n",
    "import matplotlib.pyplot as plt\n",
    "import pandas\n",
    "import pandas_datareader\n",
    "import stock_data_preprocessing"
   ]
  },
  {
   "cell_type": "code",
   "execution_count": 23,
   "metadata": {},
   "outputs": [
    {
     "data": {
      "text/html": [
       "<div>\n",
       "<style>\n",
       "    .dataframe thead tr:only-child th {\n",
       "        text-align: right;\n",
       "    }\n",
       "\n",
       "    .dataframe thead th {\n",
       "        text-align: left;\n",
       "    }\n",
       "\n",
       "    .dataframe tbody tr th {\n",
       "        vertical-align: top;\n",
       "    }\n",
       "</style>\n",
       "<table border=\"1\" class=\"dataframe\">\n",
       "  <thead>\n",
       "    <tr style=\"text-align: right;\">\n",
       "      <th></th>\n",
       "      <th>Open</th>\n",
       "      <th>High</th>\n",
       "      <th>Low</th>\n",
       "      <th>Close</th>\n",
       "      <th>Adj Close</th>\n",
       "      <th>Volume</th>\n",
       "    </tr>\n",
       "    <tr>\n",
       "      <th>Date</th>\n",
       "      <th></th>\n",
       "      <th></th>\n",
       "      <th></th>\n",
       "      <th></th>\n",
       "      <th></th>\n",
       "      <th></th>\n",
       "    </tr>\n",
       "  </thead>\n",
       "  <tbody>\n",
       "    <tr>\n",
       "      <th>1995-12-21</th>\n",
       "      <td>120.0</td>\n",
       "      <td>125.0</td>\n",
       "      <td>120.0</td>\n",
       "      <td>120.0</td>\n",
       "      <td>120.0</td>\n",
       "      <td>70200.0</td>\n",
       "    </tr>\n",
       "    <tr>\n",
       "      <th>1995-12-22</th>\n",
       "      <td>120.0</td>\n",
       "      <td>122.5</td>\n",
       "      <td>120.0</td>\n",
       "      <td>120.0</td>\n",
       "      <td>120.0</td>\n",
       "      <td>41600.0</td>\n",
       "    </tr>\n",
       "    <tr>\n",
       "      <th>1995-12-26</th>\n",
       "      <td>120.0</td>\n",
       "      <td>122.5</td>\n",
       "      <td>120.0</td>\n",
       "      <td>120.0</td>\n",
       "      <td>120.0</td>\n",
       "      <td>1500.0</td>\n",
       "    </tr>\n",
       "    <tr>\n",
       "      <th>1995-12-27</th>\n",
       "      <td>122.5</td>\n",
       "      <td>122.5</td>\n",
       "      <td>120.0</td>\n",
       "      <td>120.0</td>\n",
       "      <td>120.0</td>\n",
       "      <td>6600.0</td>\n",
       "    </tr>\n",
       "    <tr>\n",
       "      <th>1995-12-28</th>\n",
       "      <td>120.0</td>\n",
       "      <td>122.5</td>\n",
       "      <td>120.0</td>\n",
       "      <td>120.0</td>\n",
       "      <td>120.0</td>\n",
       "      <td>22500.0</td>\n",
       "    </tr>\n",
       "  </tbody>\n",
       "</table>\n",
       "</div>"
      ],
      "text/plain": [
       "             Open   High    Low  Close  Adj Close   Volume\n",
       "Date                                                      \n",
       "1995-12-21  120.0  125.0  120.0  120.0      120.0  70200.0\n",
       "1995-12-22  120.0  122.5  120.0  120.0      120.0  41600.0\n",
       "1995-12-26  120.0  122.5  120.0  120.0      120.0   1500.0\n",
       "1995-12-27  122.5  122.5  120.0  120.0      120.0   6600.0\n",
       "1995-12-28  120.0  122.5  120.0  120.0      120.0  22500.0"
      ]
     },
     "execution_count": 23,
     "metadata": {},
     "output_type": "execute_result"
    }
   ],
   "source": [
    "#load data\n",
    "start = dt.datetime(1995,1,1)\n",
    "end   = dt.date.today()\n",
    "data = pandas_datareader.data.DataReader('ASTC','yahoo',start,end)\n",
    "data.head()"
   ]
  },
  {
   "cell_type": "code",
   "execution_count": 24,
   "metadata": {},
   "outputs": [],
   "source": [
    "def derivative(df):\n",
    "    df['d1close'] = df.Close.diff()\n",
    "    df['d2close'] = df.d1close.diff()\n",
    "    df['d1vol'] = df.Volume.diff()\n",
    "    df['d2vol'] = df.d1vol.diff()\n",
    "    return df"
   ]
  },
  {
   "cell_type": "code",
   "execution_count": 27,
   "metadata": {},
   "outputs": [],
   "source": [
    "data = derivative(data)\n",
    "data.head()"
   ]
  },
  {
   "cell_type": "code",
   "execution_count": 31,
   "metadata": {},
   "outputs": [],
   "source": [
    "# fill NA with zero (from derivatives)\n",
    "data = data.fillna(0)"
   ]
  },
  {
   "cell_type": "markdown",
   "metadata": {},
   "source": [
    "# Normalise and Prepozess the data like a boss^12"
   ]
  },
  {
   "cell_type": "code",
   "execution_count": 32,
   "metadata": {},
   "outputs": [
    {
     "data": {
      "text/html": [
       "<div>\n",
       "<style>\n",
       "    .dataframe thead tr:only-child th {\n",
       "        text-align: right;\n",
       "    }\n",
       "\n",
       "    .dataframe thead th {\n",
       "        text-align: left;\n",
       "    }\n",
       "\n",
       "    .dataframe tbody tr th {\n",
       "        vertical-align: top;\n",
       "    }\n",
       "</style>\n",
       "<table border=\"1\" class=\"dataframe\">\n",
       "  <thead>\n",
       "    <tr style=\"text-align: right;\">\n",
       "      <th></th>\n",
       "      <th>d1close</th>\n",
       "      <th>d2close</th>\n",
       "      <th>d1vol</th>\n",
       "      <th>d2vol</th>\n",
       "      <th>Ordinal/1e6</th>\n",
       "      <th>Weekday</th>\n",
       "      <th>Adj Volume</th>\n",
       "      <th>Adj Close</th>\n",
       "      <th>Adj Open</th>\n",
       "      <th>Adj High</th>\n",
       "      <th>Adj Low</th>\n",
       "      <th>Normalised Volume</th>\n",
       "      <th>Normalised Close</th>\n",
       "      <th>Normalised Open</th>\n",
       "      <th>Normalised High</th>\n",
       "      <th>Normalised Low</th>\n",
       "    </tr>\n",
       "    <tr>\n",
       "      <th>Date</th>\n",
       "      <th></th>\n",
       "      <th></th>\n",
       "      <th></th>\n",
       "      <th></th>\n",
       "      <th></th>\n",
       "      <th></th>\n",
       "      <th></th>\n",
       "      <th></th>\n",
       "      <th></th>\n",
       "      <th></th>\n",
       "      <th></th>\n",
       "      <th></th>\n",
       "      <th></th>\n",
       "      <th></th>\n",
       "      <th></th>\n",
       "      <th></th>\n",
       "    </tr>\n",
       "  </thead>\n",
       "  <tbody>\n",
       "    <tr>\n",
       "      <th>1995-12-21</th>\n",
       "      <td>0.0</td>\n",
       "      <td>0.0</td>\n",
       "      <td>0.0</td>\n",
       "      <td>0.0</td>\n",
       "      <td>0.728648</td>\n",
       "      <td>3.0</td>\n",
       "      <td>0.006483</td>\n",
       "      <td>1.0</td>\n",
       "      <td>1.000000</td>\n",
       "      <td>1.041667</td>\n",
       "      <td>1.0</td>\n",
       "      <td>0.000000</td>\n",
       "      <td>0.0</td>\n",
       "      <td>0.000000</td>\n",
       "      <td>0.000000</td>\n",
       "      <td>0.0</td>\n",
       "    </tr>\n",
       "    <tr>\n",
       "      <th>1995-12-22</th>\n",
       "      <td>0.0</td>\n",
       "      <td>0.0</td>\n",
       "      <td>-28600.0</td>\n",
       "      <td>0.0</td>\n",
       "      <td>0.728649</td>\n",
       "      <td>4.0</td>\n",
       "      <td>0.003842</td>\n",
       "      <td>1.0</td>\n",
       "      <td>1.000000</td>\n",
       "      <td>1.020833</td>\n",
       "      <td>1.0</td>\n",
       "      <td>-0.996158</td>\n",
       "      <td>0.0</td>\n",
       "      <td>0.000000</td>\n",
       "      <td>0.020833</td>\n",
       "      <td>0.0</td>\n",
       "    </tr>\n",
       "    <tr>\n",
       "      <th>1995-12-26</th>\n",
       "      <td>0.0</td>\n",
       "      <td>0.0</td>\n",
       "      <td>-40100.0</td>\n",
       "      <td>-11500.0</td>\n",
       "      <td>0.728653</td>\n",
       "      <td>1.0</td>\n",
       "      <td>0.000139</td>\n",
       "      <td>1.0</td>\n",
       "      <td>1.000000</td>\n",
       "      <td>1.020833</td>\n",
       "      <td>1.0</td>\n",
       "      <td>-0.999861</td>\n",
       "      <td>0.0</td>\n",
       "      <td>0.000000</td>\n",
       "      <td>0.020833</td>\n",
       "      <td>0.0</td>\n",
       "    </tr>\n",
       "    <tr>\n",
       "      <th>1995-12-27</th>\n",
       "      <td>0.0</td>\n",
       "      <td>0.0</td>\n",
       "      <td>5100.0</td>\n",
       "      <td>45200.0</td>\n",
       "      <td>0.728654</td>\n",
       "      <td>2.0</td>\n",
       "      <td>0.000609</td>\n",
       "      <td>1.0</td>\n",
       "      <td>1.020833</td>\n",
       "      <td>1.020833</td>\n",
       "      <td>1.0</td>\n",
       "      <td>-0.999391</td>\n",
       "      <td>0.0</td>\n",
       "      <td>0.020833</td>\n",
       "      <td>0.020833</td>\n",
       "      <td>0.0</td>\n",
       "    </tr>\n",
       "    <tr>\n",
       "      <th>1995-12-28</th>\n",
       "      <td>0.0</td>\n",
       "      <td>0.0</td>\n",
       "      <td>15900.0</td>\n",
       "      <td>10800.0</td>\n",
       "      <td>0.728655</td>\n",
       "      <td>3.0</td>\n",
       "      <td>0.002078</td>\n",
       "      <td>1.0</td>\n",
       "      <td>1.000000</td>\n",
       "      <td>1.020833</td>\n",
       "      <td>1.0</td>\n",
       "      <td>-0.997922</td>\n",
       "      <td>0.0</td>\n",
       "      <td>0.000000</td>\n",
       "      <td>0.020833</td>\n",
       "      <td>0.0</td>\n",
       "    </tr>\n",
       "  </tbody>\n",
       "</table>\n",
       "</div>"
      ],
      "text/plain": [
       "            d1close  d2close    d1vol    d2vol  Ordinal/1e6  Weekday  \\\n",
       "Date                                                                   \n",
       "1995-12-21      0.0      0.0      0.0      0.0     0.728648      3.0   \n",
       "1995-12-22      0.0      0.0 -28600.0      0.0     0.728649      4.0   \n",
       "1995-12-26      0.0      0.0 -40100.0 -11500.0     0.728653      1.0   \n",
       "1995-12-27      0.0      0.0   5100.0  45200.0     0.728654      2.0   \n",
       "1995-12-28      0.0      0.0  15900.0  10800.0     0.728655      3.0   \n",
       "\n",
       "            Adj Volume  Adj Close  Adj Open  Adj High  Adj Low  \\\n",
       "Date                                                             \n",
       "1995-12-21    0.006483        1.0  1.000000  1.041667      1.0   \n",
       "1995-12-22    0.003842        1.0  1.000000  1.020833      1.0   \n",
       "1995-12-26    0.000139        1.0  1.000000  1.020833      1.0   \n",
       "1995-12-27    0.000609        1.0  1.020833  1.020833      1.0   \n",
       "1995-12-28    0.002078        1.0  1.000000  1.020833      1.0   \n",
       "\n",
       "            Normalised Volume  Normalised Close  Normalised Open  \\\n",
       "Date                                                               \n",
       "1995-12-21           0.000000               0.0         0.000000   \n",
       "1995-12-22          -0.996158               0.0         0.000000   \n",
       "1995-12-26          -0.999861               0.0         0.000000   \n",
       "1995-12-27          -0.999391               0.0         0.020833   \n",
       "1995-12-28          -0.997922               0.0         0.000000   \n",
       "\n",
       "            Normalised High  Normalised Low  \n",
       "Date                                         \n",
       "1995-12-21         0.000000             0.0  \n",
       "1995-12-22         0.020833             0.0  \n",
       "1995-12-26         0.020833             0.0  \n",
       "1995-12-27         0.020833             0.0  \n",
       "1995-12-28         0.020833             0.0  "
      ]
     },
     "execution_count": 32,
     "metadata": {},
     "output_type": "execute_result"
    }
   ],
   "source": [
    "#normalise data\n",
    "data_n = stock_data_preprocessing.normalise_stock_data(data)\n",
    "data_n.head()"
   ]
  },
  {
   "cell_type": "markdown",
   "metadata": {},
   "source": [
    "# 1,2,3 Plot Line!"
   ]
  },
  {
   "cell_type": "code",
   "execution_count": 33,
   "metadata": {},
   "outputs": [
    {
     "data": {
      "image/png": "[encoded data removed]",
      "text/plain": [
       "<matplotlib.figure.Figure at 0x2d7ce73f240>"
      ]
     },
     "metadata": {},
     "output_type": "display_data"
    }
   ],
   "source": [
    "stock_data_preprocessing.stock_plot((data_n,))"
   ]
  },
  {
   "cell_type": "markdown",
   "metadata": {},
   "source": [
    "# Pickup the Data"
   ]
  },
  {
   "cell_type": "code",
   "execution_count": 34,
   "metadata": {
    "collapsed": true
   },
   "outputs": [],
   "source": [
    "# training data\n",
    "prediction_time = 1 #day\n",
    "testdatasize = 450\n",
    "unroll_length = 50\n",
    "testdatacut = testdatasize + unroll_length  + 1\n",
    "\n",
    "x_train = data_n[0:-prediction_time-testdatacut].as_matrix()\n",
    "y_train = data_n[prediction_time:-testdatacut  ]['Normalised Close'].as_matrix()\n",
    "\n",
    "# test data\n",
    "x_test = data_n[0-testdatacut:-prediction_time].as_matrix()\n",
    "y_test = data_n[prediction_time-testdatacut:  ]['Normalised Close'].as_matrix()\n",
    "\n"
   ]
  },
  {
   "cell_type": "code",
   "execution_count": 35,
   "metadata": {},
   "outputs": [
    {
     "name": "stdout",
     "output_type": "stream",
     "text": [
      "x_train (4961, 16)\n",
      "y_train (4961,)\n",
      "x_test (500, 16)\n",
      "y_test (500,)\n"
     ]
    }
   ],
   "source": [
    "print(\"x_train\", x_train.shape)\n",
    "print(\"y_train\", y_train.shape)\n",
    "print(\"x_test\", x_test.shape)\n",
    "print(\"y_test\", y_test.shape)"
   ]
  },
  {
   "cell_type": "markdown",
   "metadata": {},
   "source": [
    "# unroll it"
   ]
  },
  {
   "cell_type": "code",
   "execution_count": 33,
   "metadata": {},
   "outputs": [
    {
     "name": "stdout",
     "output_type": "stream",
     "text": [
      "x_train (4911, 50, 12)\n",
      "y_train (4911,)\n",
      "x_test (450, 50, 12)\n",
      "y_test (450,)\n"
     ]
    }
   ],
   "source": [
    "def unroll(data,sequence_length=24):\n",
    "    result = []\n",
    "    for index in range(len(data) - sequence_length):\n",
    "        result.append(data[index: index + sequence_length])\n",
    "    return np.asarray(result)\n",
    "\n",
    "\n",
    "x_train = unroll(x_train,unroll_length)\n",
    "x_test  = unroll(x_test,unroll_length)\n",
    "y_train = y_train[-x_train.shape[0]:]\n",
    "y_test  = y_test[-x_test.shape[0]:]\n",
    "\n",
    "\n",
    "print(\"x_train\", x_train.shape)\n",
    "print(\"y_train\", y_train.shape)\n",
    "print(\"x_test\", x_test.shape)\n",
    "print(\"y_test\", y_test.shape)"
   ]
  },
  {
   "cell_type": "markdown",
   "metadata": {},
   "source": [
    "# Model Building"
   ]
  },
  {
   "cell_type": "code",
   "execution_count": 34,
   "metadata": {
    "collapsed": true
   },
   "outputs": [],
   "source": [
    "from keras.layers.core import Dense, Activation, Dropout\n",
    "from keras.layers.recurrent import LSTM\n",
    "from keras.models import Sequential\n",
    "import lstm, time #helper libraries"
   ]
  },
  {
   "cell_type": "code",
   "execution_count": 35,
   "metadata": {},
   "outputs": [
    {
     "data": {
      "text/plain": [
       "(4911, 50, 12)"
      ]
     },
     "execution_count": 35,
     "metadata": {},
     "output_type": "execute_result"
    }
   ],
   "source": [
    "x_train.shape"
   ]
  },
  {
   "cell_type": "code",
   "execution_count": 36,
   "metadata": {},
   "outputs": [
    {
     "name": "stdout",
     "output_type": "stream",
     "text": [
      "compilation time : 0.03125119209289551\n"
     ]
    }
   ],
   "source": [
    "#Step 2 Build Model\n",
    "model = Sequential()\n",
    "\n",
    "model.add(LSTM(\n",
    "    input_shape=(None, x_train.shape[-1]),\n",
    "    units =50,\n",
    "    return_sequences=True))\n",
    "model.add(Dropout(0.2))\n",
    "\n",
    "model.add(LSTM(\n",
    "    100,\n",
    "    return_sequences=False))\n",
    "model.add(Dropout(0.2))\n",
    "\n",
    "model.add(Dense(\n",
    "    units=1))\n",
    "model.add(Activation('linear'))\n",
    "\n",
    "start = time.time()\n",
    "model.compile(loss='mse', optimizer='rmsprop')\n",
    "print('compilation time : {}'.format(time.time() - start))"
   ]
  },
  {
   "cell_type": "code",
   "execution_count": 37,
   "metadata": {},
   "outputs": [
    {
     "name": "stdout",
     "output_type": "stream",
     "text": [
      "Train on 4665 samples, validate on 246 samples\n",
      "Epoch 1/50\n",
      "4665/4665 [==============================] - 15s - loss: 0.1265 - val_loss: 0.0030\n",
      "Epoch 2/50\n",
      "4665/4665 [==============================] - 12s - loss: 0.0082 - val_loss: 0.0012\n",
      "Epoch 3/50\n",
      "4665/4665 [==============================] - 12s - loss: 0.0072 - val_loss: 0.0012\n",
      "Epoch 4/50\n",
      "4665/4665 [==============================] - 12s - loss: 0.0069 - val_loss: 0.0011\n",
      "Epoch 5/50\n",
      "4665/4665 [==============================] - 12s - loss: 0.0069 - val_loss: 0.0012\n",
      "Epoch 6/50\n",
      "4665/4665 [==============================] - 12s - loss: 0.0065 - val_loss: 0.0012\n",
      "Epoch 7/50\n",
      "4665/4665 [==============================] - 12s - loss: 0.0066 - val_loss: 0.0011\n",
      "Epoch 8/50\n",
      "4665/4665 [==============================] - 12s - loss: 0.0066 - val_loss: 0.0012\n",
      "Epoch 9/50\n",
      "4665/4665 [==============================] - 12s - loss: 0.0064 - val_loss: 0.0012\n",
      "Epoch 10/50\n",
      "4665/4665 [==============================] - 12s - loss: 0.0066 - val_loss: 0.0012\n",
      "Epoch 11/50\n",
      "4665/4665 [==============================] - 12s - loss: 0.0064 - val_loss: 0.0020\n",
      "Epoch 12/50\n",
      "4665/4665 [==============================] - 12s - loss: 0.0073 - val_loss: 0.0050\n",
      "Epoch 13/50\n",
      "4665/4665 [==============================] - 12s - loss: 0.0098 - val_loss: 0.0054\n",
      "Epoch 14/50\n",
      "4665/4665 [==============================] - 12s - loss: 0.0092 - val_loss: 0.0024\n",
      "Epoch 15/50\n",
      "4665/4665 [==============================] - 13s - loss: 0.0069 - val_loss: 0.0016\n",
      "Epoch 16/50\n",
      "4665/4665 [==============================] - 12s - loss: 0.0063 - val_loss: 0.0016\n",
      "Epoch 17/50\n",
      "4665/4665 [==============================] - 12s - loss: 0.0062 - val_loss: 0.0016\n",
      "Epoch 18/50\n",
      "4665/4665 [==============================] - 12s - loss: 0.0063 - val_loss: 0.0022\n",
      "Epoch 19/50\n",
      "4665/4665 [==============================] - 12s - loss: 0.0068 - val_loss: 0.0035\n",
      "Epoch 20/50\n",
      "4665/4665 [==============================] - 12s - loss: 0.0081 - val_loss: 0.0051\n",
      "Epoch 21/50\n",
      "4665/4665 [==============================] - 12s - loss: 0.0088 - val_loss: 0.0029\n",
      "Epoch 22/50\n",
      "4665/4665 [==============================] - 12s - loss: 0.0068 - val_loss: 0.0017\n",
      "Epoch 23/50\n",
      "4665/4665 [==============================] - 12s - loss: 0.0060 - val_loss: 0.0015\n",
      "Epoch 24/50\n",
      "4665/4665 [==============================] - 12s - loss: 0.0059 - val_loss: 0.0015\n",
      "Epoch 25/50\n",
      "4665/4665 [==============================] - 12s - loss: 0.0058 - val_loss: 0.0018\n",
      "Epoch 26/50\n",
      "4665/4665 [==============================] - 12s - loss: 0.0061 - val_loss: 0.0025\n",
      "Epoch 27/50\n",
      "4665/4665 [==============================] - 12s - loss: 0.0067 - val_loss: 0.0033\n",
      "Epoch 28/50\n",
      "4665/4665 [==============================] - 12s - loss: 0.0073 - val_loss: 0.0028\n",
      "Epoch 29/50\n",
      "4665/4665 [==============================] - 13s - loss: 0.0068 - val_loss: 0.0018\n",
      "Epoch 30/50\n",
      "4665/4665 [==============================] - 12s - loss: 0.0057 - val_loss: 0.0013\n",
      "Epoch 31/50\n",
      "4665/4665 [==============================] - 12s - loss: 0.0054 - val_loss: 0.0014\n",
      "Epoch 32/50\n",
      "4665/4665 [==============================] - 12s - loss: 0.0055 - val_loss: 0.0018\n",
      "Epoch 33/50\n",
      "4665/4665 [==============================] - 12s - loss: 0.0059 - val_loss: 0.0027\n",
      "Epoch 34/50\n",
      "4665/4665 [==============================] - 12s - loss: 0.0067 - val_loss: 0.0024\n",
      "Epoch 35/50\n",
      "4665/4665 [==============================] - 12s - loss: 0.0061 - val_loss: 0.0016\n",
      "Epoch 36/50\n",
      "4665/4665 [==============================] - 12s - loss: 0.0055 - val_loss: 0.0013\n",
      "Epoch 37/50\n",
      "4665/4665 [==============================] - 13s - loss: 0.0053 - val_loss: 0.0013\n",
      "Epoch 38/50\n",
      "4665/4665 [==============================] - 12s - loss: 0.0052 - val_loss: 0.0012\n",
      "Epoch 39/50\n",
      "4665/4665 [==============================] - 12s - loss: 0.0053 - val_loss: 0.0013\n",
      "Epoch 40/50\n",
      "4665/4665 [==============================] - 13s - loss: 0.0053 - val_loss: 0.0020\n",
      "Epoch 41/50\n",
      "4665/4665 [==============================] - 12s - loss: 0.0060 - val_loss: 0.0030\n",
      "Epoch 42/50\n",
      "4665/4665 [==============================] - 12s - loss: 0.0063 - val_loss: 0.0015\n",
      "Epoch 43/50\n",
      "4665/4665 [==============================] - 13s - loss: 0.0054 - val_loss: 0.0013\n",
      "Epoch 44/50\n",
      "4665/4665 [==============================] - 12s - loss: 0.0051 - val_loss: 0.0012\n",
      "Epoch 45/50\n",
      "4665/4665 [==============================] - 12s - loss: 0.0051 - val_loss: 0.0013\n",
      "Epoch 46/50\n",
      "4665/4665 [==============================] - 12s - loss: 0.0051 - val_loss: 0.0013\n",
      "Epoch 47/50\n",
      "4665/4665 [==============================] - 12s - loss: 0.0051 - val_loss: 0.0013\n",
      "Epoch 48/50\n",
      "4665/4665 [==============================] - 12s - loss: 0.0051 - val_loss: 0.0014\n",
      "Epoch 49/50\n",
      "4665/4665 [==============================] - 12s - loss: 0.0052 - val_loss: 0.0020\n",
      "Epoch 50/50\n",
      "4665/4665 [==============================] - 12s - loss: 0.0058 - val_loss: 0.0021\n"
     ]
    },
    {
     "data": {
      "text/plain": [
       "<keras.callbacks.History at 0x1c498595b00>"
      ]
     },
     "execution_count": 37,
     "metadata": {},
     "output_type": "execute_result"
    }
   ],
   "source": [
    "#Step 3 Train the model\n",
    "model.fit(\n",
    "    x_train,\n",
    "    y_train,\n",
    "    batch_size=3028,\n",
    "    epochs=50,\n",
    "    validation_split=0.05)"
   ]
  },
  {
   "cell_type": "code",
   "execution_count": 38,
   "metadata": {
    "scrolled": true
   },
   "outputs": [
    {
     "name": "stdout",
     "output_type": "stream",
     "text": [
      "yo\n"
     ]
    },
    {
     "data": {
      "image/png": "[encoded data removed]",
      "text/plain": [
       "<matplotlib.figure.Figure at 0x1c498e9df98>"
      ]
     },
     "metadata": {},
     "output_type": "display_data"
    }
   ],
   "source": [
    "#Step 4 - Plot the predictions!\n",
    "predictions = lstm.predict_sequences_multiple(model, x_test, 50, 50)\n",
    "lstm.plot_results_multiple(predictions, y_test, 50)"
   ]
  },
  {
   "cell_type": "code",
   "execution_count": 14,
   "metadata": {},
   "outputs": [
    {
     "ename": "NameError",
     "evalue": "name 'lstm' is not defined",
     "output_type": "error",
     "traceback": [
      "\u001b[1;31m---------------------------------------------------------------------------\u001b[0m",
      "\u001b[1;31mNameError\u001b[0m                                 Traceback (most recent call last)",
      "\u001b[1;32m<ipython-input-14-da82028462dc>\u001b[0m in \u001b[0;36m<module>\u001b[1;34m()\u001b[0m\n\u001b[1;32m----> 1\u001b[1;33m \u001b[0mpredictions\u001b[0m \u001b[1;33m=\u001b[0m \u001b[0mlstm\u001b[0m\u001b[1;33m.\u001b[0m\u001b[0mpredict_point_by_point\u001b[0m\u001b[1;33m(\u001b[0m\u001b[0mmodel\u001b[0m\u001b[1;33m,\u001b[0m \u001b[0mx_test\u001b[0m\u001b[1;33m)\u001b[0m\u001b[1;33m\u001b[0m\u001b[0m\n\u001b[0m\u001b[0;32m      2\u001b[0m \u001b[0mlstm\u001b[0m\u001b[1;33m.\u001b[0m\u001b[0mplot_results_multiple\u001b[0m\u001b[1;33m(\u001b[0m\u001b[0mpredictions\u001b[0m\u001b[1;33m,\u001b[0m \u001b[0my_test\u001b[0m\u001b[1;33m,\u001b[0m \u001b[1;36m50\u001b[0m\u001b[1;33m)\u001b[0m\u001b[1;33m\u001b[0m\u001b[0m\n",
      "\u001b[1;31mNameError\u001b[0m: name 'lstm' is not defined"
     ]
    }
   ],
   "source": [
    "predictions = lstm.predict_point_by_point(model, x_test)\n",
    "lstm.plot_results_multiple(predictions, y_test, 50)"
   ]
  },
  {
   "cell_type": "code",
   "execution_count": null,
   "metadata": {
    "collapsed": true
   },
   "outputs": [],
   "source": []
  }
 ],
 "metadata": {
  "kernelspec": {
   "display_name": "Python 3",
   "language": "python",
   "name": "python3"
  },
  "language_info": {
   "codemirror_mode": {
    "name": "ipython",
    "version": 3
   },
   "file_extension": ".py",
   "mimetype": "text/x-python",
   "name": "python",
   "nbconvert_exporter": "python",
   "pygments_lexer": "ipython3",
   "version": "3.6.2"
  },
  "widgets": {
   "state": {},
   "version": "1.1.2"
  }
 },
 "nbformat": 4,
 "nbformat_minor": 2
}
