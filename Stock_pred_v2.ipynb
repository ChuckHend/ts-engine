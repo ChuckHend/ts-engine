{
 "cells": [
  {
   "cell_type": "code",
   "execution_count": 1,
   "metadata": {
    "collapsed": true
   },
   "outputs": [],
   "source": [
    "%matplotlib notebook\n",
    "%matplotlib inline\n",
    "\n",
    "import os\n",
    "import time\n",
    "import datetime as dt\n",
    "import numpy as np\n",
    "from numpy import newaxis\n",
    "import matplotlib.pyplot as plt\n",
    "import pandas\n",
    "import pandas_datareader\n"
   ]
  },
  {
   "cell_type": "code",
   "execution_count": 5,
   "metadata": {},
   "outputs": [],
   "source": [
    "import stock_proc as sdp\n",
    "import featureEng as fe"
   ]
  },
  {
   "cell_type": "code",
   "execution_count": 6,
   "metadata": {},
   "outputs": [
    {
     "data": {
      "text/html": [
       "<div>\n",
       "<style>\n",
       "    .dataframe thead tr:only-child th {\n",
       "        text-align: right;\n",
       "    }\n",
       "\n",
       "    .dataframe thead th {\n",
       "        text-align: left;\n",
       "    }\n",
       "\n",
       "    .dataframe tbody tr th {\n",
       "        vertical-align: top;\n",
       "    }\n",
       "</style>\n",
       "<table border=\"1\" class=\"dataframe\">\n",
       "  <thead>\n",
       "    <tr style=\"text-align: right;\">\n",
       "      <th></th>\n",
       "      <th>Open</th>\n",
       "      <th>High</th>\n",
       "      <th>Low</th>\n",
       "      <th>Close</th>\n",
       "      <th>Adj Close</th>\n",
       "      <th>Volume</th>\n",
       "    </tr>\n",
       "    <tr>\n",
       "      <th>Date</th>\n",
       "      <th></th>\n",
       "      <th></th>\n",
       "      <th></th>\n",
       "      <th></th>\n",
       "      <th></th>\n",
       "      <th></th>\n",
       "    </tr>\n",
       "  </thead>\n",
       "  <tbody>\n",
       "    <tr>\n",
       "      <th>1995-01-03</th>\n",
       "      <td>11.962963</td>\n",
       "      <td>11.962963</td>\n",
       "      <td>11.666667</td>\n",
       "      <td>11.666667</td>\n",
       "      <td>5.036984</td>\n",
       "      <td>85000</td>\n",
       "    </tr>\n",
       "    <tr>\n",
       "      <th>1995-01-04</th>\n",
       "      <td>11.629630</td>\n",
       "      <td>11.629630</td>\n",
       "      <td>11.481482</td>\n",
       "      <td>11.518518</td>\n",
       "      <td>4.973022</td>\n",
       "      <td>100500</td>\n",
       "    </tr>\n",
       "    <tr>\n",
       "      <th>1995-01-05</th>\n",
       "      <td>11.555555</td>\n",
       "      <td>11.592592</td>\n",
       "      <td>11.518518</td>\n",
       "      <td>11.518518</td>\n",
       "      <td>4.973022</td>\n",
       "      <td>54000</td>\n",
       "    </tr>\n",
       "    <tr>\n",
       "      <th>1995-01-06</th>\n",
       "      <td>11.481482</td>\n",
       "      <td>11.481482</td>\n",
       "      <td>11.296296</td>\n",
       "      <td>11.333333</td>\n",
       "      <td>4.893070</td>\n",
       "      <td>88300</td>\n",
       "    </tr>\n",
       "    <tr>\n",
       "      <th>1995-01-09</th>\n",
       "      <td>11.407408</td>\n",
       "      <td>11.481482</td>\n",
       "      <td>11.407408</td>\n",
       "      <td>11.481482</td>\n",
       "      <td>4.957032</td>\n",
       "      <td>52800</td>\n",
       "    </tr>\n",
       "  </tbody>\n",
       "</table>\n",
       "</div>"
      ],
      "text/plain": [
       "                 Open       High        Low      Close  Adj Close  Volume\n",
       "Date                                                                     \n",
       "1995-01-03  11.962963  11.962963  11.666667  11.666667   5.036984   85000\n",
       "1995-01-04  11.629630  11.629630  11.481482  11.518518   4.973022  100500\n",
       "1995-01-05  11.555555  11.592592  11.518518  11.518518   4.973022   54000\n",
       "1995-01-06  11.481482  11.481482  11.296296  11.333333   4.893070   88300\n",
       "1995-01-09  11.407408  11.481482  11.407408  11.481482   4.957032   52800"
      ]
     },
     "execution_count": 6,
     "metadata": {},
     "output_type": "execute_result"
    }
   ],
   "source": [
    "#load data\n",
    "start = dt.datetime(1995,1,1)\n",
    "end   = dt.date.today()\n",
    "data = pandas_datareader.data.DataReader('OA','yahoo',start,end)\n",
    "data.head()"
   ]
  },
  {
   "cell_type": "code",
   "execution_count": 7,
   "metadata": {},
   "outputs": [
    {
     "data": {
      "text/html": [
       "<div>\n",
       "<style>\n",
       "    .dataframe thead tr:only-child th {\n",
       "        text-align: right;\n",
       "    }\n",
       "\n",
       "    .dataframe thead th {\n",
       "        text-align: left;\n",
       "    }\n",
       "\n",
       "    .dataframe tbody tr th {\n",
       "        vertical-align: top;\n",
       "    }\n",
       "</style>\n",
       "<table border=\"1\" class=\"dataframe\">\n",
       "  <thead>\n",
       "    <tr style=\"text-align: right;\">\n",
       "      <th></th>\n",
       "      <th>Open</th>\n",
       "      <th>High</th>\n",
       "      <th>Low</th>\n",
       "      <th>Close</th>\n",
       "      <th>Adj Close</th>\n",
       "      <th>Volume</th>\n",
       "      <th>d1close</th>\n",
       "      <th>d2close</th>\n",
       "      <th>d1vol</th>\n",
       "      <th>d2vol</th>\n",
       "    </tr>\n",
       "    <tr>\n",
       "      <th>Date</th>\n",
       "      <th></th>\n",
       "      <th></th>\n",
       "      <th></th>\n",
       "      <th></th>\n",
       "      <th></th>\n",
       "      <th></th>\n",
       "      <th></th>\n",
       "      <th></th>\n",
       "      <th></th>\n",
       "      <th></th>\n",
       "    </tr>\n",
       "  </thead>\n",
       "  <tbody>\n",
       "    <tr>\n",
       "      <th>1995-01-03</th>\n",
       "      <td>11.962963</td>\n",
       "      <td>11.962963</td>\n",
       "      <td>11.666667</td>\n",
       "      <td>11.666667</td>\n",
       "      <td>5.036984</td>\n",
       "      <td>85000</td>\n",
       "      <td>NaN</td>\n",
       "      <td>NaN</td>\n",
       "      <td>NaN</td>\n",
       "      <td>NaN</td>\n",
       "    </tr>\n",
       "    <tr>\n",
       "      <th>1995-01-04</th>\n",
       "      <td>11.629630</td>\n",
       "      <td>11.629630</td>\n",
       "      <td>11.481482</td>\n",
       "      <td>11.518518</td>\n",
       "      <td>4.973022</td>\n",
       "      <td>100500</td>\n",
       "      <td>-0.148149</td>\n",
       "      <td>NaN</td>\n",
       "      <td>15500.0</td>\n",
       "      <td>NaN</td>\n",
       "    </tr>\n",
       "    <tr>\n",
       "      <th>1995-01-05</th>\n",
       "      <td>11.555555</td>\n",
       "      <td>11.592592</td>\n",
       "      <td>11.518518</td>\n",
       "      <td>11.518518</td>\n",
       "      <td>4.973022</td>\n",
       "      <td>54000</td>\n",
       "      <td>0.000000</td>\n",
       "      <td>0.148149</td>\n",
       "      <td>-46500.0</td>\n",
       "      <td>-62000.0</td>\n",
       "    </tr>\n",
       "    <tr>\n",
       "      <th>1995-01-06</th>\n",
       "      <td>11.481482</td>\n",
       "      <td>11.481482</td>\n",
       "      <td>11.296296</td>\n",
       "      <td>11.333333</td>\n",
       "      <td>4.893070</td>\n",
       "      <td>88300</td>\n",
       "      <td>-0.185185</td>\n",
       "      <td>-0.185185</td>\n",
       "      <td>34300.0</td>\n",
       "      <td>80800.0</td>\n",
       "    </tr>\n",
       "    <tr>\n",
       "      <th>1995-01-09</th>\n",
       "      <td>11.407408</td>\n",
       "      <td>11.481482</td>\n",
       "      <td>11.407408</td>\n",
       "      <td>11.481482</td>\n",
       "      <td>4.957032</td>\n",
       "      <td>52800</td>\n",
       "      <td>0.148149</td>\n",
       "      <td>0.333334</td>\n",
       "      <td>-35500.0</td>\n",
       "      <td>-69800.0</td>\n",
       "    </tr>\n",
       "  </tbody>\n",
       "</table>\n",
       "</div>"
      ],
      "text/plain": [
       "                 Open       High        Low      Close  Adj Close  Volume  \\\n",
       "Date                                                                        \n",
       "1995-01-03  11.962963  11.962963  11.666667  11.666667   5.036984   85000   \n",
       "1995-01-04  11.629630  11.629630  11.481482  11.518518   4.973022  100500   \n",
       "1995-01-05  11.555555  11.592592  11.518518  11.518518   4.973022   54000   \n",
       "1995-01-06  11.481482  11.481482  11.296296  11.333333   4.893070   88300   \n",
       "1995-01-09  11.407408  11.481482  11.407408  11.481482   4.957032   52800   \n",
       "\n",
       "             d1close   d2close    d1vol    d2vol  \n",
       "Date                                              \n",
       "1995-01-03       NaN       NaN      NaN      NaN  \n",
       "1995-01-04 -0.148149       NaN  15500.0      NaN  \n",
       "1995-01-05  0.000000  0.148149 -46500.0 -62000.0  \n",
       "1995-01-06 -0.185185 -0.185185  34300.0  80800.0  \n",
       "1995-01-09  0.148149  0.333334 -35500.0 -69800.0  "
      ]
     },
     "execution_count": 7,
     "metadata": {},
     "output_type": "execute_result"
    }
   ],
   "source": [
    "data = fe.derivative(data, fill_na = False)\n",
    "data.head()"
   ]
  },
  {
   "cell_type": "code",
   "execution_count": 8,
   "metadata": {
    "collapsed": true
   },
   "outputs": [],
   "source": [
    "# fill NA with zero (from derivatives)\n",
    "data = data.fillna(0)"
   ]
  },
  {
   "cell_type": "code",
   "execution_count": 9,
   "metadata": {},
   "outputs": [
    {
     "data": {
      "text/plain": [
       "111.260002"
      ]
     },
     "execution_count": 9,
     "metadata": {},
     "output_type": "execute_result"
    }
   ],
   "source": [
    "max(data['Adj Close'])"
   ]
  },
  {
   "cell_type": "markdown",
   "metadata": {},
   "source": [
    "# Normalize"
   ]
  },
  {
   "cell_type": "code",
   "execution_count": 10,
   "metadata": {},
   "outputs": [
    {
     "data": {
      "text/html": [
       "<div>\n",
       "<style>\n",
       "    .dataframe thead tr:only-child th {\n",
       "        text-align: right;\n",
       "    }\n",
       "\n",
       "    .dataframe thead th {\n",
       "        text-align: left;\n",
       "    }\n",
       "\n",
       "    .dataframe tbody tr th {\n",
       "        vertical-align: top;\n",
       "    }\n",
       "</style>\n",
       "<table border=\"1\" class=\"dataframe\">\n",
       "  <thead>\n",
       "    <tr style=\"text-align: right;\">\n",
       "      <th></th>\n",
       "      <th>d1close</th>\n",
       "      <th>d2close</th>\n",
       "      <th>d1vol</th>\n",
       "      <th>d2vol</th>\n",
       "      <th>Ordinal/1e6</th>\n",
       "      <th>Weekday</th>\n",
       "      <th>Adj Volume</th>\n",
       "      <th>Adj Close</th>\n",
       "      <th>Adj Open</th>\n",
       "      <th>Adj High</th>\n",
       "      <th>Adj Low</th>\n",
       "      <th>Normalised Volume</th>\n",
       "      <th>Normalised Close</th>\n",
       "      <th>Normalised Open</th>\n",
       "      <th>Normalised High</th>\n",
       "      <th>Normalised Low</th>\n",
       "    </tr>\n",
       "    <tr>\n",
       "      <th>Date</th>\n",
       "      <th></th>\n",
       "      <th></th>\n",
       "      <th></th>\n",
       "      <th></th>\n",
       "      <th></th>\n",
       "      <th></th>\n",
       "      <th></th>\n",
       "      <th></th>\n",
       "      <th></th>\n",
       "      <th></th>\n",
       "      <th></th>\n",
       "      <th></th>\n",
       "      <th></th>\n",
       "      <th></th>\n",
       "      <th></th>\n",
       "      <th></th>\n",
       "    </tr>\n",
       "  </thead>\n",
       "  <tbody>\n",
       "    <tr>\n",
       "      <th>1995-01-03</th>\n",
       "      <td>0.000000</td>\n",
       "      <td>0.000000</td>\n",
       "      <td>0.0</td>\n",
       "      <td>0.0</td>\n",
       "      <td>0.728296</td>\n",
       "      <td>1.0</td>\n",
       "      <td>0.009762</td>\n",
       "      <td>1.000000</td>\n",
       "      <td>1.025397</td>\n",
       "      <td>1.025397</td>\n",
       "      <td>1.000000</td>\n",
       "      <td>0.000000</td>\n",
       "      <td>0.000000</td>\n",
       "      <td>0.000000</td>\n",
       "      <td>0.000000</td>\n",
       "      <td>0.000000</td>\n",
       "    </tr>\n",
       "    <tr>\n",
       "      <th>1995-01-04</th>\n",
       "      <td>-0.148149</td>\n",
       "      <td>0.000000</td>\n",
       "      <td>15500.0</td>\n",
       "      <td>0.0</td>\n",
       "      <td>0.728297</td>\n",
       "      <td>2.0</td>\n",
       "      <td>0.011542</td>\n",
       "      <td>0.987302</td>\n",
       "      <td>0.996825</td>\n",
       "      <td>0.996825</td>\n",
       "      <td>0.984127</td>\n",
       "      <td>-0.988458</td>\n",
       "      <td>-0.012698</td>\n",
       "      <td>-0.003175</td>\n",
       "      <td>-0.003175</td>\n",
       "      <td>-0.015873</td>\n",
       "    </tr>\n",
       "    <tr>\n",
       "      <th>1995-01-05</th>\n",
       "      <td>0.000000</td>\n",
       "      <td>0.148149</td>\n",
       "      <td>-46500.0</td>\n",
       "      <td>-62000.0</td>\n",
       "      <td>0.728298</td>\n",
       "      <td>3.0</td>\n",
       "      <td>0.006202</td>\n",
       "      <td>0.987302</td>\n",
       "      <td>0.990476</td>\n",
       "      <td>0.993651</td>\n",
       "      <td>0.987302</td>\n",
       "      <td>-0.993718</td>\n",
       "      <td>0.000000</td>\n",
       "      <td>0.003215</td>\n",
       "      <td>0.006431</td>\n",
       "      <td>0.000000</td>\n",
       "    </tr>\n",
       "    <tr>\n",
       "      <th>1995-01-06</th>\n",
       "      <td>-0.185185</td>\n",
       "      <td>-0.185185</td>\n",
       "      <td>34300.0</td>\n",
       "      <td>80800.0</td>\n",
       "      <td>0.728299</td>\n",
       "      <td>4.0</td>\n",
       "      <td>0.010141</td>\n",
       "      <td>0.971429</td>\n",
       "      <td>0.984127</td>\n",
       "      <td>0.984127</td>\n",
       "      <td>0.968254</td>\n",
       "      <td>-0.989729</td>\n",
       "      <td>-0.016077</td>\n",
       "      <td>-0.003215</td>\n",
       "      <td>-0.003215</td>\n",
       "      <td>-0.019293</td>\n",
       "    </tr>\n",
       "    <tr>\n",
       "      <th>1995-01-09</th>\n",
       "      <td>0.148149</td>\n",
       "      <td>0.333334</td>\n",
       "      <td>-35500.0</td>\n",
       "      <td>-69800.0</td>\n",
       "      <td>0.728302</td>\n",
       "      <td>0.0</td>\n",
       "      <td>0.006064</td>\n",
       "      <td>0.984127</td>\n",
       "      <td>0.977778</td>\n",
       "      <td>0.984127</td>\n",
       "      <td>0.977778</td>\n",
       "      <td>-0.993758</td>\n",
       "      <td>0.013072</td>\n",
       "      <td>0.006536</td>\n",
       "      <td>0.013072</td>\n",
       "      <td>0.006536</td>\n",
       "    </tr>\n",
       "  </tbody>\n",
       "</table>\n",
       "</div>"
      ],
      "text/plain": [
       "             d1close   d2close    d1vol    d2vol  Ordinal/1e6  Weekday  \\\n",
       "Date                                                                     \n",
       "1995-01-03  0.000000  0.000000      0.0      0.0     0.728296      1.0   \n",
       "1995-01-04 -0.148149  0.000000  15500.0      0.0     0.728297      2.0   \n",
       "1995-01-05  0.000000  0.148149 -46500.0 -62000.0     0.728298      3.0   \n",
       "1995-01-06 -0.185185 -0.185185  34300.0  80800.0     0.728299      4.0   \n",
       "1995-01-09  0.148149  0.333334 -35500.0 -69800.0     0.728302      0.0   \n",
       "\n",
       "            Adj Volume  Adj Close  Adj Open  Adj High   Adj Low  \\\n",
       "Date                                                              \n",
       "1995-01-03    0.009762   1.000000  1.025397  1.025397  1.000000   \n",
       "1995-01-04    0.011542   0.987302  0.996825  0.996825  0.984127   \n",
       "1995-01-05    0.006202   0.987302  0.990476  0.993651  0.987302   \n",
       "1995-01-06    0.010141   0.971429  0.984127  0.984127  0.968254   \n",
       "1995-01-09    0.006064   0.984127  0.977778  0.984127  0.977778   \n",
       "\n",
       "            Normalised Volume  Normalised Close  Normalised Open  \\\n",
       "Date                                                               \n",
       "1995-01-03           0.000000          0.000000         0.000000   \n",
       "1995-01-04          -0.988458         -0.012698        -0.003175   \n",
       "1995-01-05          -0.993718          0.000000         0.003215   \n",
       "1995-01-06          -0.989729         -0.016077        -0.003215   \n",
       "1995-01-09          -0.993758          0.013072         0.006536   \n",
       "\n",
       "            Normalised High  Normalised Low  \n",
       "Date                                         \n",
       "1995-01-03         0.000000        0.000000  \n",
       "1995-01-04        -0.003175       -0.015873  \n",
       "1995-01-05         0.006431        0.000000  \n",
       "1995-01-06        -0.003215       -0.019293  \n",
       "1995-01-09         0.013072        0.006536  "
      ]
     },
     "execution_count": 10,
     "metadata": {},
     "output_type": "execute_result"
    }
   ],
   "source": [
    "#normalise data\n",
    "data_n = sdp.normalize_stock_data(data)\n",
    "data_n.head()"
   ]
  },
  {
   "cell_type": "markdown",
   "metadata": {},
   "source": [
    "# Plot"
   ]
  },
  {
   "cell_type": "code",
   "execution_count": 11,
   "metadata": {},
   "outputs": [
    {
     "data": {
      "image/png": "[encoded data removed]",
      "text/plain": [
       "<matplotlib.figure.Figure at 0x118ed7c88>"
      ]
     },
     "metadata": {},
     "output_type": "display_data"
    }
   ],
   "source": [
    "sdp.stock_plot(data_n)"
   ]
  },
  {
   "cell_type": "markdown",
   "metadata": {},
   "source": [
    "# Transform Data"
   ]
  },
  {
   "cell_type": "code",
   "execution_count": 12,
   "metadata": {
    "collapsed": true
   },
   "outputs": [],
   "source": [
    "# training data\n",
    "prediction_time = 30 #day\n",
    "testdatasize = 450\n",
    "unroll_length = 90\n",
    "testdatacut = testdatasize + unroll_length  + 1\n",
    "\n",
    "x_train = data_n[0:-prediction_time-testdatacut].as_matrix()\n",
    "y_train = data_n[prediction_time:-testdatacut  ]['Normalised Close'].as_matrix()\n",
    "\n",
    "# test data\n",
    "x_test = data_n[0-testdatacut:-prediction_time].as_matrix()\n",
    "y_test = data_n[prediction_time-testdatacut:  ]['Normalised Close'].as_matrix()\n",
    "\n"
   ]
  },
  {
   "cell_type": "code",
   "execution_count": 13,
   "metadata": {},
   "outputs": [
    {
     "name": "stdout",
     "output_type": "stream",
     "text": [
      "x_train (5140, 16)\n",
      "y_train (5140,)\n",
      "x_test (511, 16)\n",
      "y_test (511,)\n"
     ]
    }
   ],
   "source": [
    "print(\"x_train\", x_train.shape)\n",
    "print(\"y_train\", y_train.shape)\n",
    "print(\"x_test\", x_test.shape)\n",
    "print(\"y_test\", y_test.shape)"
   ]
  },
  {
   "cell_type": "markdown",
   "metadata": {},
   "source": [
    "# Convert to time series"
   ]
  },
  {
   "cell_type": "code",
   "execution_count": 14,
   "metadata": {},
   "outputs": [
    {
     "name": "stdout",
     "output_type": "stream",
     "text": [
      "x_train (5050, 90, 16)\n",
      "y_train (5050,)\n",
      "x_test (421, 90, 16)\n",
      "y_test (421,)\n"
     ]
    }
   ],
   "source": [
    "x_train = sdp.unroll(x_train,unroll_length)\n",
    "x_test  = sdp.unroll(x_test,unroll_length)\n",
    "y_train = y_train[-x_train.shape[0]:]\n",
    "y_test  = y_test[-x_test.shape[0]:]\n",
    "\n",
    "\n",
    "print(\"x_train\", x_train.shape)\n",
    "print(\"y_train\", y_train.shape)\n",
    "print(\"x_test\", x_test.shape)\n",
    "print(\"y_test\", y_test.shape)"
   ]
  },
  {
   "cell_type": "markdown",
   "metadata": {},
   "source": [
    "# Model Building"
   ]
  },
  {
   "cell_type": "code",
   "execution_count": 12,
   "metadata": {},
   "outputs": [
    {
     "name": "stderr",
     "output_type": "stream",
     "text": [
      "Using TensorFlow backend.\n"
     ]
    }
   ],
   "source": [
    "from keras.layers.core import Dense, Activation, Dropout\n",
    "from keras.layers.recurrent import LSTM\n",
    "from keras.models import Sequential\n",
    "import lstm, time #helper libraries"
   ]
  },
  {
   "cell_type": "code",
   "execution_count": 13,
   "metadata": {},
   "outputs": [
    {
     "data": {
      "text/plain": [
       "(5050, 90, 16)"
      ]
     },
     "execution_count": 13,
     "metadata": {},
     "output_type": "execute_result"
    }
   ],
   "source": [
    "x_train.shape"
   ]
  },
  {
   "cell_type": "code",
   "execution_count": 14,
   "metadata": {},
   "outputs": [
    {
     "name": "stderr",
     "output_type": "stream",
     "text": [
      "/Users/ahendel1/Documents/Academics/4cast/lstm.py:66: UserWarning: Update your `LSTM` call to the Keras 2 API: `LSTM(input_shape=(50, 1), return_sequences=True, units=50)`\n",
      "  return_sequences=True))\n"
     ]
    },
    {
     "name": "stdout",
     "output_type": "stream",
     "text": [
      "Compilation Time :  0.012272119522094727\n"
     ]
    },
    {
     "name": "stderr",
     "output_type": "stream",
     "text": [
      "/Users/ahendel1/Documents/Academics/4cast/lstm.py:75: UserWarning: Update your `Dense` call to the Keras 2 API: `Dense(units=1)`\n",
      "  output_dim=layers[3]))\n"
     ]
    }
   ],
   "source": [
    "model = lstm.build_model([1, 50, 100, 1])"
   ]
  },
  {
   "cell_type": "code",
   "execution_count": 19,
   "metadata": {},
   "outputs": [
    {
     "name": "stdout",
     "output_type": "stream",
     "text": [
      "compilation time : 0.01110386848449707\n"
     ]
    }
   ],
   "source": [
    "#Step 2 Build Model\n",
    "model = Sequential()\n",
    "\n",
    "model.add(LSTM(\n",
    "    input_shape=(None, x_train.shape[-1]),\n",
    "    units =50,\n",
    "    return_sequences=True))\n",
    "model.add(Dropout(0.2))\n",
    "\n",
    "model.add(LSTM(\n",
    "    100,\n",
    "    return_sequences=False))\n",
    "model.add(Dropout(0.2))\n",
    "\n",
    "model.add(Dense(\n",
    "    units=1))\n",
    "model.add(Activation('linear'))\n",
    "\n",
    "start = time.time()\n",
    "model.compile(loss='mse', optimizer='rmsprop')\n",
    "print('compilation time : {}'.format(time.time() - start))"
   ]
  },
  {
   "cell_type": "code",
   "execution_count": 16,
   "metadata": {},
   "outputs": [
    {
     "ename": "ValueError",
     "evalue": "Error when checking input: expected lstm_2_input to have shape (None, None, 1) but got array with shape (5050, 90, 16)",
     "output_type": "error",
     "traceback": [
      "\u001b[0;31m---------------------------------------------------------------------------\u001b[0m",
      "\u001b[0;31mValueError\u001b[0m                                Traceback (most recent call last)",
      "\u001b[0;32m<ipython-input-16-d9216e025827>\u001b[0m in \u001b[0;36m<module>\u001b[0;34m()\u001b[0m\n\u001b[1;32m      5\u001b[0m     \u001b[0;31m#batch_size=3028,\u001b[0m\u001b[0;34m\u001b[0m\u001b[0;34m\u001b[0m\u001b[0m\n\u001b[1;32m      6\u001b[0m     \u001b[0mepochs\u001b[0m\u001b[0;34m=\u001b[0m\u001b[0;36m3\u001b[0m\u001b[0;34m,\u001b[0m\u001b[0;34m\u001b[0m\u001b[0m\n\u001b[0;32m----> 7\u001b[0;31m     validation_split=0.3)\n\u001b[0m",
      "\u001b[0;32m~/anaconda/envs/keras_tf/lib/python3.6/site-packages/keras/models.py\u001b[0m in \u001b[0;36mfit\u001b[0;34m(self, x, y, batch_size, epochs, verbose, callbacks, validation_split, validation_data, shuffle, class_weight, sample_weight, initial_epoch, **kwargs)\u001b[0m\n\u001b[1;32m    861\u001b[0m                               \u001b[0mclass_weight\u001b[0m\u001b[0;34m=\u001b[0m\u001b[0mclass_weight\u001b[0m\u001b[0;34m,\u001b[0m\u001b[0;34m\u001b[0m\u001b[0m\n\u001b[1;32m    862\u001b[0m                               \u001b[0msample_weight\u001b[0m\u001b[0;34m=\u001b[0m\u001b[0msample_weight\u001b[0m\u001b[0;34m,\u001b[0m\u001b[0;34m\u001b[0m\u001b[0m\n\u001b[0;32m--> 863\u001b[0;31m                               initial_epoch=initial_epoch)\n\u001b[0m\u001b[1;32m    864\u001b[0m \u001b[0;34m\u001b[0m\u001b[0m\n\u001b[1;32m    865\u001b[0m     def evaluate(self, x, y, batch_size=32, verbose=1,\n",
      "\u001b[0;32m~/anaconda/envs/keras_tf/lib/python3.6/site-packages/keras/engine/training.py\u001b[0m in \u001b[0;36mfit\u001b[0;34m(self, x, y, batch_size, epochs, verbose, callbacks, validation_split, validation_data, shuffle, class_weight, sample_weight, initial_epoch, **kwargs)\u001b[0m\n\u001b[1;32m   1356\u001b[0m             \u001b[0mclass_weight\u001b[0m\u001b[0;34m=\u001b[0m\u001b[0mclass_weight\u001b[0m\u001b[0;34m,\u001b[0m\u001b[0;34m\u001b[0m\u001b[0m\n\u001b[1;32m   1357\u001b[0m             \u001b[0mcheck_batch_axis\u001b[0m\u001b[0;34m=\u001b[0m\u001b[0;32mFalse\u001b[0m\u001b[0;34m,\u001b[0m\u001b[0;34m\u001b[0m\u001b[0m\n\u001b[0;32m-> 1358\u001b[0;31m             batch_size=batch_size)\n\u001b[0m\u001b[1;32m   1359\u001b[0m         \u001b[0;31m# Prepare validation data.\u001b[0m\u001b[0;34m\u001b[0m\u001b[0;34m\u001b[0m\u001b[0m\n\u001b[1;32m   1360\u001b[0m         \u001b[0;32mif\u001b[0m \u001b[0mvalidation_data\u001b[0m\u001b[0;34m:\u001b[0m\u001b[0;34m\u001b[0m\u001b[0m\n",
      "\u001b[0;32m~/anaconda/envs/keras_tf/lib/python3.6/site-packages/keras/engine/training.py\u001b[0m in \u001b[0;36m_standardize_user_data\u001b[0;34m(self, x, y, sample_weight, class_weight, check_batch_axis, batch_size)\u001b[0m\n\u001b[1;32m   1232\u001b[0m                                     \u001b[0mself\u001b[0m\u001b[0;34m.\u001b[0m\u001b[0m_feed_input_shapes\u001b[0m\u001b[0;34m,\u001b[0m\u001b[0;34m\u001b[0m\u001b[0m\n\u001b[1;32m   1233\u001b[0m                                     \u001b[0mcheck_batch_axis\u001b[0m\u001b[0;34m=\u001b[0m\u001b[0;32mFalse\u001b[0m\u001b[0;34m,\u001b[0m\u001b[0;34m\u001b[0m\u001b[0m\n\u001b[0;32m-> 1234\u001b[0;31m                                     exception_prefix='input')\n\u001b[0m\u001b[1;32m   1235\u001b[0m         y = _standardize_input_data(y, self._feed_output_names,\n\u001b[1;32m   1236\u001b[0m                                     \u001b[0moutput_shapes\u001b[0m\u001b[0;34m,\u001b[0m\u001b[0;34m\u001b[0m\u001b[0m\n",
      "\u001b[0;32m~/anaconda/envs/keras_tf/lib/python3.6/site-packages/keras/engine/training.py\u001b[0m in \u001b[0;36m_standardize_input_data\u001b[0;34m(data, names, shapes, check_batch_axis, exception_prefix)\u001b[0m\n\u001b[1;32m    138\u001b[0m                             \u001b[0;34m' to have shape '\u001b[0m \u001b[0;34m+\u001b[0m \u001b[0mstr\u001b[0m\u001b[0;34m(\u001b[0m\u001b[0mshapes\u001b[0m\u001b[0;34m[\u001b[0m\u001b[0mi\u001b[0m\u001b[0;34m]\u001b[0m\u001b[0;34m)\u001b[0m \u001b[0;34m+\u001b[0m\u001b[0;34m\u001b[0m\u001b[0m\n\u001b[1;32m    139\u001b[0m                             \u001b[0;34m' but got array with shape '\u001b[0m \u001b[0;34m+\u001b[0m\u001b[0;34m\u001b[0m\u001b[0m\n\u001b[0;32m--> 140\u001b[0;31m                             str(array.shape))\n\u001b[0m\u001b[1;32m    141\u001b[0m     \u001b[0;32mreturn\u001b[0m \u001b[0marrays\u001b[0m\u001b[0;34m\u001b[0m\u001b[0m\n\u001b[1;32m    142\u001b[0m \u001b[0;34m\u001b[0m\u001b[0m\n",
      "\u001b[0;31mValueError\u001b[0m: Error when checking input: expected lstm_2_input to have shape (None, None, 1) but got array with shape (5050, 90, 16)"
     ]
    }
   ],
   "source": [
    "##### Step 3 Train the model\n",
    "model.fit(\n",
    "    x_train,\n",
    "    y_train,\n",
    "    #batch_size=3028,\n",
    "    epochs=3,\n",
    "    validation_split=0.3)"
   ]
  },
  {
   "cell_type": "code",
   "execution_count": 19,
   "metadata": {
    "collapsed": true
   },
   "outputs": [],
   "source": [
    "model.save('lstm_astc.h5')"
   ]
  },
  {
   "cell_type": "code",
   "execution_count": 23,
   "metadata": {
    "scrolled": true
   },
   "outputs": [
    {
     "data": {
      "image/png": "[encoded data removed]",
      "text/plain": [
       "<matplotlib.figure.Figure at 0x1318d2c88>"
      ]
     },
     "metadata": {},
     "output_type": "display_data"
    }
   ],
   "source": [
    "#Step 4 - Plot the predictions!\n",
    "predictions = lstm.predict_sequences_multiple(model, x_test, 90, 90)\n",
    "lstm.plot_results_multiple(predictions, y_test, 90)"
   ]
  },
  {
   "cell_type": "code",
   "execution_count": 14,
   "metadata": {},
   "outputs": [
    {
     "ename": "NameError",
     "evalue": "name 'lstm' is not defined",
     "output_type": "error",
     "traceback": [
      "\u001b[1;31m---------------------------------------------------------------------------\u001b[0m",
      "\u001b[1;31mNameError\u001b[0m                                 Traceback (most recent call last)",
      "\u001b[1;32m<ipython-input-14-da82028462dc>\u001b[0m in \u001b[0;36m<module>\u001b[1;34m()\u001b[0m\n\u001b[1;32m----> 1\u001b[1;33m \u001b[0mpredictions\u001b[0m \u001b[1;33m=\u001b[0m \u001b[0mlstm\u001b[0m\u001b[1;33m.\u001b[0m\u001b[0mpredict_point_by_point\u001b[0m\u001b[1;33m(\u001b[0m\u001b[0mmodel\u001b[0m\u001b[1;33m,\u001b[0m \u001b[0mx_test\u001b[0m\u001b[1;33m)\u001b[0m\u001b[1;33m\u001b[0m\u001b[0m\n\u001b[0m\u001b[0;32m      2\u001b[0m \u001b[0mlstm\u001b[0m\u001b[1;33m.\u001b[0m\u001b[0mplot_results_multiple\u001b[0m\u001b[1;33m(\u001b[0m\u001b[0mpredictions\u001b[0m\u001b[1;33m,\u001b[0m \u001b[0my_test\u001b[0m\u001b[1;33m,\u001b[0m \u001b[1;36m50\u001b[0m\u001b[1;33m)\u001b[0m\u001b[1;33m\u001b[0m\u001b[0m\n",
      "\u001b[1;31mNameError\u001b[0m: name 'lstm' is not defined"
     ]
    }
   ],
   "source": [
    "predictions = lstm.predict_point_by_point(model, x_test)\n",
    "lstm.plot_results_multiple(predictions, y_test, 50)"
   ]
  },
  {
   "cell_type": "code",
   "execution_count": null,
   "metadata": {
    "collapsed": true
   },
   "outputs": [],
   "source": []
  }
 ],
 "metadata": {
  "kernelspec": {
   "display_name": "Python 3",
   "language": "python",
   "name": "python3"
  },
  "language_info": {
   "codemirror_mode": {
    "name": "ipython",
    "version": 3
   },
   "file_extension": ".py",
   "mimetype": "text/x-python",
   "name": "python",
   "nbconvert_exporter": "python",
   "pygments_lexer": "ipython3",
   "version": "3.6.2"
  },
  "widgets": {
   "state": {},
   "version": "1.1.2"
  }
 },
 "nbformat": 4,
 "nbformat_minor": 2
}
