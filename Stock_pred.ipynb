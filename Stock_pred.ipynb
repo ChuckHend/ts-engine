{
 "cells": [
  {
   "cell_type": "code",
   "execution_count": 3,
   "metadata": {},
   "outputs": [],
   "source": [
    "%matplotlib notebook\n",
    "%matplotlib inline\n",
    "\n",
    "import os\n",
    "import time\n",
    "import datetime as dt\n",
    "import numpy as np\n",
    "from numpy import newaxis\n",
    "import matplotlib.pyplot as plt\n",
    "import processStocks as sdp"
   ]
  },
  {
   "cell_type": "markdown",
   "metadata": {},
   "source": [
    "# Load newest stock data from Yahoo Finance"
   ]
  },
  {
   "cell_type": "code",
   "execution_count": 4,
   "metadata": {},
   "outputs": [
    {
     "data": {
      "text/html": [
       "<div>\n",
       "<style>\n",
       "    .dataframe thead tr:only-child th {\n",
       "        text-align: right;\n",
       "    }\n",
       "\n",
       "    .dataframe thead th {\n",
       "        text-align: left;\n",
       "    }\n",
       "\n",
       "    .dataframe tbody tr th {\n",
       "        vertical-align: top;\n",
       "    }\n",
       "</style>\n",
       "<table border=\"1\" class=\"dataframe\">\n",
       "  <thead>\n",
       "    <tr style=\"text-align: right;\">\n",
       "      <th></th>\n",
       "      <th>Open</th>\n",
       "      <th>High</th>\n",
       "      <th>Low</th>\n",
       "      <th>Close</th>\n",
       "      <th>Adj Close</th>\n",
       "      <th>Volume</th>\n",
       "    </tr>\n",
       "    <tr>\n",
       "      <th>Date</th>\n",
       "      <th></th>\n",
       "      <th></th>\n",
       "      <th></th>\n",
       "      <th></th>\n",
       "      <th></th>\n",
       "      <th></th>\n",
       "    </tr>\n",
       "  </thead>\n",
       "  <tbody>\n",
       "    <tr>\n",
       "      <th>1995-12-21</th>\n",
       "      <td>120.0</td>\n",
       "      <td>125.0</td>\n",
       "      <td>120.0</td>\n",
       "      <td>120.0</td>\n",
       "      <td>120.0</td>\n",
       "      <td>70200.0</td>\n",
       "    </tr>\n",
       "    <tr>\n",
       "      <th>1995-12-22</th>\n",
       "      <td>120.0</td>\n",
       "      <td>122.5</td>\n",
       "      <td>120.0</td>\n",
       "      <td>120.0</td>\n",
       "      <td>120.0</td>\n",
       "      <td>41600.0</td>\n",
       "    </tr>\n",
       "    <tr>\n",
       "      <th>1995-12-26</th>\n",
       "      <td>120.0</td>\n",
       "      <td>122.5</td>\n",
       "      <td>120.0</td>\n",
       "      <td>120.0</td>\n",
       "      <td>120.0</td>\n",
       "      <td>1500.0</td>\n",
       "    </tr>\n",
       "    <tr>\n",
       "      <th>1995-12-27</th>\n",
       "      <td>122.5</td>\n",
       "      <td>122.5</td>\n",
       "      <td>120.0</td>\n",
       "      <td>120.0</td>\n",
       "      <td>120.0</td>\n",
       "      <td>6600.0</td>\n",
       "    </tr>\n",
       "    <tr>\n",
       "      <th>1995-12-28</th>\n",
       "      <td>120.0</td>\n",
       "      <td>122.5</td>\n",
       "      <td>120.0</td>\n",
       "      <td>120.0</td>\n",
       "      <td>120.0</td>\n",
       "      <td>22500.0</td>\n",
       "    </tr>\n",
       "  </tbody>\n",
       "</table>\n",
       "</div>"
      ],
      "text/plain": [
       "             Open   High    Low  Close  Adj Close   Volume\n",
       "Date                                                      \n",
       "1995-12-21  120.0  125.0  120.0  120.0      120.0  70200.0\n",
       "1995-12-22  120.0  122.5  120.0  120.0      120.0  41600.0\n",
       "1995-12-26  120.0  122.5  120.0  120.0      120.0   1500.0\n",
       "1995-12-27  122.5  122.5  120.0  120.0      120.0   6600.0\n",
       "1995-12-28  120.0  122.5  120.0  120.0      120.0  22500.0"
      ]
     },
     "execution_count": 4,
     "metadata": {},
     "output_type": "execute_result"
    }
   ],
   "source": [
    "#load data\n",
    "start = dt.datetime(1995,1,1)\n",
    "end   = dt.date.today()\n",
    "data = pandas_datareader.data.DataReader('ASTC','yahoo',start,end)\n",
    "data.head()"
   ]
  },
  {
   "cell_type": "markdown",
   "metadata": {},
   "source": [
    "# Normalise and Prepozess the data like a boss^12"
   ]
  },
  {
   "cell_type": "code",
   "execution_count": 11,
   "metadata": {},
   "outputs": [
    {
     "data": {
      "text/html": [
       "<div>\n",
       "<style>\n",
       "    .dataframe thead tr:only-child th {\n",
       "        text-align: right;\n",
       "    }\n",
       "\n",
       "    .dataframe thead th {\n",
       "        text-align: left;\n",
       "    }\n",
       "\n",
       "    .dataframe tbody tr th {\n",
       "        vertical-align: top;\n",
       "    }\n",
       "</style>\n",
       "<table border=\"1\" class=\"dataframe\">\n",
       "  <thead>\n",
       "    <tr style=\"text-align: right;\">\n",
       "      <th></th>\n",
       "      <th>Ordinal/1e6</th>\n",
       "      <th>Weekday</th>\n",
       "      <th>Adj Volume</th>\n",
       "      <th>Adj Close</th>\n",
       "      <th>Adj Open</th>\n",
       "      <th>Adj High</th>\n",
       "      <th>Adj Low</th>\n",
       "      <th>Normalised Volume</th>\n",
       "      <th>Normalised Close</th>\n",
       "      <th>Normalised Open</th>\n",
       "      <th>Normalised High</th>\n",
       "      <th>Normalised Low</th>\n",
       "    </tr>\n",
       "    <tr>\n",
       "      <th>Date</th>\n",
       "      <th></th>\n",
       "      <th></th>\n",
       "      <th></th>\n",
       "      <th></th>\n",
       "      <th></th>\n",
       "      <th></th>\n",
       "      <th></th>\n",
       "      <th></th>\n",
       "      <th></th>\n",
       "      <th></th>\n",
       "      <th></th>\n",
       "      <th></th>\n",
       "    </tr>\n",
       "  </thead>\n",
       "  <tbody>\n",
       "    <tr>\n",
       "      <th>1995-12-21</th>\n",
       "      <td>0.728648</td>\n",
       "      <td>3.0</td>\n",
       "      <td>0.006483</td>\n",
       "      <td>1.0</td>\n",
       "      <td>1.000000</td>\n",
       "      <td>1.041667</td>\n",
       "      <td>1.0</td>\n",
       "      <td>0.000000</td>\n",
       "      <td>0.0</td>\n",
       "      <td>0.000000</td>\n",
       "      <td>0.000000</td>\n",
       "      <td>0.0</td>\n",
       "    </tr>\n",
       "    <tr>\n",
       "      <th>1995-12-22</th>\n",
       "      <td>0.728649</td>\n",
       "      <td>4.0</td>\n",
       "      <td>0.003842</td>\n",
       "      <td>1.0</td>\n",
       "      <td>1.000000</td>\n",
       "      <td>1.020833</td>\n",
       "      <td>1.0</td>\n",
       "      <td>-0.996158</td>\n",
       "      <td>0.0</td>\n",
       "      <td>0.000000</td>\n",
       "      <td>0.020833</td>\n",
       "      <td>0.0</td>\n",
       "    </tr>\n",
       "    <tr>\n",
       "      <th>1995-12-26</th>\n",
       "      <td>0.728653</td>\n",
       "      <td>1.0</td>\n",
       "      <td>0.000139</td>\n",
       "      <td>1.0</td>\n",
       "      <td>1.000000</td>\n",
       "      <td>1.020833</td>\n",
       "      <td>1.0</td>\n",
       "      <td>-0.999861</td>\n",
       "      <td>0.0</td>\n",
       "      <td>0.000000</td>\n",
       "      <td>0.020833</td>\n",
       "      <td>0.0</td>\n",
       "    </tr>\n",
       "    <tr>\n",
       "      <th>1995-12-27</th>\n",
       "      <td>0.728654</td>\n",
       "      <td>2.0</td>\n",
       "      <td>0.000609</td>\n",
       "      <td>1.0</td>\n",
       "      <td>1.020833</td>\n",
       "      <td>1.020833</td>\n",
       "      <td>1.0</td>\n",
       "      <td>-0.999391</td>\n",
       "      <td>0.0</td>\n",
       "      <td>0.020833</td>\n",
       "      <td>0.020833</td>\n",
       "      <td>0.0</td>\n",
       "    </tr>\n",
       "    <tr>\n",
       "      <th>1995-12-28</th>\n",
       "      <td>0.728655</td>\n",
       "      <td>3.0</td>\n",
       "      <td>0.002078</td>\n",
       "      <td>1.0</td>\n",
       "      <td>1.000000</td>\n",
       "      <td>1.020833</td>\n",
       "      <td>1.0</td>\n",
       "      <td>-0.997922</td>\n",
       "      <td>0.0</td>\n",
       "      <td>0.000000</td>\n",
       "      <td>0.020833</td>\n",
       "      <td>0.0</td>\n",
       "    </tr>\n",
       "  </tbody>\n",
       "</table>\n",
       "</div>"
      ],
      "text/plain": [
       "            Ordinal/1e6  Weekday  Adj Volume  Adj Close  Adj Open  Adj High  \\\n",
       "Date                                                                          \n",
       "1995-12-21     0.728648      3.0    0.006483        1.0  1.000000  1.041667   \n",
       "1995-12-22     0.728649      4.0    0.003842        1.0  1.000000  1.020833   \n",
       "1995-12-26     0.728653      1.0    0.000139        1.0  1.000000  1.020833   \n",
       "1995-12-27     0.728654      2.0    0.000609        1.0  1.020833  1.020833   \n",
       "1995-12-28     0.728655      3.0    0.002078        1.0  1.000000  1.020833   \n",
       "\n",
       "            Adj Low  Normalised Volume  Normalised Close  Normalised Open  \\\n",
       "Date                                                                        \n",
       "1995-12-21      1.0           0.000000               0.0         0.000000   \n",
       "1995-12-22      1.0          -0.996158               0.0         0.000000   \n",
       "1995-12-26      1.0          -0.999861               0.0         0.000000   \n",
       "1995-12-27      1.0          -0.999391               0.0         0.020833   \n",
       "1995-12-28      1.0          -0.997922               0.0         0.000000   \n",
       "\n",
       "            Normalised High  Normalised Low  \n",
       "Date                                         \n",
       "1995-12-21         0.000000             0.0  \n",
       "1995-12-22         0.020833             0.0  \n",
       "1995-12-26         0.020833             0.0  \n",
       "1995-12-27         0.020833             0.0  \n",
       "1995-12-28         0.020833             0.0  "
      ]
     },
     "execution_count": 11,
     "metadata": {},
     "output_type": "execute_result"
    }
   ],
   "source": [
    "#normalise data\n",
    "data_n = sdp.normalize_stock_data(data)\n",
    "data_n.head()"
   ]
  },
  {
   "cell_type": "markdown",
   "metadata": {},
   "source": [
    "# 1,2,3 Plot Line!"
   ]
  },
  {
   "cell_type": "code",
   "execution_count": 12,
   "metadata": {},
   "outputs": [
    {
     "data": {
      "image/png": "[encoded data removed]",
      "text/plain": [
       "<matplotlib.figure.Figure at 0x11a1b8978>"
      ]
     },
     "metadata": {},
     "output_type": "display_data"
    }
   ],
   "source": [
    "sdp.stock_plot(data_n)"
   ]
  },
  {
   "cell_type": "markdown",
   "metadata": {},
   "source": [
    "# Pickup the Data"
   ]
  },
  {
   "cell_type": "code",
   "execution_count": 13,
   "metadata": {},
   "outputs": [],
   "source": [
    "# training data\n",
    "prediction_time = 1 #day\n",
    "testdatasize = 450\n",
    "unroll_length = 50\n",
    "testdatacut = testdatasize + unroll_length  + 1\n",
    "\n",
    "x_train = data_n[0:-prediction_time-testdatacut].as_matrix()\n",
    "y_train = data_n[prediction_time:-testdatacut  ]['Normalised Close'].as_matrix()\n",
    "\n",
    "# test data\n",
    "x_test = data_n[0-testdatacut:-prediction_time].as_matrix()\n",
    "y_test = data_n[prediction_time-testdatacut:  ]['Normalised Close'].as_matrix()\n",
    "\n"
   ]
  },
  {
   "cell_type": "code",
   "execution_count": 14,
   "metadata": {},
   "outputs": [
    {
     "data": {
      "text/plain": [
       "array([[  7.28648000e-01,   3.00000000e+00,   6.48283250e-03, ...,\n",
       "          0.00000000e+00,   0.00000000e+00,   0.00000000e+00],\n",
       "       [  7.28649000e-01,   4.00000000e+00,   3.84167852e-03, ...,\n",
       "          0.00000000e+00,   2.08333333e-02,   0.00000000e+00],\n",
       "       [  7.28653000e-01,   1.00000000e+00,   1.38522062e-04, ...,\n",
       "          0.00000000e+00,   2.08333333e-02,   0.00000000e+00],\n",
       "       ..., \n",
       "       [  7.35849000e-01,   1.00000000e+00,   2.64115398e-03, ...,\n",
       "          0.00000000e+00,   1.76211454e-02,  -6.16740088e-02],\n",
       "       [  7.35850000e-01,   2.00000000e+00,   1.03429806e-03, ...,\n",
       "          1.75438596e-02,   1.75438596e-02,  -1.31578947e-02],\n",
       "       [  7.35851000e-01,   3.00000000e+00,   2.65038879e-03, ...,\n",
       "          2.22222222e-02,   5.33333333e-02,   1.33333333e-02]])"
      ]
     },
     "execution_count": 14,
     "metadata": {},
     "output_type": "execute_result"
    }
   ],
   "source": [
    "x_train"
   ]
  },
  {
   "cell_type": "markdown",
   "metadata": {},
   "source": [
    "# unroll it"
   ]
  },
  {
   "cell_type": "code",
   "execution_count": 15,
   "metadata": {},
   "outputs": [
    {
     "name": "stdout",
     "output_type": "stream",
     "text": [
      "x_train (4914, 50, 12)\n",
      "y_train (4914,)\n",
      "x_test (450, 50, 12)\n",
      "y_test (450,)\n"
     ]
    }
   ],
   "source": [
    "def unroll(data,sequence_length=24):\n",
    "    result = []\n",
    "    for index in range(len(data) - sequence_length):\n",
    "        result.append(data[index: index + sequence_length])\n",
    "    return np.asarray(result)\n",
    "\n",
    "\n",
    "x_train = unroll(x_train,unroll_length)\n",
    "x_test  = unroll(x_test,unroll_length)\n",
    "y_train = y_train[-x_train.shape[0]:]\n",
    "y_test  = y_test[-x_test.shape[0]:]\n",
    "\n",
    "\n",
    "print(\"x_train\", x_train.shape)\n",
    "print(\"y_train\", y_train.shape)\n",
    "print(\"x_test\", x_test.shape)\n",
    "print(\"y_test\", y_test.shape)"
   ]
  },
  {
   "cell_type": "code",
   "execution_count": 32,
   "metadata": {},
   "outputs": [
    {
     "data": {
      "text/plain": [
       "array([ 0.72866   ,  1.        ,  0.00160686,  1.01041667,  1.        ,\n",
       "        1.04166667,  1.        , -0.99842594, -0.01020408, -0.02040816,\n",
       "        0.02040816, -0.02040816])"
      ]
     },
     "execution_count": 32,
     "metadata": {},
     "output_type": "execute_result"
    }
   ],
   "source": [
    "x_train[1, 5]"
   ]
  },
  {
   "cell_type": "markdown",
   "metadata": {},
   "source": [
    "# Go! (with Python 3.5, Keras 1.2.2 and Tensorflow 1.0, better on AWS)"
   ]
  },
  {
   "cell_type": "code",
   "execution_count": 34,
   "metadata": {},
   "outputs": [
    {
     "name": "stderr",
     "output_type": "stream",
     "text": [
      "Using TensorFlow backend.\n"
     ]
    }
   ],
   "source": [
    "from keras.layers.core import Dense, Activation, Dropout\n",
    "from keras.layers.recurrent import LSTM\n",
    "from keras.models import Sequential\n",
    "import lstm, time #helper libraries"
   ]
  },
  {
   "cell_type": "code",
   "execution_count": 35,
   "metadata": {},
   "outputs": [
    {
     "data": {
      "text/plain": [
       "(4914, 50, 12)"
      ]
     },
     "execution_count": 35,
     "metadata": {},
     "output_type": "execute_result"
    }
   ],
   "source": [
    "x_train.shape"
   ]
  },
  {
   "cell_type": "code",
   "execution_count": 36,
   "metadata": {},
   "outputs": [
    {
     "name": "stdout",
     "output_type": "stream",
     "text": [
      "compilation time : 0.013993978500366211\n"
     ]
    }
   ],
   "source": [
    "#Step 2 Build Model\n",
    "model = Sequential()\n",
    "\n",
    "model.add(LSTM(\n",
    "    input_shape=(None, x_train.shape[-1]),\n",
    "    units =50,\n",
    "    return_sequences=True))\n",
    "model.add(Dropout(0.2))\n",
    "\n",
    "model.add(LSTM(\n",
    "    100,\n",
    "    return_sequences=False))\n",
    "model.add(Dropout(0.2))\n",
    "\n",
    "model.add(Dense(\n",
    "    units=1))\n",
    "model.add(Activation('linear'))\n",
    "\n",
    "start = time.time()\n",
    "model.compile(loss='mse', optimizer='rmsprop')\n",
    "print('compilation time : {}'.format(time.time() - start))"
   ]
  },
  {
   "cell_type": "code",
   "execution_count": 41,
   "metadata": {},
   "outputs": [
    {
     "data": {
      "text/plain": [
       "[{'class_name': 'LSTM',\n",
       "  'config': {'activation': 'tanh',\n",
       "   'activity_regularizer': None,\n",
       "   'batch_input_shape': (None, None, 12),\n",
       "   'bias_constraint': None,\n",
       "   'bias_initializer': {'class_name': 'Zeros', 'config': {}},\n",
       "   'bias_regularizer': None,\n",
       "   'dropout': 0.0,\n",
       "   'dtype': 'float32',\n",
       "   'go_backwards': False,\n",
       "   'implementation': 0,\n",
       "   'kernel_constraint': None,\n",
       "   'kernel_initializer': {'class_name': 'VarianceScaling',\n",
       "    'config': {'distribution': 'uniform',\n",
       "     'mode': 'fan_avg',\n",
       "     'scale': 1.0,\n",
       "     'seed': None}},\n",
       "   'kernel_regularizer': None,\n",
       "   'name': 'lstm_1',\n",
       "   'recurrent_activation': 'hard_sigmoid',\n",
       "   'recurrent_constraint': None,\n",
       "   'recurrent_dropout': 0.0,\n",
       "   'recurrent_initializer': {'class_name': 'Orthogonal',\n",
       "    'config': {'gain': 1.0, 'seed': None}},\n",
       "   'recurrent_regularizer': None,\n",
       "   'return_sequences': True,\n",
       "   'return_state': False,\n",
       "   'stateful': False,\n",
       "   'trainable': True,\n",
       "   'unit_forget_bias': True,\n",
       "   'units': 50,\n",
       "   'unroll': False,\n",
       "   'use_bias': True}},\n",
       " {'class_name': 'Dropout',\n",
       "  'config': {'name': 'dropout_1', 'rate': 0.2, 'trainable': True}},\n",
       " {'class_name': 'LSTM',\n",
       "  'config': {'activation': 'tanh',\n",
       "   'activity_regularizer': None,\n",
       "   'bias_constraint': None,\n",
       "   'bias_initializer': {'class_name': 'Zeros', 'config': {}},\n",
       "   'bias_regularizer': None,\n",
       "   'dropout': 0.0,\n",
       "   'go_backwards': False,\n",
       "   'implementation': 0,\n",
       "   'kernel_constraint': None,\n",
       "   'kernel_initializer': {'class_name': 'VarianceScaling',\n",
       "    'config': {'distribution': 'uniform',\n",
       "     'mode': 'fan_avg',\n",
       "     'scale': 1.0,\n",
       "     'seed': None}},\n",
       "   'kernel_regularizer': None,\n",
       "   'name': 'lstm_2',\n",
       "   'recurrent_activation': 'hard_sigmoid',\n",
       "   'recurrent_constraint': None,\n",
       "   'recurrent_dropout': 0.0,\n",
       "   'recurrent_initializer': {'class_name': 'Orthogonal',\n",
       "    'config': {'gain': 1.0, 'seed': None}},\n",
       "   'recurrent_regularizer': None,\n",
       "   'return_sequences': False,\n",
       "   'return_state': False,\n",
       "   'stateful': False,\n",
       "   'trainable': True,\n",
       "   'unit_forget_bias': True,\n",
       "   'units': 100,\n",
       "   'unroll': False,\n",
       "   'use_bias': True}},\n",
       " {'class_name': 'Dropout',\n",
       "  'config': {'name': 'dropout_2', 'rate': 0.2, 'trainable': True}},\n",
       " {'class_name': 'Dense',\n",
       "  'config': {'activation': 'linear',\n",
       "   'activity_regularizer': None,\n",
       "   'bias_constraint': None,\n",
       "   'bias_initializer': {'class_name': 'Zeros', 'config': {}},\n",
       "   'bias_regularizer': None,\n",
       "   'kernel_constraint': None,\n",
       "   'kernel_initializer': {'class_name': 'VarianceScaling',\n",
       "    'config': {'distribution': 'uniform',\n",
       "     'mode': 'fan_avg',\n",
       "     'scale': 1.0,\n",
       "     'seed': None}},\n",
       "   'kernel_regularizer': None,\n",
       "   'name': 'dense_1',\n",
       "   'trainable': True,\n",
       "   'units': 1,\n",
       "   'use_bias': True}},\n",
       " {'class_name': 'Activation',\n",
       "  'config': {'activation': 'linear',\n",
       "   'name': 'activation_1',\n",
       "   'trainable': True}}]"
      ]
     },
     "execution_count": 41,
     "metadata": {},
     "output_type": "execute_result"
    }
   ],
   "source": [
    "model.get_config()"
   ]
  },
  {
   "cell_type": "code",
   "execution_count": 37,
   "metadata": {},
   "outputs": [
    {
     "name": "stdout",
     "output_type": "stream",
     "text": [
      "Train on 4665 samples, validate on 246 samples\n",
      "Epoch 1/50\n",
      "4665/4665 [==============================] - 15s - loss: 0.1265 - val_loss: 0.0030\n",
      "Epoch 2/50\n",
      "4665/4665 [==============================] - 12s - loss: 0.0082 - val_loss: 0.0012\n",
      "Epoch 3/50\n",
      "4665/4665 [==============================] - 12s - loss: 0.0072 - val_loss: 0.0012\n",
      "Epoch 4/50\n",
      "4665/4665 [==============================] - 12s - loss: 0.0069 - val_loss: 0.0011\n",
      "Epoch 5/50\n",
      "4665/4665 [==============================] - 12s - loss: 0.0069 - val_loss: 0.0012\n",
      "Epoch 6/50\n",
      "4665/4665 [==============================] - 12s - loss: 0.0065 - val_loss: 0.0012\n",
      "Epoch 7/50\n",
      "4665/4665 [==============================] - 12s - loss: 0.0066 - val_loss: 0.0011\n",
      "Epoch 8/50\n",
      "4665/4665 [==============================] - 12s - loss: 0.0066 - val_loss: 0.0012\n",
      "Epoch 9/50\n",
      "4665/4665 [==============================] - 12s - loss: 0.0064 - val_loss: 0.0012\n",
      "Epoch 10/50\n",
      "4665/4665 [==============================] - 12s - loss: 0.0066 - val_loss: 0.0012\n",
      "Epoch 11/50\n",
      "4665/4665 [==============================] - 12s - loss: 0.0064 - val_loss: 0.0020\n",
      "Epoch 12/50\n",
      "4665/4665 [==============================] - 12s - loss: 0.0073 - val_loss: 0.0050\n",
      "Epoch 13/50\n",
      "4665/4665 [==============================] - 12s - loss: 0.0098 - val_loss: 0.0054\n",
      "Epoch 14/50\n",
      "4665/4665 [==============================] - 12s - loss: 0.0092 - val_loss: 0.0024\n",
      "Epoch 15/50\n",
      "4665/4665 [==============================] - 13s - loss: 0.0069 - val_loss: 0.0016\n",
      "Epoch 16/50\n",
      "4665/4665 [==============================] - 12s - loss: 0.0063 - val_loss: 0.0016\n",
      "Epoch 17/50\n",
      "4665/4665 [==============================] - 12s - loss: 0.0062 - val_loss: 0.0016\n",
      "Epoch 18/50\n",
      "4665/4665 [==============================] - 12s - loss: 0.0063 - val_loss: 0.0022\n",
      "Epoch 19/50\n",
      "4665/4665 [==============================] - 12s - loss: 0.0068 - val_loss: 0.0035\n",
      "Epoch 20/50\n",
      "4665/4665 [==============================] - 12s - loss: 0.0081 - val_loss: 0.0051\n",
      "Epoch 21/50\n",
      "4665/4665 [==============================] - 12s - loss: 0.0088 - val_loss: 0.0029\n",
      "Epoch 22/50\n",
      "4665/4665 [==============================] - 12s - loss: 0.0068 - val_loss: 0.0017\n",
      "Epoch 23/50\n",
      "4665/4665 [==============================] - 12s - loss: 0.0060 - val_loss: 0.0015\n",
      "Epoch 24/50\n",
      "4665/4665 [==============================] - 12s - loss: 0.0059 - val_loss: 0.0015\n",
      "Epoch 25/50\n",
      "4665/4665 [==============================] - 12s - loss: 0.0058 - val_loss: 0.0018\n",
      "Epoch 26/50\n",
      "4665/4665 [==============================] - 12s - loss: 0.0061 - val_loss: 0.0025\n",
      "Epoch 27/50\n",
      "4665/4665 [==============================] - 12s - loss: 0.0067 - val_loss: 0.0033\n",
      "Epoch 28/50\n",
      "4665/4665 [==============================] - 12s - loss: 0.0073 - val_loss: 0.0028\n",
      "Epoch 29/50\n",
      "4665/4665 [==============================] - 13s - loss: 0.0068 - val_loss: 0.0018\n",
      "Epoch 30/50\n",
      "4665/4665 [==============================] - 12s - loss: 0.0057 - val_loss: 0.0013\n",
      "Epoch 31/50\n",
      "4665/4665 [==============================] - 12s - loss: 0.0054 - val_loss: 0.0014\n",
      "Epoch 32/50\n",
      "4665/4665 [==============================] - 12s - loss: 0.0055 - val_loss: 0.0018\n",
      "Epoch 33/50\n",
      "4665/4665 [==============================] - 12s - loss: 0.0059 - val_loss: 0.0027\n",
      "Epoch 34/50\n",
      "4665/4665 [==============================] - 12s - loss: 0.0067 - val_loss: 0.0024\n",
      "Epoch 35/50\n",
      "4665/4665 [==============================] - 12s - loss: 0.0061 - val_loss: 0.0016\n",
      "Epoch 36/50\n",
      "4665/4665 [==============================] - 12s - loss: 0.0055 - val_loss: 0.0013\n",
      "Epoch 37/50\n",
      "4665/4665 [==============================] - 13s - loss: 0.0053 - val_loss: 0.0013\n",
      "Epoch 38/50\n",
      "4665/4665 [==============================] - 12s - loss: 0.0052 - val_loss: 0.0012\n",
      "Epoch 39/50\n",
      "4665/4665 [==============================] - 12s - loss: 0.0053 - val_loss: 0.0013\n",
      "Epoch 40/50\n",
      "4665/4665 [==============================] - 13s - loss: 0.0053 - val_loss: 0.0020\n",
      "Epoch 41/50\n",
      "4665/4665 [==============================] - 12s - loss: 0.0060 - val_loss: 0.0030\n",
      "Epoch 42/50\n",
      "4665/4665 [==============================] - 12s - loss: 0.0063 - val_loss: 0.0015\n",
      "Epoch 43/50\n",
      "4665/4665 [==============================] - 13s - loss: 0.0054 - val_loss: 0.0013\n",
      "Epoch 44/50\n",
      "4665/4665 [==============================] - 12s - loss: 0.0051 - val_loss: 0.0012\n",
      "Epoch 45/50\n",
      "4665/4665 [==============================] - 12s - loss: 0.0051 - val_loss: 0.0013\n",
      "Epoch 46/50\n",
      "4665/4665 [==============================] - 12s - loss: 0.0051 - val_loss: 0.0013\n",
      "Epoch 47/50\n",
      "4665/4665 [==============================] - 12s - loss: 0.0051 - val_loss: 0.0013\n",
      "Epoch 48/50\n",
      "4665/4665 [==============================] - 12s - loss: 0.0051 - val_loss: 0.0014\n",
      "Epoch 49/50\n",
      "4665/4665 [==============================] - 12s - loss: 0.0052 - val_loss: 0.0020\n",
      "Epoch 50/50\n",
      "4665/4665 [==============================] - 12s - loss: 0.0058 - val_loss: 0.0021\n"
     ]
    },
    {
     "data": {
      "text/plain": [
       "<keras.callbacks.History at 0x1c498595b00>"
      ]
     },
     "execution_count": 37,
     "metadata": {},
     "output_type": "execute_result"
    }
   ],
   "source": [
    "#Step 3 Train the model\n",
    "model.fit(\n",
    "    x_train,\n",
    "    y_train,\n",
    "    batch_size=3028,\n",
    "    epochs=50,\n",
    "    validation_split=0.05)"
   ]
  },
  {
   "cell_type": "code",
   "execution_count": 55,
   "metadata": {
    "collapsed": true
   },
   "outputs": [],
   "source": [
    "model.save('./lstm_model.h5')"
   ]
  },
  {
   "cell_type": "code",
   "execution_count": 50,
   "metadata": {
    "scrolled": true
   },
   "outputs": [
    {
     "name": "stdout",
     "output_type": "stream",
     "text": [
      "yo\n"
     ]
    },
    {
     "data": {
      "image/png": "[encoded data removed]",
      "text/plain": [
       "<matplotlib.figure.Figure at 0x1c4a9b95c50>"
      ]
     },
     "metadata": {},
     "output_type": "display_data"
    }
   ],
   "source": [
    "#Step 4 - Plot the predictions!\n",
    "predictions = lstm.predict_sequences_multiple(model, x_test, 50, 50)\n",
    "lstm.plot_results_multiple(predictions, y_test, 50)"
   ]
  },
  {
   "cell_type": "code",
   "execution_count": 58,
   "metadata": {
    "collapsed": true
   },
   "outputs": [],
   "source": [
    "#Step 4 - Plot the predictions!\n",
    "predictions = lstm.predict_sequence_full(model, x_test, 30)"
   ]
  },
  {
   "cell_type": "code",
   "execution_count": 59,
   "metadata": {},
   "outputs": [
    {
     "name": "stdout",
     "output_type": "stream",
     "text": [
      "yo\n"
     ]
    },
    {
     "ename": "TypeError",
     "evalue": "unsupported operand type(s) for +: 'NoneType' and 'float'",
     "output_type": "error",
     "traceback": [
      "\u001b[1;31m---------------------------------------------------------------------------\u001b[0m",
      "\u001b[1;31mTypeError\u001b[0m                                 Traceback (most recent call last)",
      "\u001b[1;32m<ipython-input-59-2e582c5870b8>\u001b[0m in \u001b[0;36m<module>\u001b[1;34m()\u001b[0m\n\u001b[1;32m----> 1\u001b[1;33m \u001b[0mlstm\u001b[0m\u001b[1;33m.\u001b[0m\u001b[0mplot_results_multiple\u001b[0m\u001b[1;33m(\u001b[0m\u001b[0mpredictions\u001b[0m\u001b[1;33m,\u001b[0m \u001b[0my_test\u001b[0m\u001b[1;33m,\u001b[0m \u001b[1;36m1\u001b[0m\u001b[1;33m)\u001b[0m\u001b[1;33m\u001b[0m\u001b[0m\n\u001b[0m",
      "\u001b[1;32m~\\OneDrive\\Analytics\\Finance\\LSTM_Stock\\lstm.py\u001b[0m in \u001b[0;36mplot_results_multiple\u001b[1;34m(predicted_data, true_data, prediction_len)\u001b[0m\n\u001b[0;32m     19\u001b[0m         \u001b[0mpadding\u001b[0m \u001b[1;33m=\u001b[0m \u001b[1;33m[\u001b[0m\u001b[1;32mNone\u001b[0m \u001b[1;32mfor\u001b[0m \u001b[0mp\u001b[0m \u001b[1;32min\u001b[0m \u001b[0mrange\u001b[0m\u001b[1;33m(\u001b[0m\u001b[0mi\u001b[0m \u001b[1;33m*\u001b[0m \u001b[0mprediction_len\u001b[0m\u001b[1;33m)\u001b[0m\u001b[1;33m]\u001b[0m\u001b[1;33m\u001b[0m\u001b[0m\n\u001b[0;32m     20\u001b[0m         \u001b[0mplt\u001b[0m\u001b[1;33m.\u001b[0m\u001b[0mplot\u001b[0m\u001b[1;33m(\u001b[0m\u001b[0mpadding\u001b[0m \u001b[1;33m+\u001b[0m \u001b[0mdata\u001b[0m\u001b[1;33m,\u001b[0m \u001b[0mlabel\u001b[0m\u001b[1;33m=\u001b[0m\u001b[1;34m'Prediction'\u001b[0m\u001b[1;33m)\u001b[0m\u001b[1;33m\u001b[0m\u001b[0m\n\u001b[1;32m---> 21\u001b[1;33m         \u001b[0mplt\u001b[0m\u001b[1;33m.\u001b[0m\u001b[0mlegend\u001b[0m\u001b[1;33m(\u001b[0m\u001b[1;33m)\u001b[0m\u001b[1;33m\u001b[0m\u001b[0m\n\u001b[0m\u001b[0;32m     22\u001b[0m     \u001b[0mplt\u001b[0m\u001b[1;33m.\u001b[0m\u001b[0mshow\u001b[0m\u001b[1;33m(\u001b[0m\u001b[1;33m)\u001b[0m\u001b[1;33m\u001b[0m\u001b[0m\n\u001b[0;32m     23\u001b[0m \u001b[1;33m\u001b[0m\u001b[0m\n",
      "\u001b[1;31mTypeError\u001b[0m: unsupported operand type(s) for +: 'NoneType' and 'float'"
     ]
    },
    {
     "data": {
      "image/png": "[encoded data removed]",
      "text/plain": [
       "<matplotlib.figure.Figure at 0x1c4a97bb8d0>"
      ]
     },
     "metadata": {},
     "output_type": "display_data"
    }
   ],
   "source": [
    "lstm.plot_results_multiple(predictions, y_test, 1)"
   ]
  },
  {
   "cell_type": "code",
   "execution_count": null,
   "metadata": {
    "collapsed": true
   },
   "outputs": [],
   "source": []
  }
 ],
 "metadata": {
  "kernelspec": {
   "display_name": "Python 3",
   "language": "python",
   "name": "python3"
  },
  "language_info": {
   "codemirror_mode": {
    "name": "ipython",
    "version": 3
   },
   "file_extension": ".py",
   "mimetype": "text/x-python",
   "name": "python",
   "nbconvert_exporter": "python",
   "pygments_lexer": "ipython3",
   "version": "3.6.2"
  },
  "widgets": {
   "state": {},
   "version": "1.1.2"
  }
 },
 "nbformat": 4,
 "nbformat_minor": 2
}
